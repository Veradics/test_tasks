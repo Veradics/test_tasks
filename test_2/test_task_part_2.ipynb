{
 "cells": [
  {
   "cell_type": "markdown",
   "id": "8920e45a",
   "metadata": {},
   "source": [
    "# Тестовое задание на позицию Junior Analyst\n",
    "## Часть 2. Техническое задание\n",
    "В файле «data.xlsx» представлены данные по поступлению денежных средств от клиентов компании N за покупку ее услуг.\n",
    "\n",
    "### Описание данных\n",
    "- `client_id` - ID клиента;\n",
    "- `sum` – сумма денежных средств;\n",
    "- `status` – статус оплаты;\n",
    "- `sale` – менеджер, заключивший сделку;\n",
    "- `new/current` – статус сделки;\n",
    "- `document` – наличие оригинала подписанного договора с клиентом;\n",
    "- `receiving_date` – дата получения оригинала договора"
   ]
  },
  {
   "cell_type": "markdown",
   "id": "a9c83668",
   "metadata": {},
   "source": [
    "### Получение и предобработка данных"
   ]
  },
  {
   "cell_type": "code",
   "execution_count": 1,
   "id": "d2cb858e",
   "metadata": {},
   "outputs": [],
   "source": [
    "# необходимые библиотеки\n",
    "import pandas as pd\n",
    "import numpy as np\n",
    "import seaborn as sns\n",
    "import matplotlib.pyplot as plt"
   ]
  },
  {
   "cell_type": "code",
   "execution_count": 2,
   "id": "9ca16e61",
   "metadata": {},
   "outputs": [
    {
     "data": {
      "text/html": [
       "<div>\n",
       "<style scoped>\n",
       "    .dataframe tbody tr th:only-of-type {\n",
       "        vertical-align: middle;\n",
       "    }\n",
       "\n",
       "    .dataframe tbody tr th {\n",
       "        vertical-align: top;\n",
       "    }\n",
       "\n",
       "    .dataframe thead th {\n",
       "        text-align: right;\n",
       "    }\n",
       "</style>\n",
       "<table border=\"1\" class=\"dataframe\">\n",
       "  <thead>\n",
       "    <tr style=\"text-align: right;\">\n",
       "      <th></th>\n",
       "      <th>client_id</th>\n",
       "      <th>sum</th>\n",
       "      <th>status</th>\n",
       "      <th>sale</th>\n",
       "      <th>new/current</th>\n",
       "      <th>Unnamed: 5</th>\n",
       "      <th>document</th>\n",
       "      <th>receiving_date</th>\n",
       "    </tr>\n",
       "  </thead>\n",
       "  <tbody>\n",
       "    <tr>\n",
       "      <th>0</th>\n",
       "      <td>NaN</td>\n",
       "      <td>NaN</td>\n",
       "      <td>Май 2021</td>\n",
       "      <td>NaN</td>\n",
       "      <td>NaN</td>\n",
       "      <td>NaN</td>\n",
       "      <td>NaN</td>\n",
       "      <td>NaN</td>\n",
       "    </tr>\n",
       "    <tr>\n",
       "      <th>1</th>\n",
       "      <td>6.0</td>\n",
       "      <td>11693.7</td>\n",
       "      <td>ВНУТРЕННИЙ</td>\n",
       "      <td>-</td>\n",
       "      <td>-</td>\n",
       "      <td>NaN</td>\n",
       "      <td>-</td>\n",
       "      <td>-</td>\n",
       "    </tr>\n",
       "    <tr>\n",
       "      <th>2</th>\n",
       "      <td>14.0</td>\n",
       "      <td>5452.7</td>\n",
       "      <td>ОПЛАЧЕНО</td>\n",
       "      <td>Петрова</td>\n",
       "      <td>новая</td>\n",
       "      <td>NaN</td>\n",
       "      <td>оригинал</td>\n",
       "      <td>2021-07-26 00:00:00</td>\n",
       "    </tr>\n",
       "    <tr>\n",
       "      <th>3</th>\n",
       "      <td>15.0</td>\n",
       "      <td>13991.7</td>\n",
       "      <td>ОПЛАЧЕНО</td>\n",
       "      <td>Иванов</td>\n",
       "      <td>текущая</td>\n",
       "      <td>NaN</td>\n",
       "      <td>оригинал</td>\n",
       "      <td>2021-06-08 00:00:00</td>\n",
       "    </tr>\n",
       "    <tr>\n",
       "      <th>4</th>\n",
       "      <td>16.0</td>\n",
       "      <td>719.7</td>\n",
       "      <td>ОПЛАЧЕНО</td>\n",
       "      <td>Иванов</td>\n",
       "      <td>текущая</td>\n",
       "      <td>NaN</td>\n",
       "      <td>оригинал</td>\n",
       "      <td>2021-06-08 00:00:00</td>\n",
       "    </tr>\n",
       "  </tbody>\n",
       "</table>\n",
       "</div>"
      ],
      "text/plain": [
       "   client_id      sum      status     sale new/current  Unnamed: 5  document  \\\n",
       "0        NaN      NaN    Май 2021      NaN         NaN         NaN       NaN   \n",
       "1        6.0  11693.7  ВНУТРЕННИЙ        -           -         NaN         -   \n",
       "2       14.0   5452.7    ОПЛАЧЕНО  Петрова       новая         NaN  оригинал   \n",
       "3       15.0  13991.7    ОПЛАЧЕНО   Иванов     текущая         NaN  оригинал   \n",
       "4       16.0    719.7    ОПЛАЧЕНО   Иванов     текущая         NaN  оригинал   \n",
       "\n",
       "        receiving_date  \n",
       "0                  NaN  \n",
       "1                    -  \n",
       "2  2021-07-26 00:00:00  \n",
       "3  2021-06-08 00:00:00  \n",
       "4  2021-06-08 00:00:00  "
      ]
     },
     "execution_count": 2,
     "metadata": {},
     "output_type": "execute_result"
    }
   ],
   "source": [
    "# данные\n",
    "data = pd.read_excel('data.xlsx')\n",
    "data.head()"
   ]
  },
  {
   "cell_type": "code",
   "execution_count": 3,
   "id": "4bcb818d",
   "metadata": {},
   "outputs": [
    {
     "name": "stdout",
     "output_type": "stream",
     "text": [
      "<class 'pandas.core.frame.DataFrame'>\n",
      "RangeIndex: 730 entries, 0 to 729\n",
      "Data columns (total 8 columns):\n",
      " #   Column          Non-Null Count  Dtype  \n",
      "---  ------          --------------  -----  \n",
      " 0   client_id       724 non-null    float64\n",
      " 1   sum             724 non-null    float64\n",
      " 2   status          730 non-null    object \n",
      " 3   sale            724 non-null    object \n",
      " 4   new/current     724 non-null    object \n",
      " 5   Unnamed: 5      0 non-null      float64\n",
      " 6   document        709 non-null    object \n",
      " 7   receiving_date  607 non-null    object \n",
      "dtypes: float64(3), object(5)\n",
      "memory usage: 45.8+ KB\n"
     ]
    }
   ],
   "source": [
    "data.info()"
   ]
  },
  {
   "cell_type": "markdown",
   "id": "5c5cf5c2",
   "metadata": {},
   "source": [
    "Сначала необходимо привести данные в минимальный порядок. В частности, перенести наименование отчетного периода (месяц год) из столбца *status* в пустующую колонку *Unnamed: 5*. Но перед этим ее необходимо переименовать:"
   ]
  },
  {
   "cell_type": "code",
   "execution_count": 4,
   "id": "cb06a97a",
   "metadata": {},
   "outputs": [],
   "source": [
    "data = data.rename(columns={'Unnamed: 5': 'period'})"
   ]
  },
  {
   "cell_type": "markdown",
   "id": "2963a22c",
   "metadata": {},
   "source": [
    "Выделить информацию о периоде из столбца *status* можно по столбцу *client_id*. Пропуски в нем содержатся только в нужных строках."
   ]
  },
  {
   "cell_type": "code",
   "execution_count": 5,
   "id": "47717afe",
   "metadata": {},
   "outputs": [
    {
     "data": {
      "text/html": [
       "<div>\n",
       "<style scoped>\n",
       "    .dataframe tbody tr th:only-of-type {\n",
       "        vertical-align: middle;\n",
       "    }\n",
       "\n",
       "    .dataframe tbody tr th {\n",
       "        vertical-align: top;\n",
       "    }\n",
       "\n",
       "    .dataframe thead th {\n",
       "        text-align: right;\n",
       "    }\n",
       "</style>\n",
       "<table border=\"1\" class=\"dataframe\">\n",
       "  <thead>\n",
       "    <tr style=\"text-align: right;\">\n",
       "      <th></th>\n",
       "      <th>client_id</th>\n",
       "      <th>sum</th>\n",
       "      <th>status</th>\n",
       "      <th>sale</th>\n",
       "      <th>new/current</th>\n",
       "      <th>period</th>\n",
       "      <th>document</th>\n",
       "      <th>receiving_date</th>\n",
       "    </tr>\n",
       "  </thead>\n",
       "  <tbody>\n",
       "    <tr>\n",
       "      <th>0</th>\n",
       "      <td>NaN</td>\n",
       "      <td>NaN</td>\n",
       "      <td>Май 2021</td>\n",
       "      <td>NaN</td>\n",
       "      <td>NaN</td>\n",
       "      <td>NaN</td>\n",
       "      <td>NaN</td>\n",
       "      <td>NaN</td>\n",
       "    </tr>\n",
       "    <tr>\n",
       "      <th>129</th>\n",
       "      <td>NaN</td>\n",
       "      <td>NaN</td>\n",
       "      <td>Июнь 2021</td>\n",
       "      <td>NaN</td>\n",
       "      <td>NaN</td>\n",
       "      <td>NaN</td>\n",
       "      <td>NaN</td>\n",
       "      <td>NaN</td>\n",
       "    </tr>\n",
       "    <tr>\n",
       "      <th>258</th>\n",
       "      <td>NaN</td>\n",
       "      <td>NaN</td>\n",
       "      <td>Июль 2021</td>\n",
       "      <td>NaN</td>\n",
       "      <td>NaN</td>\n",
       "      <td>NaN</td>\n",
       "      <td>NaN</td>\n",
       "      <td>NaN</td>\n",
       "    </tr>\n",
       "    <tr>\n",
       "      <th>369</th>\n",
       "      <td>NaN</td>\n",
       "      <td>NaN</td>\n",
       "      <td>Август 2021</td>\n",
       "      <td>NaN</td>\n",
       "      <td>NaN</td>\n",
       "      <td>NaN</td>\n",
       "      <td>NaN</td>\n",
       "      <td>NaN</td>\n",
       "    </tr>\n",
       "    <tr>\n",
       "      <th>484</th>\n",
       "      <td>NaN</td>\n",
       "      <td>NaN</td>\n",
       "      <td>Сентябрь 2021</td>\n",
       "      <td>NaN</td>\n",
       "      <td>NaN</td>\n",
       "      <td>NaN</td>\n",
       "      <td>NaN</td>\n",
       "      <td>NaN</td>\n",
       "    </tr>\n",
       "    <tr>\n",
       "      <th>594</th>\n",
       "      <td>NaN</td>\n",
       "      <td>NaN</td>\n",
       "      <td>Октябрь 2021</td>\n",
       "      <td>NaN</td>\n",
       "      <td>NaN</td>\n",
       "      <td>NaN</td>\n",
       "      <td>NaN</td>\n",
       "      <td>NaN</td>\n",
       "    </tr>\n",
       "  </tbody>\n",
       "</table>\n",
       "</div>"
      ],
      "text/plain": [
       "     client_id  sum         status sale new/current  period document  \\\n",
       "0          NaN  NaN       Май 2021  NaN         NaN     NaN      NaN   \n",
       "129        NaN  NaN      Июнь 2021  NaN         NaN     NaN      NaN   \n",
       "258        NaN  NaN      Июль 2021  NaN         NaN     NaN      NaN   \n",
       "369        NaN  NaN    Август 2021  NaN         NaN     NaN      NaN   \n",
       "484        NaN  NaN  Сентябрь 2021  NaN         NaN     NaN      NaN   \n",
       "594        NaN  NaN   Октябрь 2021  NaN         NaN     NaN      NaN   \n",
       "\n",
       "    receiving_date  \n",
       "0              NaN  \n",
       "129            NaN  \n",
       "258            NaN  \n",
       "369            NaN  \n",
       "484            NaN  \n",
       "594            NaN  "
      ]
     },
     "execution_count": 5,
     "metadata": {},
     "output_type": "execute_result"
    }
   ],
   "source": [
    "data.query('client_id.isnull()')"
   ]
  },
  {
   "cell_type": "code",
   "execution_count": 6,
   "id": "21f5ceb2",
   "metadata": {},
   "outputs": [],
   "source": [
    "# выделение информации о периоде из *status* в *period*\n",
    "data.loc[0:129, 'period'] = data.loc[0:129, 'period'].fillna('Май 2021')\n",
    "data.loc[129:258, 'period'] = data.loc[129:258, 'period'].fillna('Июнь 2021')\n",
    "data.loc[258:369, 'period'] = data.loc[258:369, 'period'].fillna('Июль 2021')\n",
    "data.loc[369:484, 'period'] = data.loc[369:484, 'period'].fillna('Август 2021')\n",
    "data.loc[484:594, 'period'] = data.loc[484:594, 'period'].fillna('Сентябрь 2021')\n",
    "data.loc[594:730, 'period'] = data.loc[594:730, 'period'].fillna('Октябрь 2021')"
   ]
  },
  {
   "cell_type": "code",
   "execution_count": 7,
   "id": "30bed9c8",
   "metadata": {},
   "outputs": [
    {
     "data": {
      "text/html": [
       "<div>\n",
       "<style scoped>\n",
       "    .dataframe tbody tr th:only-of-type {\n",
       "        vertical-align: middle;\n",
       "    }\n",
       "\n",
       "    .dataframe tbody tr th {\n",
       "        vertical-align: top;\n",
       "    }\n",
       "\n",
       "    .dataframe thead th {\n",
       "        text-align: right;\n",
       "    }\n",
       "</style>\n",
       "<table border=\"1\" class=\"dataframe\">\n",
       "  <thead>\n",
       "    <tr style=\"text-align: right;\">\n",
       "      <th></th>\n",
       "      <th>client_id</th>\n",
       "      <th>sum</th>\n",
       "      <th>status</th>\n",
       "      <th>sale</th>\n",
       "      <th>new/current</th>\n",
       "      <th>period</th>\n",
       "      <th>document</th>\n",
       "      <th>receiving_date</th>\n",
       "    </tr>\n",
       "  </thead>\n",
       "  <tbody>\n",
       "    <tr>\n",
       "      <th>1</th>\n",
       "      <td>6.0</td>\n",
       "      <td>11693.7</td>\n",
       "      <td>ВНУТРЕННИЙ</td>\n",
       "      <td>-</td>\n",
       "      <td>-</td>\n",
       "      <td>Май 2021</td>\n",
       "      <td>-</td>\n",
       "      <td>-</td>\n",
       "    </tr>\n",
       "    <tr>\n",
       "      <th>2</th>\n",
       "      <td>14.0</td>\n",
       "      <td>5452.7</td>\n",
       "      <td>ОПЛАЧЕНО</td>\n",
       "      <td>Петрова</td>\n",
       "      <td>новая</td>\n",
       "      <td>Май 2021</td>\n",
       "      <td>оригинал</td>\n",
       "      <td>2021-07-26 00:00:00</td>\n",
       "    </tr>\n",
       "    <tr>\n",
       "      <th>3</th>\n",
       "      <td>15.0</td>\n",
       "      <td>13991.7</td>\n",
       "      <td>ОПЛАЧЕНО</td>\n",
       "      <td>Иванов</td>\n",
       "      <td>текущая</td>\n",
       "      <td>Май 2021</td>\n",
       "      <td>оригинал</td>\n",
       "      <td>2021-06-08 00:00:00</td>\n",
       "    </tr>\n",
       "    <tr>\n",
       "      <th>4</th>\n",
       "      <td>16.0</td>\n",
       "      <td>719.7</td>\n",
       "      <td>ОПЛАЧЕНО</td>\n",
       "      <td>Иванов</td>\n",
       "      <td>текущая</td>\n",
       "      <td>Май 2021</td>\n",
       "      <td>оригинал</td>\n",
       "      <td>2021-06-08 00:00:00</td>\n",
       "    </tr>\n",
       "    <tr>\n",
       "      <th>5</th>\n",
       "      <td>18.0</td>\n",
       "      <td>4253.7</td>\n",
       "      <td>ОПЛАЧЕНО</td>\n",
       "      <td>Иванов</td>\n",
       "      <td>текущая</td>\n",
       "      <td>Май 2021</td>\n",
       "      <td>оригинал</td>\n",
       "      <td>2021-07-07 00:00:00</td>\n",
       "    </tr>\n",
       "  </tbody>\n",
       "</table>\n",
       "</div>"
      ],
      "text/plain": [
       "   client_id      sum      status     sale new/current    period  document  \\\n",
       "1        6.0  11693.7  ВНУТРЕННИЙ        -           -  Май 2021         -   \n",
       "2       14.0   5452.7    ОПЛАЧЕНО  Петрова       новая  Май 2021  оригинал   \n",
       "3       15.0  13991.7    ОПЛАЧЕНО   Иванов     текущая  Май 2021  оригинал   \n",
       "4       16.0    719.7    ОПЛАЧЕНО   Иванов     текущая  Май 2021  оригинал   \n",
       "5       18.0   4253.7    ОПЛАЧЕНО   Иванов     текущая  Май 2021  оригинал   \n",
       "\n",
       "        receiving_date  \n",
       "1                    -  \n",
       "2  2021-07-26 00:00:00  \n",
       "3  2021-06-08 00:00:00  \n",
       "4  2021-06-08 00:00:00  \n",
       "5  2021-07-07 00:00:00  "
      ]
     },
     "execution_count": 7,
     "metadata": {},
     "output_type": "execute_result"
    }
   ],
   "source": [
    "# удаление ненужных строк\n",
    "data = data.dropna(subset=['client_id'])\n",
    "data.head()"
   ]
  },
  {
   "cell_type": "markdown",
   "id": "aebd583c",
   "metadata": {},
   "source": [
    "Следующий этап предобработки - поиск и замена пропусков. "
   ]
  },
  {
   "cell_type": "code",
   "execution_count": 8,
   "id": "1aea7025",
   "metadata": {},
   "outputs": [
    {
     "data": {
      "text/plain": [
       "client_id           0\n",
       "sum                 0\n",
       "status              0\n",
       "sale                0\n",
       "new/current         0\n",
       "period              0\n",
       "document           15\n",
       "receiving_date    117\n",
       "dtype: int64"
      ]
     },
     "execution_count": 8,
     "metadata": {},
     "output_type": "execute_result"
    }
   ],
   "source": [
    "data.isnull().sum()"
   ]
  },
  {
   "cell_type": "markdown",
   "id": "675581be",
   "metadata": {},
   "source": [
    "Пропущенные значения присутствуют в столбцах *document* и *receiving_date*. "
   ]
  },
  {
   "cell_type": "code",
   "execution_count": 9,
   "id": "e05bbf63",
   "metadata": {},
   "outputs": [
    {
     "data": {
      "text/html": [
       "<div>\n",
       "<style scoped>\n",
       "    .dataframe tbody tr th:only-of-type {\n",
       "        vertical-align: middle;\n",
       "    }\n",
       "\n",
       "    .dataframe tbody tr th {\n",
       "        vertical-align: top;\n",
       "    }\n",
       "\n",
       "    .dataframe thead th {\n",
       "        text-align: right;\n",
       "    }\n",
       "</style>\n",
       "<table border=\"1\" class=\"dataframe\">\n",
       "  <thead>\n",
       "    <tr style=\"text-align: right;\">\n",
       "      <th></th>\n",
       "      <th>client_id</th>\n",
       "      <th>sum</th>\n",
       "      <th>status</th>\n",
       "      <th>sale</th>\n",
       "      <th>new/current</th>\n",
       "      <th>period</th>\n",
       "      <th>document</th>\n",
       "      <th>receiving_date</th>\n",
       "    </tr>\n",
       "  </thead>\n",
       "  <tbody>\n",
       "    <tr>\n",
       "      <th>636</th>\n",
       "      <td>357.0</td>\n",
       "      <td>3753.7</td>\n",
       "      <td>ОПЛАЧЕНО</td>\n",
       "      <td>Михайлов</td>\n",
       "      <td>текущая</td>\n",
       "      <td>Октябрь 2021</td>\n",
       "      <td>НЕТ</td>\n",
       "      <td>NaN</td>\n",
       "    </tr>\n",
       "    <tr>\n",
       "      <th>626</th>\n",
       "      <td>370.0</td>\n",
       "      <td>11453.7</td>\n",
       "      <td>НА ПОДПИСАНИИ</td>\n",
       "      <td>Андреев</td>\n",
       "      <td>новая</td>\n",
       "      <td>Октябрь 2021</td>\n",
       "      <td>НЕТ</td>\n",
       "      <td>NaN</td>\n",
       "    </tr>\n",
       "    <tr>\n",
       "      <th>508</th>\n",
       "      <td>49.0</td>\n",
       "      <td>7203.7</td>\n",
       "      <td>ОПЛАЧЕНО</td>\n",
       "      <td>Петрова</td>\n",
       "      <td>текущая</td>\n",
       "      <td>Сентябрь 2021</td>\n",
       "      <td>НЕТ</td>\n",
       "      <td>NaN</td>\n",
       "    </tr>\n",
       "    <tr>\n",
       "      <th>687</th>\n",
       "      <td>355.0</td>\n",
       "      <td>10358.0</td>\n",
       "      <td>ПРОСРОЧЕНО</td>\n",
       "      <td>Смирнов</td>\n",
       "      <td>новая</td>\n",
       "      <td>Октябрь 2021</td>\n",
       "      <td>НЕТ</td>\n",
       "      <td>NaN</td>\n",
       "    </tr>\n",
       "    <tr>\n",
       "      <th>690</th>\n",
       "      <td>228.0</td>\n",
       "      <td>1603.7</td>\n",
       "      <td>ОПЛАЧЕНО</td>\n",
       "      <td>Смирнов</td>\n",
       "      <td>текущая</td>\n",
       "      <td>Октябрь 2021</td>\n",
       "      <td>NaN</td>\n",
       "      <td>NaN</td>\n",
       "    </tr>\n",
       "  </tbody>\n",
       "</table>\n",
       "</div>"
      ],
      "text/plain": [
       "     client_id      sum         status      sale new/current         period  \\\n",
       "636      357.0   3753.7       ОПЛАЧЕНО  Михайлов     текущая   Октябрь 2021   \n",
       "626      370.0  11453.7  НА ПОДПИСАНИИ   Андреев       новая   Октябрь 2021   \n",
       "508       49.0   7203.7       ОПЛАЧЕНО   Петрова     текущая  Сентябрь 2021   \n",
       "687      355.0  10358.0     ПРОСРОЧЕНО   Смирнов       новая   Октябрь 2021   \n",
       "690      228.0   1603.7       ОПЛАЧЕНО   Смирнов     текущая   Октябрь 2021   \n",
       "\n",
       "    document receiving_date  \n",
       "636      НЕТ            NaN  \n",
       "626      НЕТ            NaN  \n",
       "508      НЕТ            NaN  \n",
       "687      НЕТ            NaN  \n",
       "690      NaN            NaN  "
      ]
     },
     "execution_count": 9,
     "metadata": {},
     "output_type": "execute_result"
    }
   ],
   "source": [
    "# пропуск или там, или там (пример)\n",
    "data.query('receiving_date.isnull() or document.isnull()').sample(5)"
   ]
  },
  {
   "cell_type": "code",
   "execution_count": 10,
   "id": "711623ba",
   "metadata": {},
   "outputs": [
    {
     "data": {
      "text/plain": [
       "array(['НЕТ'], dtype=object)"
      ]
     },
     "execution_count": 10,
     "metadata": {},
     "output_type": "execute_result"
    }
   ],
   "source": [
    "# уникальные значения в столбце *document* при пропуске даты\n",
    "data.query('receiving_date.isnull() and not document.isnull()')['document'].unique()"
   ]
  },
  {
   "cell_type": "code",
   "execution_count": 11,
   "id": "236191d7",
   "metadata": {},
   "outputs": [
    {
     "data": {
      "text/html": [
       "<div>\n",
       "<style scoped>\n",
       "    .dataframe tbody tr th:only-of-type {\n",
       "        vertical-align: middle;\n",
       "    }\n",
       "\n",
       "    .dataframe tbody tr th {\n",
       "        vertical-align: top;\n",
       "    }\n",
       "\n",
       "    .dataframe thead th {\n",
       "        text-align: right;\n",
       "    }\n",
       "</style>\n",
       "<table border=\"1\" class=\"dataframe\">\n",
       "  <thead>\n",
       "    <tr style=\"text-align: right;\">\n",
       "      <th></th>\n",
       "      <th>client_id</th>\n",
       "      <th>sum</th>\n",
       "      <th>status</th>\n",
       "      <th>sale</th>\n",
       "      <th>new/current</th>\n",
       "      <th>period</th>\n",
       "      <th>document</th>\n",
       "      <th>receiving_date</th>\n",
       "    </tr>\n",
       "  </thead>\n",
       "  <tbody>\n",
       "    <tr>\n",
       "      <th>459</th>\n",
       "      <td>256.0</td>\n",
       "      <td>2351.2</td>\n",
       "      <td>ОПЛАЧЕНО</td>\n",
       "      <td>Филимонова</td>\n",
       "      <td>текущая</td>\n",
       "      <td>Август 2021</td>\n",
       "      <td>NaN</td>\n",
       "      <td>NaN</td>\n",
       "    </tr>\n",
       "    <tr>\n",
       "      <th>489</th>\n",
       "      <td>30.0</td>\n",
       "      <td>3833.7</td>\n",
       "      <td>В РАБОТЕ</td>\n",
       "      <td>Филимонова</td>\n",
       "      <td>текущая</td>\n",
       "      <td>Сентябрь 2021</td>\n",
       "      <td>NaN</td>\n",
       "      <td>NaN</td>\n",
       "    </tr>\n",
       "    <tr>\n",
       "      <th>689</th>\n",
       "      <td>228.0</td>\n",
       "      <td>6393.7</td>\n",
       "      <td>ОПЛАЧЕНО</td>\n",
       "      <td>Смирнов</td>\n",
       "      <td>текущая</td>\n",
       "      <td>Октябрь 2021</td>\n",
       "      <td>NaN</td>\n",
       "      <td>NaN</td>\n",
       "    </tr>\n",
       "    <tr>\n",
       "      <th>690</th>\n",
       "      <td>228.0</td>\n",
       "      <td>1603.7</td>\n",
       "      <td>ОПЛАЧЕНО</td>\n",
       "      <td>Смирнов</td>\n",
       "      <td>текущая</td>\n",
       "      <td>Октябрь 2021</td>\n",
       "      <td>NaN</td>\n",
       "      <td>NaN</td>\n",
       "    </tr>\n",
       "  </tbody>\n",
       "</table>\n",
       "</div>"
      ],
      "text/plain": [
       "     client_id     sum    status        sale new/current         period  \\\n",
       "459      256.0  2351.2  ОПЛАЧЕНО  Филимонова     текущая    Август 2021   \n",
       "489       30.0  3833.7  В РАБОТЕ  Филимонова     текущая  Сентябрь 2021   \n",
       "689      228.0  6393.7  ОПЛАЧЕНО     Смирнов     текущая   Октябрь 2021   \n",
       "690      228.0  1603.7  ОПЛАЧЕНО     Смирнов     текущая   Октябрь 2021   \n",
       "\n",
       "    document receiving_date  \n",
       "459      NaN            NaN  \n",
       "489      NaN            NaN  \n",
       "689      NaN            NaN  \n",
       "690      NaN            NaN  "
      ]
     },
     "execution_count": 11,
     "metadata": {},
     "output_type": "execute_result"
    }
   ],
   "source": [
    "# пропуск и там, и там\n",
    "data.query('receiving_date.isnull() and document.isnull()')"
   ]
  },
  {
   "cell_type": "markdown",
   "id": "c1d81cd7",
   "metadata": {},
   "source": [
    "Встречается три варианта: \n",
    "- пропуск в *receiving_date*, но есть значение 'НЕТ' в *document*\n",
    "- пропуск в *document*, но есть значение в *receiving_date*\n",
    "- пропуск и в том, и в другом столбце\n",
    "\n",
    "При этом, в первом варианте пропуск выглядит логично, так как оригинал договора просто не предоставлен. Эти значения заполнять не надо. \n",
    "\n",
    "Во втором варианте указана дата получения оригинала договора, но не указано, предоставлен ли оригинал. В данном случае пропуски в *document* следует заменить на 'оригинал'. \n",
    "\n",
    "В третьем варианте не указано ни то, ни другое. Таких строки всего 4 и все они имеют \"текущий\" тип сделки. Заменить пропуски в данном случае логичным значением не получится."
   ]
  },
  {
   "cell_type": "code",
   "execution_count": 12,
   "id": "8040ae97",
   "metadata": {},
   "outputs": [],
   "source": [
    "# замена по второму варианту\n",
    "data.loc[~data['receiving_date'].isnull(), 'document'] = (\n",
    "    data.loc[~data['receiving_date'].isnull(), 'document'].fillna('оригинал')\n",
    ")"
   ]
  },
  {
   "cell_type": "markdown",
   "id": "d92712f1",
   "metadata": {},
   "source": [
    "Также следует заменить значения \"-\", также являющиеся пропусками, в первой строке на NaN."
   ]
  },
  {
   "cell_type": "code",
   "execution_count": 13,
   "id": "6c72687a",
   "metadata": {},
   "outputs": [
    {
     "data": {
      "text/html": [
       "<div>\n",
       "<style scoped>\n",
       "    .dataframe tbody tr th:only-of-type {\n",
       "        vertical-align: middle;\n",
       "    }\n",
       "\n",
       "    .dataframe tbody tr th {\n",
       "        vertical-align: top;\n",
       "    }\n",
       "\n",
       "    .dataframe thead th {\n",
       "        text-align: right;\n",
       "    }\n",
       "</style>\n",
       "<table border=\"1\" class=\"dataframe\">\n",
       "  <thead>\n",
       "    <tr style=\"text-align: right;\">\n",
       "      <th></th>\n",
       "      <th>client_id</th>\n",
       "      <th>sum</th>\n",
       "      <th>status</th>\n",
       "      <th>sale</th>\n",
       "      <th>new/current</th>\n",
       "      <th>period</th>\n",
       "      <th>document</th>\n",
       "      <th>receiving_date</th>\n",
       "    </tr>\n",
       "  </thead>\n",
       "  <tbody>\n",
       "    <tr>\n",
       "      <th>1</th>\n",
       "      <td>6.0</td>\n",
       "      <td>11693.7</td>\n",
       "      <td>ВНУТРЕННИЙ</td>\n",
       "      <td>NaN</td>\n",
       "      <td>NaN</td>\n",
       "      <td>Май 2021</td>\n",
       "      <td>NaN</td>\n",
       "      <td>NaT</td>\n",
       "    </tr>\n",
       "    <tr>\n",
       "      <th>2</th>\n",
       "      <td>14.0</td>\n",
       "      <td>5452.7</td>\n",
       "      <td>ОПЛАЧЕНО</td>\n",
       "      <td>Петрова</td>\n",
       "      <td>новая</td>\n",
       "      <td>Май 2021</td>\n",
       "      <td>оригинал</td>\n",
       "      <td>2021-07-26</td>\n",
       "    </tr>\n",
       "    <tr>\n",
       "      <th>3</th>\n",
       "      <td>15.0</td>\n",
       "      <td>13991.7</td>\n",
       "      <td>ОПЛАЧЕНО</td>\n",
       "      <td>Иванов</td>\n",
       "      <td>текущая</td>\n",
       "      <td>Май 2021</td>\n",
       "      <td>оригинал</td>\n",
       "      <td>2021-06-08</td>\n",
       "    </tr>\n",
       "    <tr>\n",
       "      <th>4</th>\n",
       "      <td>16.0</td>\n",
       "      <td>719.7</td>\n",
       "      <td>ОПЛАЧЕНО</td>\n",
       "      <td>Иванов</td>\n",
       "      <td>текущая</td>\n",
       "      <td>Май 2021</td>\n",
       "      <td>оригинал</td>\n",
       "      <td>2021-06-08</td>\n",
       "    </tr>\n",
       "    <tr>\n",
       "      <th>5</th>\n",
       "      <td>18.0</td>\n",
       "      <td>4253.7</td>\n",
       "      <td>ОПЛАЧЕНО</td>\n",
       "      <td>Иванов</td>\n",
       "      <td>текущая</td>\n",
       "      <td>Май 2021</td>\n",
       "      <td>оригинал</td>\n",
       "      <td>2021-07-07</td>\n",
       "    </tr>\n",
       "  </tbody>\n",
       "</table>\n",
       "</div>"
      ],
      "text/plain": [
       "   client_id      sum      status     sale new/current    period  document  \\\n",
       "1        6.0  11693.7  ВНУТРЕННИЙ      NaN         NaN  Май 2021       NaN   \n",
       "2       14.0   5452.7    ОПЛАЧЕНО  Петрова       новая  Май 2021  оригинал   \n",
       "3       15.0  13991.7    ОПЛАЧЕНО   Иванов     текущая  Май 2021  оригинал   \n",
       "4       16.0    719.7    ОПЛАЧЕНО   Иванов     текущая  Май 2021  оригинал   \n",
       "5       18.0   4253.7    ОПЛАЧЕНО   Иванов     текущая  Май 2021  оригинал   \n",
       "\n",
       "  receiving_date  \n",
       "1            NaT  \n",
       "2     2021-07-26  \n",
       "3     2021-06-08  \n",
       "4     2021-06-08  \n",
       "5     2021-07-07  "
      ]
     },
     "execution_count": 13,
     "metadata": {},
     "output_type": "execute_result"
    }
   ],
   "source": [
    "data = data.replace('-', np.nan)\n",
    "data.head()"
   ]
  },
  {
   "cell_type": "markdown",
   "id": "311722eb",
   "metadata": {},
   "source": [
    "Наконец, для упрощения проведения анализа следует привести столбцы *client_id* и *receiving_date* к ожидаемым типам данных:"
   ]
  },
  {
   "cell_type": "code",
   "execution_count": 14,
   "id": "cc8ad311",
   "metadata": {},
   "outputs": [],
   "source": [
    "data['client_id'] = data['client_id'].astype('int')\n",
    "data['receiving_date'] = pd.to_datetime(data['receiving_date'])"
   ]
  },
  {
   "cell_type": "code",
   "execution_count": 15,
   "id": "93c6b9e0",
   "metadata": {},
   "outputs": [
    {
     "data": {
      "text/html": [
       "<div>\n",
       "<style scoped>\n",
       "    .dataframe tbody tr th:only-of-type {\n",
       "        vertical-align: middle;\n",
       "    }\n",
       "\n",
       "    .dataframe tbody tr th {\n",
       "        vertical-align: top;\n",
       "    }\n",
       "\n",
       "    .dataframe thead th {\n",
       "        text-align: right;\n",
       "    }\n",
       "</style>\n",
       "<table border=\"1\" class=\"dataframe\">\n",
       "  <thead>\n",
       "    <tr style=\"text-align: right;\">\n",
       "      <th></th>\n",
       "      <th>client_id</th>\n",
       "      <th>sum</th>\n",
       "      <th>status</th>\n",
       "      <th>sale</th>\n",
       "      <th>new/current</th>\n",
       "      <th>period</th>\n",
       "      <th>document</th>\n",
       "      <th>receiving_date</th>\n",
       "    </tr>\n",
       "  </thead>\n",
       "  <tbody>\n",
       "    <tr>\n",
       "      <th>1</th>\n",
       "      <td>6</td>\n",
       "      <td>11693.7</td>\n",
       "      <td>ВНУТРЕННИЙ</td>\n",
       "      <td>NaN</td>\n",
       "      <td>NaN</td>\n",
       "      <td>Май 2021</td>\n",
       "      <td>NaN</td>\n",
       "      <td>NaT</td>\n",
       "    </tr>\n",
       "    <tr>\n",
       "      <th>2</th>\n",
       "      <td>14</td>\n",
       "      <td>5452.7</td>\n",
       "      <td>ОПЛАЧЕНО</td>\n",
       "      <td>Петрова</td>\n",
       "      <td>новая</td>\n",
       "      <td>Май 2021</td>\n",
       "      <td>оригинал</td>\n",
       "      <td>2021-07-26</td>\n",
       "    </tr>\n",
       "    <tr>\n",
       "      <th>3</th>\n",
       "      <td>15</td>\n",
       "      <td>13991.7</td>\n",
       "      <td>ОПЛАЧЕНО</td>\n",
       "      <td>Иванов</td>\n",
       "      <td>текущая</td>\n",
       "      <td>Май 2021</td>\n",
       "      <td>оригинал</td>\n",
       "      <td>2021-06-08</td>\n",
       "    </tr>\n",
       "    <tr>\n",
       "      <th>4</th>\n",
       "      <td>16</td>\n",
       "      <td>719.7</td>\n",
       "      <td>ОПЛАЧЕНО</td>\n",
       "      <td>Иванов</td>\n",
       "      <td>текущая</td>\n",
       "      <td>Май 2021</td>\n",
       "      <td>оригинал</td>\n",
       "      <td>2021-06-08</td>\n",
       "    </tr>\n",
       "    <tr>\n",
       "      <th>5</th>\n",
       "      <td>18</td>\n",
       "      <td>4253.7</td>\n",
       "      <td>ОПЛАЧЕНО</td>\n",
       "      <td>Иванов</td>\n",
       "      <td>текущая</td>\n",
       "      <td>Май 2021</td>\n",
       "      <td>оригинал</td>\n",
       "      <td>2021-07-07</td>\n",
       "    </tr>\n",
       "  </tbody>\n",
       "</table>\n",
       "</div>"
      ],
      "text/plain": [
       "   client_id      sum      status     sale new/current    period  document  \\\n",
       "1          6  11693.7  ВНУТРЕННИЙ      NaN         NaN  Май 2021       NaN   \n",
       "2         14   5452.7    ОПЛАЧЕНО  Петрова       новая  Май 2021  оригинал   \n",
       "3         15  13991.7    ОПЛАЧЕНО   Иванов     текущая  Май 2021  оригинал   \n",
       "4         16    719.7    ОПЛАЧЕНО   Иванов     текущая  Май 2021  оригинал   \n",
       "5         18   4253.7    ОПЛАЧЕНО   Иванов     текущая  Май 2021  оригинал   \n",
       "\n",
       "  receiving_date  \n",
       "1            NaT  \n",
       "2     2021-07-26  \n",
       "3     2021-06-08  \n",
       "4     2021-06-08  \n",
       "5     2021-07-07  "
      ]
     },
     "execution_count": 15,
     "metadata": {},
     "output_type": "execute_result"
    }
   ],
   "source": [
    "data.head()"
   ]
  },
  {
   "cell_type": "markdown",
   "id": "0786a92c",
   "metadata": {},
   "source": [
    "Теперь с данными можно работать."
   ]
  },
  {
   "cell_type": "markdown",
   "id": "afce463e",
   "metadata": {},
   "source": [
    "### Ответы на вопросы"
   ]
  },
  {
   "cell_type": "markdown",
   "id": "f0d03703",
   "metadata": {},
   "source": [
    "1. Вычислите общую выручку за июль 2021 по тем сделкам, приход денежных средств которых не просрочен."
   ]
  },
  {
   "cell_type": "code",
   "execution_count": 16,
   "id": "4714e371",
   "metadata": {},
   "outputs": [
    {
     "data": {
      "text/plain": [
       "array(['ВНУТРЕННИЙ', 'ОПЛАЧЕНО', 'ПРОСРОЧЕНО', 'В РАБОТЕ',\n",
       "       'НА ПОДПИСАНИИ'], dtype=object)"
      ]
     },
     "execution_count": 16,
     "metadata": {},
     "output_type": "execute_result"
    }
   ],
   "source": [
    "# уникальные значения столбца status\n",
    "data['status'].unique()"
   ]
  },
  {
   "cell_type": "code",
   "execution_count": 17,
   "id": "e97f6efc",
   "metadata": {},
   "outputs": [
    {
     "name": "stdout",
     "output_type": "stream",
     "text": [
      "Ответ: 859896.5\n"
     ]
    }
   ],
   "source": [
    "print('Ответ:', end=' ')\n",
    "print(data.query('status != \"ПРОСРОЧЕНО\" and period == \"Июль 2021\"')['sum'].sum().round(1))"
   ]
  },
  {
   "cell_type": "markdown",
   "id": "1ec9ecea",
   "metadata": {},
   "source": [
    "2. Как изменялась выручка компании за рассматриваемый период?Проиллюстрируйте графиком.\n",
    "\n",
    "Рассматриваемый период: с Мая 2021 по Октябрь 2021 (все статусы сделки)"
   ]
  },
  {
   "cell_type": "code",
   "execution_count": 18,
   "id": "72afb2df",
   "metadata": {},
   "outputs": [
    {
     "data": {
      "image/png": "[encoded data removed]",
      "text/plain": [
       "<Figure size 432x288 with 1 Axes>"
      ]
     },
     "metadata": {
      "needs_background": "light"
     },
     "output_type": "display_data"
    }
   ],
   "source": [
    "x = ['Май', 'Июнь', 'Июль', 'Август', 'Сентябрь', 'Октябрь']\n",
    "y = data.groupby('period')['sum'].sum()\n",
    "\n",
    "sns.barplot(x=x, y=y)\n",
    "plt.title('Выручка за рассматриваемый период')\n",
    "plt.show()"
   ]
  },
  {
   "cell_type": "markdown",
   "id": "62a74420",
   "metadata": {},
   "source": [
    "Ежемесячная выручка в течение почти всего рассматриваемого периода находилась примерно на одном уровне, за исключением сентября 2021. Там наблюдался резкий скачок вверх."
   ]
  },
  {
   "cell_type": "markdown",
   "id": "78d2ec9d",
   "metadata": {},
   "source": [
    "3. Кто из менеджеров привлек для компании больше всего денежных средств в сентябре 2021?"
   ]
  },
  {
   "cell_type": "code",
   "execution_count": 19,
   "id": "3bb32bbb",
   "metadata": {},
   "outputs": [
    {
     "data": {
      "text/plain": [
       "sale\n",
       "Смирнов       221525.70\n",
       "Петрова       149344.46\n",
       "Андреев       133652.50\n",
       "Иванов         94770.60\n",
       "Кузнецова      72228.40\n",
       "Филимонова     59514.47\n",
       "Васильев       49895.45\n",
       "Соколов        35183.50\n",
       "Михайлов        4268.70\n",
       "Name: sum, dtype: float64"
      ]
     },
     "execution_count": 19,
     "metadata": {},
     "output_type": "execute_result"
    }
   ],
   "source": [
    "data.query('period == \"Сентябрь 2021\"').groupby('sale')['sum'].sum().sort_values(ascending=False)"
   ]
  },
  {
   "cell_type": "markdown",
   "id": "11fa1b2a",
   "metadata": {},
   "source": [
    "**Ответ**: Смирнов"
   ]
  },
  {
   "cell_type": "markdown",
   "id": "67d95d03",
   "metadata": {},
   "source": [
    "4. Какой тип сделок (новая/текущая) был преобладающим в октябре 2021?"
   ]
  },
  {
   "cell_type": "code",
   "execution_count": 20,
   "id": "d4aa7705",
   "metadata": {},
   "outputs": [
    {
     "data": {
      "text/plain": [
       "new/current\n",
       "новая      36\n",
       "текущая    99\n",
       "Name: client_id, dtype: int64"
      ]
     },
     "execution_count": 20,
     "metadata": {},
     "output_type": "execute_result"
    }
   ],
   "source": [
    "data.query('period == \"Октябрь 2021\"').groupby('new/current')['client_id'].count()"
   ]
  },
  {
   "cell_type": "markdown",
   "id": "9e29cd6e",
   "metadata": {},
   "source": [
    "**Ответ**: текущий тип"
   ]
  },
  {
   "cell_type": "markdown",
   "id": "929dc5a7",
   "metadata": {},
   "source": [
    "5. Сколько оригиналов договора по майским сделкам было получено в июне 2021?\n",
    "\n",
    "Для упрощения расчетов можно выделить месяц получения оригинала договора в отдельный столбце *receiving_month*."
   ]
  },
  {
   "cell_type": "code",
   "execution_count": 21,
   "id": "f2bf1ce1",
   "metadata": {},
   "outputs": [],
   "source": [
    "# в новом столбце месяцы записаны номером от 1 до 12\n",
    "data['receiving_month'] = data['receiving_date'].dt.month"
   ]
  },
  {
   "cell_type": "code",
   "execution_count": 22,
   "id": "7f28c76f",
   "metadata": {},
   "outputs": [
    {
     "name": "stdout",
     "output_type": "stream",
     "text": [
      "Ответ: 77\n"
     ]
    }
   ],
   "source": [
    "print('Ответ:', end=' ')\n",
    "print(data.query('receiving_month == 6 and period == \"Май 2021\"')['client_id'].count())"
   ]
  },
  {
   "cell_type": "markdown",
   "id": "cd5b5150",
   "metadata": {},
   "source": [
    "Ответ дан с предположением, что одна строка отражает одну сделку."
   ]
  },
  {
   "cell_type": "markdown",
   "id": "7a5399f5",
   "metadata": {},
   "source": [
    "### Решение задания\n",
    "\n",
    "За каждую заключенную сделку менеджер получает бонус, который рассчитывается следующим образом.\n",
    "\n",
    "1. За новые сделки менеджер получает 7 % от суммы, при условии, что статус оплаты «ОПЛАЧЕНО», а также имеется оригинал подписанного договора с клиентом (в рассматриваемом месяце).\n",
    "\n",
    "2. За текущие сделки менеджер получает 5 % от суммы, если она больше 10 тыс., и 3 % от суммы, если меньше. При этом статус оплаты может быть любым, кроме «ПРОСРОЧЕНО», а также необходимо наличие оригинала подписанного договора с клиентом (в рассматриваемом месяце).\n",
    "\n",
    "Бонусы по сделкам, оригиналы для которых приходят позже рассматриваемого месяца, считаются остатком на следующий период, который выплачивается по мере прихода оригиналов. \n",
    "\n",
    "Вычислите остаток каждого из менеджеров на 01.07.2021"
   ]
  },
  {
   "cell_type": "markdown",
   "id": "3de45f38",
   "metadata": {},
   "source": [
    "Для рассмотрения подходят периоды \"Май 2021\" и \"Июнь 2021\". Также для решения задачи создадим новый столбец *bonus_sum*, куда будет заноситься доп.сумма, которую получает менеджер за сделку. "
   ]
  },
  {
   "cell_type": "code",
   "execution_count": 23,
   "id": "df4ba97b",
   "metadata": {},
   "outputs": [],
   "source": [
    "# для проверки соответствия месяца прихода оригиналов\n",
    "def right_month(period, month_number):\n",
    "    if period == 'Май 2021' and month_number in [5, 6]: return True\n",
    "    if period == 'Июнь 2021' and month_number == 6: return True\n",
    "    \n",
    "    return False"
   ]
  },
  {
   "cell_type": "code",
   "execution_count": 24,
   "id": "56ea16af",
   "metadata": {},
   "outputs": [],
   "source": [
    "# ф-ция определяет бонус менеджера со сделки\n",
    "def define_manager_bonus(row):\n",
    "    deal_type = row['new/current']\n",
    "    status = row['status']\n",
    "    period_month = row['period']\n",
    "    doc_month = row['receiving_month']\n",
    "    deal_sum = row['sum']\n",
    "    \n",
    "    is_new = (\n",
    "        deal_type == 'новая' and \n",
    "        right_month(period_month, doc_month) and\n",
    "        status == 'ОПЛАЧЕНО'\n",
    "    )\n",
    "    \n",
    "    is_current = (\n",
    "        deal_type == 'текущая' and\n",
    "        right_month(period_month, doc_month) and\n",
    "        status != 'ПРОСРОЧЕНО'\n",
    "    )\n",
    "    \n",
    "    # если сделка новая\n",
    "    if is_new:\n",
    "        return 0.07*deal_sum\n",
    "    \n",
    "    # если сделка текущая\n",
    "    if is_current and deal_sum > 10000:\n",
    "        return 0.05*deal_sum\n",
    "    if is_current:\n",
    "        return 0.03*deal_sum\n",
    "    \n",
    "    return"
   ]
  },
  {
   "cell_type": "code",
   "execution_count": 25,
   "id": "55ddb8e3",
   "metadata": {},
   "outputs": [],
   "source": [
    "# создание нового столбца\n",
    "data['bonus_sum'] = data.apply(define_manager_bonus, axis=1)"
   ]
  },
  {
   "cell_type": "code",
   "execution_count": 26,
   "id": "dd4b9663",
   "metadata": {},
   "outputs": [
    {
     "data": {
      "text/plain": [
       "sale\n",
       "Михайлов         0.0000\n",
       "Попов            0.0000\n",
       "Соколов          0.0000\n",
       "Васильев       339.2310\n",
       "Селиванов      353.3220\n",
       "Филимонова     409.6830\n",
       "Иванов        2503.8390\n",
       "Кузнецова     2604.6716\n",
       "Андреев       4657.5427\n",
       "Смирнов       4775.1330\n",
       "Петрова       7028.8020\n",
       "Name: bonus_sum, dtype: float64"
      ]
     },
     "execution_count": 26,
     "metadata": {},
     "output_type": "execute_result"
    }
   ],
   "source": [
    "# расчет остатка каждого из менеджеров\n",
    "data.groupby('sale')['bonus_sum'].sum().sort_values()"
   ]
  },
  {
   "cell_type": "markdown",
   "id": "180eec86",
   "metadata": {},
   "source": [
    "Самый большой бонус со сделок за этот период скопила менеджер по фамилии Петрова."
   ]
  }
 ],
 "metadata": {
  "kernelspec": {
   "display_name": "Python 3 (ipykernel)",
   "language": "python",
   "name": "python3"
  },
  "language_info": {
   "codemirror_mode": {
    "name": "ipython",
    "version": 3
   },
   "file_extension": ".py",
   "mimetype": "text/x-python",
   "name": "python",
   "nbconvert_exporter": "python",
   "pygments_lexer": "ipython3",
   "version": "3.9.12"
  }
 },
 "nbformat": 4,
 "nbformat_minor": 5
}
