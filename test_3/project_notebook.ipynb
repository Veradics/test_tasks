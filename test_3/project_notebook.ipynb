{
 "cells": [
  {
   "cell_type": "markdown",
   "id": "74525972-d9c5-4ea3-b73c-4c167fec07c6",
   "metadata": {},
   "source": [
    "# Тестовое задание на позицию Junior Analyst\n",
    "## Анализ данных по рекламным кампаниям\n",
    "\n",
    "В файле *test_data.csv* представлены данные по работе рекламных кампаний, запущенных пятью медиабайерами для привлечения пользователей в приложение. Необходимо исследовать данные и получить из них выводы, которые могут быть полезны для дальнейшей работы медиабайеров. "
   ]
  },
  {
   "cell_type": "markdown",
   "id": "89ae5f17-1b01-4862-91d7-05e0bff5ef11",
   "metadata": {
    "tags": []
   },
   "source": [
    "### Описание данных:\n",
    "- `Campaign_id` - ID кампании;\n",
    "- `Geo` - геопозиция, на которую настроена рекламная кампания;\n",
    "- `Buyer` - байер, выполнивший запуск;\n",
    "- `Impressions` - количество показов рекламных объявлений;\n",
    "- `Clicks` - количество кликов; \n",
    "- `Installs` - количество установок;\n",
    "- `Registrations` - количество регистраций;\n",
    "- `Spend` - Затраченная сумма;\n",
    "- `Revenue_ad` (1d/7d/30d) - Выручка с рекламы от пользователей, зарегистрировавшихся в приложении, на 1/7/30 день их жизни\n",
    "- `Revenue_in_app` (1d/7d/30d) - Выручка с покупок от пользователей, зарегистрировавшихся в приложении, на 1/7/30 день их жизни\n",
    "- `Payers` (1d/7d/30d) - Количество покупателей в приложении на 1/7/30 день их жизни"
   ]
  },
  {
   "cell_type": "code",
   "execution_count": 1,
   "id": "8b7a7b6c-d17d-4a70-9236-42a2daac0faf",
   "metadata": {},
   "outputs": [],
   "source": [
    "# необходимые библиотеки\n",
    "import pandas as pd\n",
    "import seaborn as sns\n",
    "import matplotlib.pyplot as plt\n",
    "import nbconvert"
   ]
  },
  {
   "cell_type": "code",
   "execution_count": 2,
   "id": "46089b78-bc20-4dcc-9adc-c6ab07fb728d",
   "metadata": {},
   "outputs": [
    {
     "data": {
      "text/html": [
       "<div>\n",
       "<style scoped>\n",
       "    .dataframe tbody tr th:only-of-type {\n",
       "        vertical-align: middle;\n",
       "    }\n",
       "\n",
       "    .dataframe tbody tr th {\n",
       "        vertical-align: top;\n",
       "    }\n",
       "\n",
       "    .dataframe thead th {\n",
       "        text-align: right;\n",
       "    }\n",
       "</style>\n",
       "<table border=\"1\" class=\"dataframe\">\n",
       "  <thead>\n",
       "    <tr style=\"text-align: right;\">\n",
       "      <th></th>\n",
       "      <th>Campaign_id</th>\n",
       "      <th>Geo</th>\n",
       "      <th>Buyer</th>\n",
       "      <th>Impressions</th>\n",
       "      <th>Clicks</th>\n",
       "      <th>Installs</th>\n",
       "      <th>Registrations</th>\n",
       "      <th>Spend</th>\n",
       "      <th>Revenue_ad1d</th>\n",
       "      <th>Revenue_in_app1d</th>\n",
       "      <th>Payers1d</th>\n",
       "      <th>Revenue_ad7d</th>\n",
       "      <th>Revenue_in_app7d</th>\n",
       "      <th>Payers7d</th>\n",
       "      <th>Revenue_ad30d</th>\n",
       "      <th>Revenue_in_app30d</th>\n",
       "      <th>Payers30d</th>\n",
       "    </tr>\n",
       "  </thead>\n",
       "  <tbody>\n",
       "    <tr>\n",
       "      <th>0</th>\n",
       "      <td>1</td>\n",
       "      <td>north america</td>\n",
       "      <td>buyer_1</td>\n",
       "      <td>3456974</td>\n",
       "      <td>129508</td>\n",
       "      <td>33054</td>\n",
       "      <td>21932</td>\n",
       "      <td>3208.440002</td>\n",
       "      <td>1163.521408</td>\n",
       "      <td>162.220001</td>\n",
       "      <td>64</td>\n",
       "      <td>1381.310062</td>\n",
       "      <td>199.749999</td>\n",
       "      <td>79</td>\n",
       "      <td>1527.013835</td>\n",
       "      <td>276.629998</td>\n",
       "      <td>83</td>\n",
       "    </tr>\n",
       "    <tr>\n",
       "      <th>1</th>\n",
       "      <td>2</td>\n",
       "      <td>north america</td>\n",
       "      <td>buyer_2</td>\n",
       "      <td>245542</td>\n",
       "      <td>6306</td>\n",
       "      <td>3401</td>\n",
       "      <td>2448</td>\n",
       "      <td>1569.519999</td>\n",
       "      <td>833.059639</td>\n",
       "      <td>37.250000</td>\n",
       "      <td>17</td>\n",
       "      <td>1200.964697</td>\n",
       "      <td>69.340001</td>\n",
       "      <td>19</td>\n",
       "      <td>1449.001828</td>\n",
       "      <td>120.250001</td>\n",
       "      <td>22</td>\n",
       "    </tr>\n",
       "    <tr>\n",
       "      <th>2</th>\n",
       "      <td>3</td>\n",
       "      <td>north america</td>\n",
       "      <td>buyer_1</td>\n",
       "      <td>1281103</td>\n",
       "      <td>35724</td>\n",
       "      <td>13315</td>\n",
       "      <td>8101</td>\n",
       "      <td>1231.999998</td>\n",
       "      <td>459.682600</td>\n",
       "      <td>3.260000</td>\n",
       "      <td>4</td>\n",
       "      <td>524.987826</td>\n",
       "      <td>24.700000</td>\n",
       "      <td>6</td>\n",
       "      <td>572.633765</td>\n",
       "      <td>24.700000</td>\n",
       "      <td>6</td>\n",
       "    </tr>\n",
       "    <tr>\n",
       "      <th>3</th>\n",
       "      <td>4</td>\n",
       "      <td>north america</td>\n",
       "      <td>buyer_1</td>\n",
       "      <td>215538</td>\n",
       "      <td>9987</td>\n",
       "      <td>3119</td>\n",
       "      <td>1857</td>\n",
       "      <td>1228.129999</td>\n",
       "      <td>602.778160</td>\n",
       "      <td>26.130000</td>\n",
       "      <td>11</td>\n",
       "      <td>830.113889</td>\n",
       "      <td>33.439999</td>\n",
       "      <td>12</td>\n",
       "      <td>1042.831595</td>\n",
       "      <td>57.530002</td>\n",
       "      <td>12</td>\n",
       "    </tr>\n",
       "    <tr>\n",
       "      <th>4</th>\n",
       "      <td>5</td>\n",
       "      <td>western europe</td>\n",
       "      <td>buyer_2</td>\n",
       "      <td>335878</td>\n",
       "      <td>7343</td>\n",
       "      <td>3952</td>\n",
       "      <td>2955</td>\n",
       "      <td>872.570005</td>\n",
       "      <td>427.807238</td>\n",
       "      <td>19.030001</td>\n",
       "      <td>4</td>\n",
       "      <td>577.039081</td>\n",
       "      <td>20.640001</td>\n",
       "      <td>5</td>\n",
       "      <td>714.554179</td>\n",
       "      <td>32.150001</td>\n",
       "      <td>6</td>\n",
       "    </tr>\n",
       "  </tbody>\n",
       "</table>\n",
       "</div>"
      ],
      "text/plain": [
       "   Campaign_id             Geo    Buyer  Impressions  Clicks  Installs  \\\n",
       "0            1   north america  buyer_1      3456974  129508     33054   \n",
       "1            2   north america  buyer_2       245542    6306      3401   \n",
       "2            3   north america  buyer_1      1281103   35724     13315   \n",
       "3            4   north america  buyer_1       215538    9987      3119   \n",
       "4            5  western europe  buyer_2       335878    7343      3952   \n",
       "\n",
       "   Registrations        Spend  Revenue_ad1d  Revenue_in_app1d  Payers1d  \\\n",
       "0          21932  3208.440002   1163.521408        162.220001        64   \n",
       "1           2448  1569.519999    833.059639         37.250000        17   \n",
       "2           8101  1231.999998    459.682600          3.260000         4   \n",
       "3           1857  1228.129999    602.778160         26.130000        11   \n",
       "4           2955   872.570005    427.807238         19.030001         4   \n",
       "\n",
       "   Revenue_ad7d  Revenue_in_app7d  Payers7d  Revenue_ad30d  Revenue_in_app30d  \\\n",
       "0   1381.310062        199.749999        79    1527.013835         276.629998   \n",
       "1   1200.964697         69.340001        19    1449.001828         120.250001   \n",
       "2    524.987826         24.700000         6     572.633765          24.700000   \n",
       "3    830.113889         33.439999        12    1042.831595          57.530002   \n",
       "4    577.039081         20.640001         5     714.554179          32.150001   \n",
       "\n",
       "   Payers30d  \n",
       "0         83  \n",
       "1         22  \n",
       "2          6  \n",
       "3         12  \n",
       "4          6  "
      ]
     },
     "execution_count": 2,
     "metadata": {},
     "output_type": "execute_result"
    }
   ],
   "source": [
    "# данные\n",
    "data = pd.read_csv(\"E:\\\\Документы\\\\Data science\\\\Тестовые задания\\\\Topface_test\\\\test_data.csv\", decimal=\",\")\n",
    "data.head()"
   ]
  },
  {
   "cell_type": "code",
   "execution_count": 3,
   "id": "9a455aca-5706-4119-bc18-b31eb9fc4abc",
   "metadata": {},
   "outputs": [
    {
     "name": "stdout",
     "output_type": "stream",
     "text": [
      "<class 'pandas.core.frame.DataFrame'>\n",
      "RangeIndex: 87 entries, 0 to 86\n",
      "Data columns (total 17 columns):\n",
      " #   Column             Non-Null Count  Dtype  \n",
      "---  ------             --------------  -----  \n",
      " 0   Campaign_id        87 non-null     int64  \n",
      " 1   Geo                87 non-null     object \n",
      " 2   Buyer              87 non-null     object \n",
      " 3   Impressions        87 non-null     int64  \n",
      " 4   Clicks             87 non-null     int64  \n",
      " 5   Installs           87 non-null     int64  \n",
      " 6   Registrations      87 non-null     int64  \n",
      " 7   Spend              87 non-null     float64\n",
      " 8   Revenue_ad1d       87 non-null     float64\n",
      " 9   Revenue_in_app1d   87 non-null     float64\n",
      " 10  Payers1d           87 non-null     int64  \n",
      " 11  Revenue_ad7d       87 non-null     float64\n",
      " 12  Revenue_in_app7d   87 non-null     float64\n",
      " 13  Payers7d           87 non-null     int64  \n",
      " 14  Revenue_ad30d      87 non-null     float64\n",
      " 15  Revenue_in_app30d  87 non-null     float64\n",
      " 16  Payers30d          87 non-null     int64  \n",
      "dtypes: float64(7), int64(8), object(2)\n",
      "memory usage: 11.7+ KB\n"
     ]
    }
   ],
   "source": [
    "data.info()"
   ]
  },
  {
   "cell_type": "code",
   "execution_count": 4,
   "id": "ed37c5b3-20d9-45a5-b0f3-e9854c812606",
   "metadata": {},
   "outputs": [
    {
     "data": {
      "text/plain": [
       "Campaign_id          0\n",
       "Geo                  0\n",
       "Buyer                0\n",
       "Impressions          0\n",
       "Clicks               0\n",
       "Installs             0\n",
       "Registrations        0\n",
       "Spend                0\n",
       "Revenue_ad1d         0\n",
       "Revenue_in_app1d     0\n",
       "Payers1d             0\n",
       "Revenue_ad7d         0\n",
       "Revenue_in_app7d     0\n",
       "Payers7d             0\n",
       "Revenue_ad30d        0\n",
       "Revenue_in_app30d    0\n",
       "Payers30d            0\n",
       "dtype: int64"
      ]
     },
     "execution_count": 4,
     "metadata": {},
     "output_type": "execute_result"
    }
   ],
   "source": [
    "data.isnull().sum()"
   ]
  },
  {
   "cell_type": "markdown",
   "id": "fc29ce43-8c5b-447c-88b5-fe65999749f3",
   "metadata": {},
   "source": [
    "Известно, что данные чистые, не содержат пропущенных значений. Можно приступать к анализу. "
   ]
  },
  {
   "cell_type": "markdown",
   "id": "7ddde1b1-8842-4be5-8eef-44e699e2af5f",
   "metadata": {},
   "source": [
    "### Добавление столбцов с метриками"
   ]
  },
  {
   "cell_type": "markdown",
   "id": "6d0b43a3-28c9-4b1d-9bde-16c154985e91",
   "metadata": {},
   "source": [
    "Для начала добавим в таблицу новые столбцы, которые будут отражать основные маркетинговые метрики, а именно:\n",
    "\n",
    "- `CTR` - показатель кликабельности (кол-во кликов / кол-во показов)\n",
    "- `CTI` - количество установок за клик (кол-во установок / кол-во кликов)\n",
    "- `CPC` - стоимость клика (расходы / кол-во кликов)\n",
    "- `RPC` - доход с каждого клика по рекламе (доходы / кол-во кликов)\n",
    "- `ROAS` - рентабельность рекламных расходов (доходы / расходы)\n",
    "- `CPI` - цена одной установки (расходы / кол-во установок)\n",
    "- `CPM` - стоимость 1000 показов (расходы / кол-во показов*1000)\n",
    "- `CPA` - цена одной регистрации (расходы / кол-во регистраций)\n",
    "- `AR` - процент \"активации\" (кол-во регистраций / кол-во установок)\n",
    "- `CR` - конверсия покупателей (кол-во покупателей / кол-во регистраций)"
   ]
  },
  {
   "cell_type": "code",
   "execution_count": 5,
   "id": "992e6930-f97a-4f27-bac0-7c6a5f4540c1",
   "metadata": {},
   "outputs": [],
   "source": [
    "data['CTR'] = data['Clicks'] / data['Impressions']"
   ]
  },
  {
   "cell_type": "code",
   "execution_count": 6,
   "id": "4e99b19b-b88a-422a-9a73-fe6dbacb90c2",
   "metadata": {},
   "outputs": [],
   "source": [
    "data['CTI'] = data['Installs'] / data['Clicks']"
   ]
  },
  {
   "cell_type": "code",
   "execution_count": 7,
   "id": "b5641588-2ae2-4bd5-bf18-0bc30f17316d",
   "metadata": {},
   "outputs": [],
   "source": [
    "data['CPC'] = data['Spend'] / data['Clicks']"
   ]
  },
  {
   "cell_type": "code",
   "execution_count": 8,
   "id": "d15b4d27-1068-46da-9441-81fed03e21ad",
   "metadata": {},
   "outputs": [],
   "source": [
    "data['RPC_30d'] = (data['Revenue_ad30d'] +  data['Revenue_in_app30d']) / data['Clicks']"
   ]
  },
  {
   "cell_type": "code",
   "execution_count": 9,
   "id": "4add7938-84f8-4bda-8c70-fd98af96a43f",
   "metadata": {},
   "outputs": [],
   "source": [
    "data['ROAS_1d'] = (data['Revenue_ad1d'] +  data['Revenue_in_app1d']) / data['Spend']\n",
    "data['ROAS_7d'] = (data['Revenue_ad7d'] +  data['Revenue_in_app7d']) / data['Spend']\n",
    "data['ROAS_30d'] = (data['Revenue_ad30d'] +  data['Revenue_in_app30d']) / data['Spend']"
   ]
  },
  {
   "cell_type": "code",
   "execution_count": 10,
   "id": "03a380dc-1b87-4bcf-809b-e6f90f7f2b17",
   "metadata": {},
   "outputs": [],
   "source": [
    "data['CPI'] = data['Spend'] / data['Installs']"
   ]
  },
  {
   "cell_type": "code",
   "execution_count": 11,
   "id": "b5adf0bb-81bc-484f-b16e-d5b6acd8a182",
   "metadata": {},
   "outputs": [],
   "source": [
    "data['CPM'] = data['Spend'] / data['Impressions'] * 1000"
   ]
  },
  {
   "cell_type": "code",
   "execution_count": 12,
   "id": "4f4be049-133d-445a-9607-d220c8c3488a",
   "metadata": {},
   "outputs": [],
   "source": [
    "data['CPA'] = data['Spend'] / data['Registrations']"
   ]
  },
  {
   "cell_type": "code",
   "execution_count": 13,
   "id": "c4730b04-ecc9-4c5c-9575-dffc302ba6fc",
   "metadata": {},
   "outputs": [],
   "source": [
    "data['AR'] = data['Registrations'] / data['Installs']"
   ]
  },
  {
   "cell_type": "code",
   "execution_count": 14,
   "id": "94dfc08e-f835-454c-beb4-10d56b8bbedd",
   "metadata": {},
   "outputs": [],
   "source": [
    "data['CR_30d'] = data['Payers30d'] / data['Registrations']"
   ]
  },
  {
   "cell_type": "markdown",
   "id": "4b5993ae-e120-4103-a2b0-828bda1364dd",
   "metadata": {},
   "source": [
    "### Анализ данных"
   ]
  },
  {
   "cell_type": "markdown",
   "id": "c8d2d281-922a-4710-a283-97fef9ed3e71",
   "metadata": {},
   "source": [
    "#### 1. Кампании в каких геолокациях показали себя хуже всего?"
   ]
  },
  {
   "cell_type": "code",
   "execution_count": 15,
   "id": "e38433cf-087c-4854-8a69-0a42b7954432",
   "metadata": {},
   "outputs": [
    {
     "data": {
      "image/png": "[encoded data removed]",
      "text/plain": [
       "<Figure size 720x360 with 1 Axes>"
      ]
     },
     "metadata": {
      "needs_background": "light"
     },
     "output_type": "display_data"
    }
   ],
   "source": [
    "geo_table = data.pivot_table(index='Geo', values=['Revenue_ad30d', 'Revenue_in_app30d'])\n",
    "\n",
    "plt.rcParams[\"figure.figsize\"] = (10,5)\n",
    "geo_table.sort_values(by='Revenue_ad30d', ascending=False).plot(kind='bar', stacked=True, title='Выручка с рекламы/покупок по геопозиции')\n",
    "plt.xticks(rotation = 45, fontsize=12)\n",
    "\n",
    "plt.show()"
   ]
  },
  {
   "cell_type": "markdown",
   "id": "bfb0292d-9118-4764-8f8d-856b2a2b218f",
   "metadata": {},
   "source": [
    "Как видно по графику средней выручки за месяц, лучше всех себя показали Северная Америка и Западная Европа. При этом, Северная Америка лидирует и по выручке с рекламы, и по выручке с покупок пользователей. В конце списка же находятся Австралия-Океания, а также Северная и Тропическая Африка. В данных районах рекламные компании оказались малоэффективны: они характеризуются самыми маленькими значениями средней выручки с рекламы и полным отсутствием выручки с покупок зарегистрированных пользователей."
   ]
  },
  {
   "cell_type": "markdown",
   "id": "e13091e2-458d-42f6-bcf6-4e56007abfe5",
   "metadata": {},
   "source": [
    "#### 2. Кто из медиабайеров лучше всего окупается?\n",
    "\n",
    "Окупаемость медиабайеров лучше всего будет смотреть по метрике *ROAS*."
   ]
  },
  {
   "cell_type": "code",
   "execution_count": 16,
   "id": "7a6a93bf-388b-4b68-8612-ccfd315ef6cd",
   "metadata": {},
   "outputs": [
    {
     "data": {
      "image/png": "[encoded data removed]",
      "text/plain": [
       "<Figure size 720x360 with 1 Axes>"
      ]
     },
     "metadata": {
      "needs_background": "light"
     },
     "output_type": "display_data"
    }
   ],
   "source": [
    "buyer_table = data.pivot_table(index='Buyer', values=['ROAS_1d', 'ROAS_7d', 'ROAS_30d'])\n",
    "buyer_table = buyer_table.reindex(columns=['ROAS_1d', 'ROAS_7d', 'ROAS_30d'])\n",
    "\n",
    "fig, ax = plt.subplots()\n",
    "\n",
    "plt.rcParams[\"figure.figsize\"] = (10,5)\n",
    "buyer_table.sort_values(by='ROAS_30d', ascending=False).plot(kind='bar', ax=ax, title='Окупаемость медиабайеров')\n",
    "plt.xticks(rotation = 45, fontsize=12)\n",
    "\n",
    "ax.hlines(1, -10, 10)\n",
    "\n",
    "plt.show()"
   ]
  },
  {
   "cell_type": "markdown",
   "id": "7d193fb8-ae73-425a-856f-2ef395ae61d2",
   "metadata": {},
   "source": [
    "Лучше всего из медиабайеров окупается медиабайер №3. При этом, только через месяц доходы по его рекламным кампаниям начинают превосходить расходы. У остальных же медиабайеров затраты на рекламу не окупаются в принципе. Хуже всего справляется медиабайер №5: окупаемость его рекламных кампаний не достигает даже 40%."
   ]
  },
  {
   "cell_type": "markdown",
   "id": "ea212bf8-1a9f-4f5b-84e5-c0446ec82444",
   "metadata": {},
   "source": [
    "#### 3. Стоимость одной установки\n",
    "ТОП-5 рекламных кампаний по самым дешевым установкам:"
   ]
  },
  {
   "cell_type": "code",
   "execution_count": 17,
   "id": "7254dd8c-edc5-42e5-9728-22f438c023a8",
   "metadata": {},
   "outputs": [
    {
     "data": {
      "text/html": [
       "<div>\n",
       "<style scoped>\n",
       "    .dataframe tbody tr th:only-of-type {\n",
       "        vertical-align: middle;\n",
       "    }\n",
       "\n",
       "    .dataframe tbody tr th {\n",
       "        vertical-align: top;\n",
       "    }\n",
       "\n",
       "    .dataframe thead th {\n",
       "        text-align: right;\n",
       "    }\n",
       "</style>\n",
       "<table border=\"1\" class=\"dataframe\">\n",
       "  <thead>\n",
       "    <tr style=\"text-align: right;\">\n",
       "      <th></th>\n",
       "      <th>Campaign_id</th>\n",
       "      <th>CPI</th>\n",
       "    </tr>\n",
       "  </thead>\n",
       "  <tbody>\n",
       "    <tr>\n",
       "      <th>20</th>\n",
       "      <td>21</td>\n",
       "      <td>0.025330</td>\n",
       "    </tr>\n",
       "    <tr>\n",
       "      <th>55</th>\n",
       "      <td>56</td>\n",
       "      <td>0.027341</td>\n",
       "    </tr>\n",
       "    <tr>\n",
       "      <th>44</th>\n",
       "      <td>45</td>\n",
       "      <td>0.035084</td>\n",
       "    </tr>\n",
       "    <tr>\n",
       "      <th>26</th>\n",
       "      <td>27</td>\n",
       "      <td>0.045905</td>\n",
       "    </tr>\n",
       "    <tr>\n",
       "      <th>40</th>\n",
       "      <td>41</td>\n",
       "      <td>0.051174</td>\n",
       "    </tr>\n",
       "  </tbody>\n",
       "</table>\n",
       "</div>"
      ],
      "text/plain": [
       "    Campaign_id       CPI\n",
       "20           21  0.025330\n",
       "55           56  0.027341\n",
       "44           45  0.035084\n",
       "26           27  0.045905\n",
       "40           41  0.051174"
      ]
     },
     "execution_count": 17,
     "metadata": {},
     "output_type": "execute_result"
    }
   ],
   "source": [
    "data[['Campaign_id', 'CPI']].sort_values(by='CPI').head()"
   ]
  },
  {
   "cell_type": "markdown",
   "id": "a598fd47-38ea-4ba6-95d0-b5eba52f860d",
   "metadata": {},
   "source": [
    "ТОП-5 рекламных кампаний по самым дорогим установкам:"
   ]
  },
  {
   "cell_type": "code",
   "execution_count": 18,
   "id": "5e1a5ae7-03d8-416c-bab7-44d3f1993adf",
   "metadata": {},
   "outputs": [
    {
     "data": {
      "text/html": [
       "<div>\n",
       "<style scoped>\n",
       "    .dataframe tbody tr th:only-of-type {\n",
       "        vertical-align: middle;\n",
       "    }\n",
       "\n",
       "    .dataframe tbody tr th {\n",
       "        vertical-align: top;\n",
       "    }\n",
       "\n",
       "    .dataframe thead th {\n",
       "        text-align: right;\n",
       "    }\n",
       "</style>\n",
       "<table border=\"1\" class=\"dataframe\">\n",
       "  <thead>\n",
       "    <tr style=\"text-align: right;\">\n",
       "      <th></th>\n",
       "      <th>Campaign_id</th>\n",
       "      <th>CPI</th>\n",
       "    </tr>\n",
       "  </thead>\n",
       "  <tbody>\n",
       "    <tr>\n",
       "      <th>80</th>\n",
       "      <td>81</td>\n",
       "      <td>2.155000</td>\n",
       "    </tr>\n",
       "    <tr>\n",
       "      <th>19</th>\n",
       "      <td>20</td>\n",
       "      <td>0.802027</td>\n",
       "    </tr>\n",
       "    <tr>\n",
       "      <th>36</th>\n",
       "      <td>37</td>\n",
       "      <td>0.755781</td>\n",
       "    </tr>\n",
       "    <tr>\n",
       "      <th>65</th>\n",
       "      <td>66</td>\n",
       "      <td>0.742162</td>\n",
       "    </tr>\n",
       "    <tr>\n",
       "      <th>53</th>\n",
       "      <td>54</td>\n",
       "      <td>0.703281</td>\n",
       "    </tr>\n",
       "  </tbody>\n",
       "</table>\n",
       "</div>"
      ],
      "text/plain": [
       "    Campaign_id       CPI\n",
       "80           81  2.155000\n",
       "19           20  0.802027\n",
       "36           37  0.755781\n",
       "65           66  0.742162\n",
       "53           54  0.703281"
      ]
     },
     "execution_count": 18,
     "metadata": {},
     "output_type": "execute_result"
    }
   ],
   "source": [
    "data[['Campaign_id', 'CPI']].sort_values(by='CPI', ascending=False).head()"
   ]
  },
  {
   "cell_type": "markdown",
   "id": "85d17d2b-2556-4daa-8a52-e555324dac82",
   "metadata": {},
   "source": [
    "Общее распределение CPI по кампаниям:"
   ]
  },
  {
   "cell_type": "code",
   "execution_count": 19,
   "id": "67fa236f-2a47-4c45-8d72-48fb8d36c8ac",
   "metadata": {},
   "outputs": [
    {
     "data": {
      "image/png": "[encoded data removed]",
      "text/plain": [
       "<Figure size 720x360 with 1 Axes>"
      ]
     },
     "metadata": {
      "needs_background": "light"
     },
     "output_type": "display_data"
    }
   ],
   "source": [
    "data.plot(x='Campaign_id', y='CPI', grid=True)\n",
    "plt.show()"
   ]
  },
  {
   "cell_type": "code",
   "execution_count": 20,
   "id": "c4068361-0730-49c9-a9be-1c53ec8c553e",
   "metadata": {},
   "outputs": [
    {
     "data": {
      "text/html": [
       "<div>\n",
       "<style scoped>\n",
       "    .dataframe tbody tr th:only-of-type {\n",
       "        vertical-align: middle;\n",
       "    }\n",
       "\n",
       "    .dataframe tbody tr th {\n",
       "        vertical-align: top;\n",
       "    }\n",
       "\n",
       "    .dataframe thead th {\n",
       "        text-align: right;\n",
       "    }\n",
       "</style>\n",
       "<table border=\"1\" class=\"dataframe\">\n",
       "  <thead>\n",
       "    <tr style=\"text-align: right;\">\n",
       "      <th></th>\n",
       "      <th>Campaign_id</th>\n",
       "      <th>Geo</th>\n",
       "      <th>Buyer</th>\n",
       "    </tr>\n",
       "  </thead>\n",
       "  <tbody>\n",
       "    <tr>\n",
       "      <th>20</th>\n",
       "      <td>21</td>\n",
       "      <td>north africa</td>\n",
       "      <td>buyer_5</td>\n",
       "    </tr>\n",
       "    <tr>\n",
       "      <th>55</th>\n",
       "      <td>56</td>\n",
       "      <td>north africa</td>\n",
       "      <td>buyer_5</td>\n",
       "    </tr>\n",
       "    <tr>\n",
       "      <th>80</th>\n",
       "      <td>81</td>\n",
       "      <td>australia oceania</td>\n",
       "      <td>buyer_5</td>\n",
       "    </tr>\n",
       "  </tbody>\n",
       "</table>\n",
       "</div>"
      ],
      "text/plain": [
       "    Campaign_id                Geo    Buyer\n",
       "20           21       north africa  buyer_5\n",
       "55           56       north africa  buyer_5\n",
       "80           81  australia oceania  buyer_5"
      ]
     },
     "execution_count": 20,
     "metadata": {},
     "output_type": "execute_result"
    }
   ],
   "source": [
    "data.loc[[20, 55, 80], ['Campaign_id', 'Geo', 'Buyer']]"
   ]
  },
  {
   "cell_type": "markdown",
   "id": "f35a9e19-c1ad-4452-b9cb-df20c466d6d7",
   "metadata": {},
   "source": [
    "Минимальная цена установки зафиксирована для рекламных кампаний 21 и 56 (2.5 копейки и 2.7 копейки соответственно). Максимальная же характерна для 81-й кампании (почти 2 рубля за одну установку). Что интересно, и кампании с самым низким CPI, и кампани с самым высоким CPI принадлежат медиабайеру №5. Однако различается геопозиция - самые дешевые характерны для Северной Америки, самая дорогая для Австралии-Океании. Что согласуется с данными по геопозициям, представлеными выше."
   ]
  },
  {
   "cell_type": "markdown",
   "id": "a1308645-53b2-4346-a32f-e1e4f5f3017f",
   "metadata": {},
   "source": [
    "#### 4. Цена одной регистрации и стоимость 1000 показов "
   ]
  },
  {
   "cell_type": "markdown",
   "id": "b5cd6954-26a1-4da7-898c-cc1477bc5ca1",
   "metadata": {},
   "source": [
    "Распределение метрики, отражающей цену одной регистрации, по кампаниям:"
   ]
  },
  {
   "cell_type": "code",
   "execution_count": 21,
   "id": "1c06f09d-6a18-4f28-a45c-9aee15e8a4a7",
   "metadata": {},
   "outputs": [
    {
     "data": {
      "image/png": "[encoded data removed]",
      "text/plain": [
       "<Figure size 720x360 with 1 Axes>"
      ]
     },
     "metadata": {
      "needs_background": "light"
     },
     "output_type": "display_data"
    }
   ],
   "source": [
    "data.plot(x='Campaign_id', y='CPA', grid=True)\n",
    "plt.show()"
   ]
  },
  {
   "cell_type": "markdown",
   "id": "6df70fb7-ae67-48f9-acde-3b3b46bb8925",
   "metadata": {},
   "source": [
    "По графику можно наблюдать несколько аномально высоких пиков. ТОП-3 кампании с самой высокой стоимостью одной регистрации:"
   ]
  },
  {
   "cell_type": "code",
   "execution_count": 22,
   "id": "1dd545d3-5266-4569-8b94-38760d2420a4",
   "metadata": {},
   "outputs": [
    {
     "data": {
      "text/html": [
       "<div>\n",
       "<style scoped>\n",
       "    .dataframe tbody tr th:only-of-type {\n",
       "        vertical-align: middle;\n",
       "    }\n",
       "\n",
       "    .dataframe tbody tr th {\n",
       "        vertical-align: top;\n",
       "    }\n",
       "\n",
       "    .dataframe thead th {\n",
       "        text-align: right;\n",
       "    }\n",
       "</style>\n",
       "<table border=\"1\" class=\"dataframe\">\n",
       "  <thead>\n",
       "    <tr style=\"text-align: right;\">\n",
       "      <th></th>\n",
       "      <th>Campaign_id</th>\n",
       "      <th>CPA</th>\n",
       "    </tr>\n",
       "  </thead>\n",
       "  <tbody>\n",
       "    <tr>\n",
       "      <th>67</th>\n",
       "      <td>68</td>\n",
       "      <td>12.880000</td>\n",
       "    </tr>\n",
       "    <tr>\n",
       "      <th>79</th>\n",
       "      <td>80</td>\n",
       "      <td>5.487500</td>\n",
       "    </tr>\n",
       "    <tr>\n",
       "      <th>64</th>\n",
       "      <td>65</td>\n",
       "      <td>2.536364</td>\n",
       "    </tr>\n",
       "  </tbody>\n",
       "</table>\n",
       "</div>"
      ],
      "text/plain": [
       "    Campaign_id        CPA\n",
       "67           68  12.880000\n",
       "79           80   5.487500\n",
       "64           65   2.536364"
      ]
     },
     "execution_count": 22,
     "metadata": {},
     "output_type": "execute_result"
    }
   ],
   "source": [
    "data[['Campaign_id', 'CPA']].sort_values(by='CPA', ascending=False).head(3)"
   ]
  },
  {
   "cell_type": "markdown",
   "id": "ed8bdc1c-6055-4822-b5e7-814fff130fa9",
   "metadata": {},
   "source": [
    "ТОП-5 кампаний с самой низкой стоимостью одной регистрации:"
   ]
  },
  {
   "cell_type": "code",
   "execution_count": 23,
   "id": "6c1af499-ca3c-4631-b48c-123f7929a945",
   "metadata": {},
   "outputs": [
    {
     "data": {
      "text/html": [
       "<div>\n",
       "<style scoped>\n",
       "    .dataframe tbody tr th:only-of-type {\n",
       "        vertical-align: middle;\n",
       "    }\n",
       "\n",
       "    .dataframe tbody tr th {\n",
       "        vertical-align: top;\n",
       "    }\n",
       "\n",
       "    .dataframe thead th {\n",
       "        text-align: right;\n",
       "    }\n",
       "</style>\n",
       "<table border=\"1\" class=\"dataframe\">\n",
       "  <thead>\n",
       "    <tr style=\"text-align: right;\">\n",
       "      <th></th>\n",
       "      <th>Campaign_id</th>\n",
       "      <th>CPA</th>\n",
       "    </tr>\n",
       "  </thead>\n",
       "  <tbody>\n",
       "    <tr>\n",
       "      <th>20</th>\n",
       "      <td>21</td>\n",
       "      <td>0.032871</td>\n",
       "    </tr>\n",
       "    <tr>\n",
       "      <th>55</th>\n",
       "      <td>56</td>\n",
       "      <td>0.051116</td>\n",
       "    </tr>\n",
       "    <tr>\n",
       "      <th>44</th>\n",
       "      <td>45</td>\n",
       "      <td>0.057808</td>\n",
       "    </tr>\n",
       "    <tr>\n",
       "      <th>26</th>\n",
       "      <td>27</td>\n",
       "      <td>0.076500</td>\n",
       "    </tr>\n",
       "    <tr>\n",
       "      <th>23</th>\n",
       "      <td>24</td>\n",
       "      <td>0.080468</td>\n",
       "    </tr>\n",
       "  </tbody>\n",
       "</table>\n",
       "</div>"
      ],
      "text/plain": [
       "    Campaign_id       CPA\n",
       "20           21  0.032871\n",
       "55           56  0.051116\n",
       "44           45  0.057808\n",
       "26           27  0.076500\n",
       "23           24  0.080468"
      ]
     },
     "execution_count": 23,
     "metadata": {},
     "output_type": "execute_result"
    }
   ],
   "source": [
    "data[['Campaign_id', 'CPA']].sort_values(by='CPA').head()"
   ]
  },
  {
   "cell_type": "markdown",
   "id": "b8ee8923-ef27-4027-adab-b173568f7567",
   "metadata": {},
   "source": [
    "Составленный ТОП-5 практически полностью совпадает с ТОП-5 рекламных кампаний с самой маленькой ценой установки. \n",
    "\n",
    "Теперь посмотрим на распределение параметра стоимости за 1000 показов:"
   ]
  },
  {
   "cell_type": "code",
   "execution_count": 24,
   "id": "205fa2fe-7492-493b-86b2-98b3f8d7d2c0",
   "metadata": {},
   "outputs": [
    {
     "data": {
      "image/png": "[encoded data removed]",
      "text/plain": [
       "<Figure size 720x360 with 1 Axes>"
      ]
     },
     "metadata": {
      "needs_background": "light"
     },
     "output_type": "display_data"
    }
   ],
   "source": [
    "data.plot(x='Campaign_id', y='CPM', grid=True)\n",
    "plt.show()"
   ]
  },
  {
   "cell_type": "markdown",
   "id": "1c326704-9b58-4337-817d-071a3a14107e",
   "metadata": {},
   "source": [
    "Стоимость 1000 показов достаточно равномерно колебается относительно среднего значения, каких-то особо выделяющихся пиков не наблюдается."
   ]
  },
  {
   "cell_type": "markdown",
   "id": "98a3a3b8-e198-4428-b7a8-4537c8359056",
   "metadata": {},
   "source": [
    "**ТОП-5 кампаний с самой низкой стоимостью 1000 показов:**"
   ]
  },
  {
   "cell_type": "code",
   "execution_count": 25,
   "id": "1de2e81d-3519-43f2-9788-a787f075e889",
   "metadata": {},
   "outputs": [
    {
     "data": {
      "text/html": [
       "<div>\n",
       "<style scoped>\n",
       "    .dataframe tbody tr th:only-of-type {\n",
       "        vertical-align: middle;\n",
       "    }\n",
       "\n",
       "    .dataframe tbody tr th {\n",
       "        vertical-align: top;\n",
       "    }\n",
       "\n",
       "    .dataframe thead th {\n",
       "        text-align: right;\n",
       "    }\n",
       "</style>\n",
       "<table border=\"1\" class=\"dataframe\">\n",
       "  <thead>\n",
       "    <tr style=\"text-align: right;\">\n",
       "      <th></th>\n",
       "      <th>Campaign_id</th>\n",
       "      <th>CPM</th>\n",
       "    </tr>\n",
       "  </thead>\n",
       "  <tbody>\n",
       "    <tr>\n",
       "      <th>20</th>\n",
       "      <td>21</td>\n",
       "      <td>0.257255</td>\n",
       "    </tr>\n",
       "    <tr>\n",
       "      <th>55</th>\n",
       "      <td>56</td>\n",
       "      <td>0.282195</td>\n",
       "    </tr>\n",
       "    <tr>\n",
       "      <th>59</th>\n",
       "      <td>60</td>\n",
       "      <td>0.456686</td>\n",
       "    </tr>\n",
       "    <tr>\n",
       "      <th>26</th>\n",
       "      <td>27</td>\n",
       "      <td>0.486938</td>\n",
       "    </tr>\n",
       "    <tr>\n",
       "      <th>76</th>\n",
       "      <td>77</td>\n",
       "      <td>0.579909</td>\n",
       "    </tr>\n",
       "  </tbody>\n",
       "</table>\n",
       "</div>"
      ],
      "text/plain": [
       "    Campaign_id       CPM\n",
       "20           21  0.257255\n",
       "55           56  0.282195\n",
       "59           60  0.456686\n",
       "26           27  0.486938\n",
       "76           77  0.579909"
      ]
     },
     "execution_count": 25,
     "metadata": {},
     "output_type": "execute_result"
    }
   ],
   "source": [
    "data[['Campaign_id', 'CPM']].sort_values(by='CPM').head()"
   ]
  },
  {
   "cell_type": "markdown",
   "id": "64364bbe-1454-4e57-9f84-9080aaabf546",
   "metadata": {},
   "source": [
    "Первая, вторая и четвертая позиции в топе снова совпадают.\n",
    "\n",
    "**ТОП-5 кампаний с самой высокой стоимостью 1000 показов:**"
   ]
  },
  {
   "cell_type": "code",
   "execution_count": 26,
   "id": "3573a1cc-312f-4654-b690-91476597a6bf",
   "metadata": {},
   "outputs": [
    {
     "data": {
      "text/html": [
       "<div>\n",
       "<style scoped>\n",
       "    .dataframe tbody tr th:only-of-type {\n",
       "        vertical-align: middle;\n",
       "    }\n",
       "\n",
       "    .dataframe tbody tr th {\n",
       "        vertical-align: top;\n",
       "    }\n",
       "\n",
       "    .dataframe thead th {\n",
       "        text-align: right;\n",
       "    }\n",
       "</style>\n",
       "<table border=\"1\" class=\"dataframe\">\n",
       "  <thead>\n",
       "    <tr style=\"text-align: right;\">\n",
       "      <th></th>\n",
       "      <th>Campaign_id</th>\n",
       "      <th>CPM</th>\n",
       "    </tr>\n",
       "  </thead>\n",
       "  <tbody>\n",
       "    <tr>\n",
       "      <th>80</th>\n",
       "      <td>81</td>\n",
       "      <td>9.862700</td>\n",
       "    </tr>\n",
       "    <tr>\n",
       "      <th>36</th>\n",
       "      <td>37</td>\n",
       "      <td>9.749068</td>\n",
       "    </tr>\n",
       "    <tr>\n",
       "      <th>53</th>\n",
       "      <td>54</td>\n",
       "      <td>9.420260</td>\n",
       "    </tr>\n",
       "    <tr>\n",
       "      <th>54</th>\n",
       "      <td>55</td>\n",
       "      <td>8.892879</td>\n",
       "    </tr>\n",
       "    <tr>\n",
       "      <th>66</th>\n",
       "      <td>67</td>\n",
       "      <td>8.726979</td>\n",
       "    </tr>\n",
       "  </tbody>\n",
       "</table>\n",
       "</div>"
      ],
      "text/plain": [
       "    Campaign_id       CPM\n",
       "80           81  9.862700\n",
       "36           37  9.749068\n",
       "53           54  9.420260\n",
       "54           55  8.892879\n",
       "66           67  8.726979"
      ]
     },
     "execution_count": 26,
     "metadata": {},
     "output_type": "execute_result"
    }
   ],
   "source": [
    "data[['Campaign_id', 'CPM']].sort_values(by='CPM', ascending=False).head()"
   ]
  },
  {
   "cell_type": "markdown",
   "id": "e68a239f-37ec-4dae-bc63-deb8f3f2acc1",
   "metadata": {},
   "source": [
    "Из предыдущего раздела известно, что кампания №81 также характеризуется и самой высокой стоимостью установки."
   ]
  },
  {
   "cell_type": "markdown",
   "id": "2088643b-b0cc-4154-bb9c-6afab138b5d8",
   "metadata": {},
   "source": [
    "#### 5. Кликабельность и то, что с ней связано\n",
    "\n",
    "С кликабельностью связано 4 основных метрики: **CTR** (показатель кликабельности), **CTI** (количество установок за клик), **CPC** (стоимость клика) и **RPC** (доход с каждого клика по рекламе).\n",
    "\n",
    "**ТОП-5 кампаний с высоким показателем кликабельности:**"
   ]
  },
  {
   "cell_type": "code",
   "execution_count": 27,
   "id": "0bccd004-bc32-42b1-94dd-511a334f7e62",
   "metadata": {},
   "outputs": [
    {
     "data": {
      "text/html": [
       "<div>\n",
       "<style scoped>\n",
       "    .dataframe tbody tr th:only-of-type {\n",
       "        vertical-align: middle;\n",
       "    }\n",
       "\n",
       "    .dataframe tbody tr th {\n",
       "        vertical-align: top;\n",
       "    }\n",
       "\n",
       "    .dataframe thead th {\n",
       "        text-align: right;\n",
       "    }\n",
       "</style>\n",
       "<table border=\"1\" class=\"dataframe\">\n",
       "  <thead>\n",
       "    <tr style=\"text-align: right;\">\n",
       "      <th></th>\n",
       "      <th>Campaign_id</th>\n",
       "      <th>CTR</th>\n",
       "      <th>CTI</th>\n",
       "      <th>Geo</th>\n",
       "      <th>Buyer</th>\n",
       "    </tr>\n",
       "  </thead>\n",
       "  <tbody>\n",
       "    <tr>\n",
       "      <th>23</th>\n",
       "      <td>24</td>\n",
       "      <td>0.079362</td>\n",
       "      <td>0.176973</td>\n",
       "      <td>north america</td>\n",
       "      <td>buyer_1</td>\n",
       "    </tr>\n",
       "    <tr>\n",
       "      <th>52</th>\n",
       "      <td>53</td>\n",
       "      <td>0.064620</td>\n",
       "      <td>0.267635</td>\n",
       "      <td>north america</td>\n",
       "      <td>buyer_2</td>\n",
       "    </tr>\n",
       "    <tr>\n",
       "      <th>46</th>\n",
       "      <td>47</td>\n",
       "      <td>0.056383</td>\n",
       "      <td>0.353659</td>\n",
       "      <td>north america</td>\n",
       "      <td>buyer_4</td>\n",
       "    </tr>\n",
       "    <tr>\n",
       "      <th>44</th>\n",
       "      <td>45</td>\n",
       "      <td>0.054305</td>\n",
       "      <td>0.319591</td>\n",
       "      <td>latin america</td>\n",
       "      <td>buyer_1</td>\n",
       "    </tr>\n",
       "    <tr>\n",
       "      <th>78</th>\n",
       "      <td>79</td>\n",
       "      <td>0.051225</td>\n",
       "      <td>0.367150</td>\n",
       "      <td>north america</td>\n",
       "      <td>buyer_2</td>\n",
       "    </tr>\n",
       "  </tbody>\n",
       "</table>\n",
       "</div>"
      ],
      "text/plain": [
       "    Campaign_id       CTR       CTI            Geo    Buyer\n",
       "23           24  0.079362  0.176973  north america  buyer_1\n",
       "52           53  0.064620  0.267635  north america  buyer_2\n",
       "46           47  0.056383  0.353659  north america  buyer_4\n",
       "44           45  0.054305  0.319591  latin america  buyer_1\n",
       "78           79  0.051225  0.367150  north america  buyer_2"
      ]
     },
     "execution_count": 27,
     "metadata": {},
     "output_type": "execute_result"
    }
   ],
   "source": [
    "data.sort_values(by='CTR', ascending=False).head()[['Campaign_id', 'CTR', 'CTI', 'Geo', 'Buyer']] "
   ]
  },
  {
   "cell_type": "markdown",
   "id": "124a7ea8-7579-4239-ac6f-2dd20eda69d3",
   "metadata": {},
   "source": [
    "4 из 5 кампаний, попавших в топ, были настроены на Северную Америку. При этом, в данной метрике неплохо себя показали медиабайеры 1 и 2. Рекламная кампания медиабайера №4 также попала в топ."
   ]
  },
  {
   "cell_type": "markdown",
   "id": "bbd9289f-ecf0-4e92-9481-cea98bb5859b",
   "metadata": {},
   "source": [
    "**ТОП-5 кампаний с высоким показателем количества установок за клик:**"
   ]
  },
  {
   "cell_type": "code",
   "execution_count": 28,
   "id": "f9ebc445-bba8-4494-a3e9-b95a280cdca7",
   "metadata": {},
   "outputs": [
    {
     "data": {
      "text/html": [
       "<div>\n",
       "<style scoped>\n",
       "    .dataframe tbody tr th:only-of-type {\n",
       "        vertical-align: middle;\n",
       "    }\n",
       "\n",
       "    .dataframe tbody tr th {\n",
       "        vertical-align: top;\n",
       "    }\n",
       "\n",
       "    .dataframe thead th {\n",
       "        text-align: right;\n",
       "    }\n",
       "</style>\n",
       "<table border=\"1\" class=\"dataframe\">\n",
       "  <thead>\n",
       "    <tr style=\"text-align: right;\">\n",
       "      <th></th>\n",
       "      <th>Campaign_id</th>\n",
       "      <th>CTR</th>\n",
       "      <th>CTI</th>\n",
       "      <th>Geo</th>\n",
       "      <th>Buyer</th>\n",
       "    </tr>\n",
       "  </thead>\n",
       "  <tbody>\n",
       "    <tr>\n",
       "      <th>67</th>\n",
       "      <td>68</td>\n",
       "      <td>0.030668</td>\n",
       "      <td>0.615385</td>\n",
       "      <td>north america</td>\n",
       "      <td>buyer_2</td>\n",
       "    </tr>\n",
       "    <tr>\n",
       "      <th>12</th>\n",
       "      <td>13</td>\n",
       "      <td>0.015985</td>\n",
       "      <td>0.608532</td>\n",
       "      <td>western europe</td>\n",
       "      <td>buyer_2</td>\n",
       "    </tr>\n",
       "    <tr>\n",
       "      <th>13</th>\n",
       "      <td>14</td>\n",
       "      <td>0.028109</td>\n",
       "      <td>0.603594</td>\n",
       "      <td>cis</td>\n",
       "      <td>buyer_2</td>\n",
       "    </tr>\n",
       "    <tr>\n",
       "      <th>61</th>\n",
       "      <td>62</td>\n",
       "      <td>0.013796</td>\n",
       "      <td>0.597938</td>\n",
       "      <td>western europe</td>\n",
       "      <td>buyer_2</td>\n",
       "    </tr>\n",
       "    <tr>\n",
       "      <th>62</th>\n",
       "      <td>63</td>\n",
       "      <td>0.014454</td>\n",
       "      <td>0.542373</td>\n",
       "      <td>north america</td>\n",
       "      <td>buyer_4</td>\n",
       "    </tr>\n",
       "  </tbody>\n",
       "</table>\n",
       "</div>"
      ],
      "text/plain": [
       "    Campaign_id       CTR       CTI             Geo    Buyer\n",
       "67           68  0.030668  0.615385   north america  buyer_2\n",
       "12           13  0.015985  0.608532  western europe  buyer_2\n",
       "13           14  0.028109  0.603594             cis  buyer_2\n",
       "61           62  0.013796  0.597938  western europe  buyer_2\n",
       "62           63  0.014454  0.542373   north america  buyer_4"
      ]
     },
     "execution_count": 28,
     "metadata": {},
     "output_type": "execute_result"
    }
   ],
   "source": [
    "data.sort_values(by='CTI', ascending=False).head()[['Campaign_id', 'CTR', 'CTI', 'Geo', 'Buyer']] "
   ]
  },
  {
   "cell_type": "markdown",
   "id": "b8a939c0-ee05-4a19-99a2-975ce7961cc9",
   "metadata": {},
   "source": [
    "По настраиваемой геолокации лидируют по количеству установок за клик Северная Америка и Западная Европа. А вот среди медиабайеров в данном случае хорошо отличился №2. Его рекламные кампании принесли большее число установок за 1 клик."
   ]
  },
  {
   "cell_type": "markdown",
   "id": "98152e93-a77b-4981-92eb-46ca7041590b",
   "metadata": {},
   "source": [
    "**ТОП-5 кампаний с самой маленькой стоимостью клика:**"
   ]
  },
  {
   "cell_type": "code",
   "execution_count": 29,
   "id": "75494e1f-1d92-4dc9-a102-fa8db09a3e1c",
   "metadata": {},
   "outputs": [
    {
     "data": {
      "text/html": [
       "<div>\n",
       "<style scoped>\n",
       "    .dataframe tbody tr th:only-of-type {\n",
       "        vertical-align: middle;\n",
       "    }\n",
       "\n",
       "    .dataframe tbody tr th {\n",
       "        vertical-align: top;\n",
       "    }\n",
       "\n",
       "    .dataframe thead th {\n",
       "        text-align: right;\n",
       "    }\n",
       "</style>\n",
       "<table border=\"1\" class=\"dataframe\">\n",
       "  <thead>\n",
       "    <tr style=\"text-align: right;\">\n",
       "      <th></th>\n",
       "      <th>Campaign_id</th>\n",
       "      <th>CPC</th>\n",
       "      <th>RPC_30d</th>\n",
       "      <th>Geo</th>\n",
       "      <th>Buyer</th>\n",
       "    </tr>\n",
       "  </thead>\n",
       "  <tbody>\n",
       "    <tr>\n",
       "      <th>20</th>\n",
       "      <td>21</td>\n",
       "      <td>0.007147</td>\n",
       "      <td>0.000755</td>\n",
       "      <td>north africa</td>\n",
       "      <td>buyer_5</td>\n",
       "    </tr>\n",
       "    <tr>\n",
       "      <th>23</th>\n",
       "      <td>24</td>\n",
       "      <td>0.009762</td>\n",
       "      <td>0.009316</td>\n",
       "      <td>north america</td>\n",
       "      <td>buyer_1</td>\n",
       "    </tr>\n",
       "    <tr>\n",
       "      <th>44</th>\n",
       "      <td>45</td>\n",
       "      <td>0.011212</td>\n",
       "      <td>0.005946</td>\n",
       "      <td>latin america</td>\n",
       "      <td>buyer_1</td>\n",
       "    </tr>\n",
       "    <tr>\n",
       "      <th>55</th>\n",
       "      <td>56</td>\n",
       "      <td>0.012337</td>\n",
       "      <td>0.001557</td>\n",
       "      <td>north africa</td>\n",
       "      <td>buyer_5</td>\n",
       "    </tr>\n",
       "    <tr>\n",
       "      <th>59</th>\n",
       "      <td>60</td>\n",
       "      <td>0.015177</td>\n",
       "      <td>0.002359</td>\n",
       "      <td>tropical africa</td>\n",
       "      <td>buyer_1</td>\n",
       "    </tr>\n",
       "  </tbody>\n",
       "</table>\n",
       "</div>"
      ],
      "text/plain": [
       "    Campaign_id       CPC   RPC_30d              Geo    Buyer\n",
       "20           21  0.007147  0.000755     north africa  buyer_5\n",
       "23           24  0.009762  0.009316    north america  buyer_1\n",
       "44           45  0.011212  0.005946    latin america  buyer_1\n",
       "55           56  0.012337  0.001557     north africa  buyer_5\n",
       "59           60  0.015177  0.002359  tropical africa  buyer_1"
      ]
     },
     "execution_count": 29,
     "metadata": {},
     "output_type": "execute_result"
    }
   ],
   "source": [
    "data.sort_values(by='CPC').head()[['Campaign_id', 'CPC', 'RPC_30d', 'Geo', 'Buyer']] "
   ]
  },
  {
   "cell_type": "markdown",
   "id": "fde99a36-1c14-49a2-9452-a693ad39b519",
   "metadata": {},
   "source": [
    "2 из 5 рекламных кампаний из данного топа были размещены медиабайером №5, остальные - медиабайером №1."
   ]
  },
  {
   "cell_type": "markdown",
   "id": "3c5715ee-c20b-43d3-b240-17ce2b8f3b44",
   "metadata": {},
   "source": [
    "**ТОП-5 кампаний с самым высоким общим доходом за клик:**"
   ]
  },
  {
   "cell_type": "code",
   "execution_count": 30,
   "id": "7e8e141b-29d7-4f22-b2c9-90167aa84d39",
   "metadata": {},
   "outputs": [
    {
     "data": {
      "text/html": [
       "<div>\n",
       "<style scoped>\n",
       "    .dataframe tbody tr th:only-of-type {\n",
       "        vertical-align: middle;\n",
       "    }\n",
       "\n",
       "    .dataframe tbody tr th {\n",
       "        vertical-align: top;\n",
       "    }\n",
       "\n",
       "    .dataframe thead th {\n",
       "        text-align: right;\n",
       "    }\n",
       "</style>\n",
       "<table border=\"1\" class=\"dataframe\">\n",
       "  <thead>\n",
       "    <tr style=\"text-align: right;\">\n",
       "      <th></th>\n",
       "      <th>Campaign_id</th>\n",
       "      <th>CPC</th>\n",
       "      <th>RPC_30d</th>\n",
       "      <th>Geo</th>\n",
       "      <th>Buyer</th>\n",
       "    </tr>\n",
       "  </thead>\n",
       "  <tbody>\n",
       "    <tr>\n",
       "      <th>62</th>\n",
       "      <td>63</td>\n",
       "      <td>0.253559</td>\n",
       "      <td>0.568236</td>\n",
       "      <td>north america</td>\n",
       "      <td>buyer_4</td>\n",
       "    </tr>\n",
       "    <tr>\n",
       "      <th>32</th>\n",
       "      <td>33</td>\n",
       "      <td>0.245789</td>\n",
       "      <td>0.340076</td>\n",
       "      <td>north america</td>\n",
       "      <td>buyer_4</td>\n",
       "    </tr>\n",
       "    <tr>\n",
       "      <th>24</th>\n",
       "      <td>25</td>\n",
       "      <td>0.241368</td>\n",
       "      <td>0.324010</td>\n",
       "      <td>north america</td>\n",
       "      <td>buyer_3</td>\n",
       "    </tr>\n",
       "    <tr>\n",
       "      <th>12</th>\n",
       "      <td>13</td>\n",
       "      <td>0.241368</td>\n",
       "      <td>0.294385</td>\n",
       "      <td>western europe</td>\n",
       "      <td>buyer_2</td>\n",
       "    </tr>\n",
       "    <tr>\n",
       "      <th>19</th>\n",
       "      <td>20</td>\n",
       "      <td>0.319712</td>\n",
       "      <td>0.263175</td>\n",
       "      <td>north america</td>\n",
       "      <td>buyer_4</td>\n",
       "    </tr>\n",
       "  </tbody>\n",
       "</table>\n",
       "</div>"
      ],
      "text/plain": [
       "    Campaign_id       CPC   RPC_30d             Geo    Buyer\n",
       "62           63  0.253559  0.568236   north america  buyer_4\n",
       "32           33  0.245789  0.340076   north america  buyer_4\n",
       "24           25  0.241368  0.324010   north america  buyer_3\n",
       "12           13  0.241368  0.294385  western europe  buyer_2\n",
       "19           20  0.319712  0.263175   north america  buyer_4"
      ]
     },
     "execution_count": 30,
     "metadata": {},
     "output_type": "execute_result"
    }
   ],
   "source": [
    "data.sort_values(by='RPC_30d', ascending=False).head()[['Campaign_id', 'CPC', 'RPC_30d', 'Geo', 'Buyer']] "
   ]
  },
  {
   "cell_type": "markdown",
   "id": "2bc44040-89e2-4cd7-9e23-135ee6828d9d",
   "metadata": {},
   "source": [
    "Рекламные кампании медиабайера №4 заняли 3 из 5 мест в топе. 4 из 5 топ-кампаний, при этом, орентированы на Северную Америку."
   ]
  },
  {
   "cell_type": "markdown",
   "id": "c10c6075-7c94-44e4-a753-f8e33f36654c",
   "metadata": {},
   "source": [
    "**Средние значения по медиабайерам**:\n",
    "\n",
    "Зелеными выделены наилучшие показатели, красными - худшие."
   ]
  },
  {
   "cell_type": "code",
   "execution_count": 31,
   "id": "2347fa5a-73d0-4865-811c-89c2c9f820a4",
   "metadata": {},
   "outputs": [
    {
     "data": {
      "text/html": [
       "<style type=\"text/css\">\n",
       "#T_75de4_row0_col0, #T_75de4_row0_col2, #T_75de4_row1_col1, #T_75de4_row2_col3 {\n",
       "  background-color: yellowgreen;\n",
       "}\n",
       "#T_75de4_row0_col1, #T_75de4_row0_col3, #T_75de4_row2_col0, #T_75de4_row4_col2 {\n",
       "  background-color: coral;\n",
       "}\n",
       "</style>\n",
       "<table id=\"T_75de4\">\n",
       "  <thead>\n",
       "    <tr>\n",
       "      <th class=\"blank level0\" >&nbsp;</th>\n",
       "      <th id=\"T_75de4_level0_col0\" class=\"col_heading level0 col0\" >CPC</th>\n",
       "      <th id=\"T_75de4_level0_col1\" class=\"col_heading level0 col1\" >CTI</th>\n",
       "      <th id=\"T_75de4_level0_col2\" class=\"col_heading level0 col2\" >CTR</th>\n",
       "      <th id=\"T_75de4_level0_col3\" class=\"col_heading level0 col3\" >RPC_30d</th>\n",
       "    </tr>\n",
       "    <tr>\n",
       "      <th class=\"index_name level0\" >Buyer</th>\n",
       "      <th class=\"blank col0\" >&nbsp;</th>\n",
       "      <th class=\"blank col1\" >&nbsp;</th>\n",
       "      <th class=\"blank col2\" >&nbsp;</th>\n",
       "      <th class=\"blank col3\" >&nbsp;</th>\n",
       "    </tr>\n",
       "  </thead>\n",
       "  <tbody>\n",
       "    <tr>\n",
       "      <th id=\"T_75de4_level0_row0\" class=\"row_heading level0 row0\" >buyer_1</th>\n",
       "      <td id=\"T_75de4_row0_col0\" class=\"data row0 col0\" >0.070754</td>\n",
       "      <td id=\"T_75de4_row0_col1\" class=\"data row0 col1\" >0.317572</td>\n",
       "      <td id=\"T_75de4_row0_col2\" class=\"data row0 col2\" >0.036250</td>\n",
       "      <td id=\"T_75de4_row0_col3\" class=\"data row0 col3\" >0.038990</td>\n",
       "    </tr>\n",
       "    <tr>\n",
       "      <th id=\"T_75de4_level0_row1\" class=\"row_heading level0 row1\" >buyer_2</th>\n",
       "      <td id=\"T_75de4_row1_col0\" class=\"data row1 col0\" >0.146038</td>\n",
       "      <td id=\"T_75de4_row1_col1\" class=\"data row1 col1\" >0.445899</td>\n",
       "      <td id=\"T_75de4_row1_col2\" class=\"data row1 col2\" >0.029513</td>\n",
       "      <td id=\"T_75de4_row1_col3\" class=\"data row1 col3\" >0.095710</td>\n",
       "    </tr>\n",
       "    <tr>\n",
       "      <th id=\"T_75de4_level0_row2\" class=\"row_heading level0 row2\" >buyer_3</th>\n",
       "      <td id=\"T_75de4_row2_col0\" class=\"data row2 col0\" >0.191534</td>\n",
       "      <td id=\"T_75de4_row2_col1\" class=\"data row2 col1\" >0.353711</td>\n",
       "      <td id=\"T_75de4_row2_col2\" class=\"data row2 col2\" >0.034501</td>\n",
       "      <td id=\"T_75de4_row2_col3\" class=\"data row2 col3\" >0.194024</td>\n",
       "    </tr>\n",
       "    <tr>\n",
       "      <th id=\"T_75de4_level0_row3\" class=\"row_heading level0 row3\" >buyer_4</th>\n",
       "      <td id=\"T_75de4_row3_col0\" class=\"data row3 col0\" >0.169162</td>\n",
       "      <td id=\"T_75de4_row3_col1\" class=\"data row3 col1\" >0.387779</td>\n",
       "      <td id=\"T_75de4_row3_col2\" class=\"data row3 col2\" >0.025686</td>\n",
       "      <td id=\"T_75de4_row3_col3\" class=\"data row3 col3\" >0.143703</td>\n",
       "    </tr>\n",
       "    <tr>\n",
       "      <th id=\"T_75de4_level0_row4\" class=\"row_heading level0 row4\" >buyer_5</th>\n",
       "      <td id=\"T_75de4_row4_col0\" class=\"data row4 col0\" >0.179533</td>\n",
       "      <td id=\"T_75de4_row4_col1\" class=\"data row4 col1\" >0.384015</td>\n",
       "      <td id=\"T_75de4_row4_col2\" class=\"data row4 col2\" >0.024314</td>\n",
       "      <td id=\"T_75de4_row4_col3\" class=\"data row4 col3\" >0.055055</td>\n",
       "    </tr>\n",
       "  </tbody>\n",
       "</table>\n"
      ],
      "text/plain": [
       "<pandas.io.formats.style.Styler at 0x28f19db9e50>"
      ]
     },
     "execution_count": 31,
     "metadata": {},
     "output_type": "execute_result"
    }
   ],
   "source": [
    "subset = ['CTR', 'CTI', 'RPC_30d']\n",
    "\n",
    "(\n",
    "    data.pivot_table(index='Buyer', values=['CTR', 'CTI', 'CPC', 'RPC_30d'])\n",
    "    .style\n",
    "    .highlight_null(null_color='lightgrey')\n",
    "    .highlight_max(color='yellowgreen', subset=subset)\n",
    "    .highlight_max(color='coral', subset='CPC')\n",
    "    .highlight_min(color='coral', subset=subset)\n",
    "    .highlight_min(color='yellowgreen', subset='CPC')\n",
    ")"
   ]
  },
  {
   "cell_type": "markdown",
   "id": "4e417f1c-46ce-45fd-ace7-7c2503d23316",
   "metadata": {},
   "source": [
    "Если рассматривать в среднем, то на данных метриках хорошо показал себя медиабайер №1 по самой меньшей стоимости за клик и высокому показателю кликабельности, медиабайер №2 по количеству установок за клик и медиабайер №3 по доходу с каждого клика. Однако у №1 наименьший процент установок от числа кликов и, следовательно, меньший доход с одного клика, у а №3 - самая высокая стоимость клика. "
   ]
  },
  {
   "cell_type": "markdown",
   "id": "6e8d6aa7-5ba8-4c07-a533-b762f0179789",
   "metadata": {},
   "source": [
    "#### 6. Процент \"активации\" и конверсия покупателей"
   ]
  },
  {
   "cell_type": "markdown",
   "id": "799fa854-6f96-45b5-b7a1-f4652366ad53",
   "metadata": {},
   "source": [
    "**Средние значения метрик по медиабайерам:**"
   ]
  },
  {
   "cell_type": "code",
   "execution_count": 32,
   "id": "e822000c-7c24-4229-8880-5f75f200d0e1",
   "metadata": {},
   "outputs": [
    {
     "data": {
      "text/html": [
       "<style type=\"text/css\">\n",
       "#T_a3ba3_row0_col1, #T_a3ba3_row1_col0 {\n",
       "  background-color: coral;\n",
       "}\n",
       "#T_a3ba3_row2_col0, #T_a3ba3_row2_col1 {\n",
       "  background-color: yellowgreen;\n",
       "}\n",
       "</style>\n",
       "<table id=\"T_a3ba3\">\n",
       "  <thead>\n",
       "    <tr>\n",
       "      <th class=\"blank level0\" >&nbsp;</th>\n",
       "      <th id=\"T_a3ba3_level0_col0\" class=\"col_heading level0 col0\" >AR</th>\n",
       "      <th id=\"T_a3ba3_level0_col1\" class=\"col_heading level0 col1\" >CR_30d</th>\n",
       "    </tr>\n",
       "    <tr>\n",
       "      <th class=\"index_name level0\" >Buyer</th>\n",
       "      <th class=\"blank col0\" >&nbsp;</th>\n",
       "      <th class=\"blank col1\" >&nbsp;</th>\n",
       "    </tr>\n",
       "  </thead>\n",
       "  <tbody>\n",
       "    <tr>\n",
       "      <th id=\"T_a3ba3_level0_row0\" class=\"row_heading level0 row0\" >buyer_1</th>\n",
       "      <td id=\"T_a3ba3_row0_col0\" class=\"data row0 col0\" >0.537973</td>\n",
       "      <td id=\"T_a3ba3_row0_col1\" class=\"data row0 col1\" >0.002826</td>\n",
       "    </tr>\n",
       "    <tr>\n",
       "      <th id=\"T_a3ba3_level0_row1\" class=\"row_heading level0 row1\" >buyer_2</th>\n",
       "      <td id=\"T_a3ba3_row1_col0\" class=\"data row1 col0\" >0.500476</td>\n",
       "      <td id=\"T_a3ba3_row1_col1\" class=\"data row1 col1\" >0.006497</td>\n",
       "    </tr>\n",
       "    <tr>\n",
       "      <th id=\"T_a3ba3_level0_row2\" class=\"row_heading level0 row2\" >buyer_3</th>\n",
       "      <td id=\"T_a3ba3_row2_col0\" class=\"data row2 col0\" >0.667215</td>\n",
       "      <td id=\"T_a3ba3_row2_col1\" class=\"data row2 col1\" >0.012609</td>\n",
       "    </tr>\n",
       "    <tr>\n",
       "      <th id=\"T_a3ba3_level0_row3\" class=\"row_heading level0 row3\" >buyer_4</th>\n",
       "      <td id=\"T_a3ba3_row3_col0\" class=\"data row3 col0\" >0.646803</td>\n",
       "      <td id=\"T_a3ba3_row3_col1\" class=\"data row3 col1\" >0.007509</td>\n",
       "    </tr>\n",
       "    <tr>\n",
       "      <th id=\"T_a3ba3_level0_row4\" class=\"row_heading level0 row4\" >buyer_5</th>\n",
       "      <td id=\"T_a3ba3_row4_col0\" class=\"data row4 col0\" >0.545743</td>\n",
       "      <td id=\"T_a3ba3_row4_col1\" class=\"data row4 col1\" >0.005961</td>\n",
       "    </tr>\n",
       "  </tbody>\n",
       "</table>\n"
      ],
      "text/plain": [
       "<pandas.io.formats.style.Styler at 0x28f19db9370>"
      ]
     },
     "execution_count": 32,
     "metadata": {},
     "output_type": "execute_result"
    }
   ],
   "source": [
    "(\n",
    "    data.pivot_table(index='Buyer', values=['AR', 'CR_30d'])\n",
    "    .style\n",
    "    .highlight_null(null_color='lightgrey')\n",
    "    .highlight_max(color='yellowgreen')\n",
    "    .highlight_min(color='coral')\n",
    ")"
   ]
  },
  {
   "cell_type": "markdown",
   "id": "f35371b9-20fc-4dc3-b033-a23b0327e019",
   "metadata": {},
   "source": [
    "По средним значениям данных метрик определенно выигрывает медиабайер №3. Его рекламные кампании характеризуются самыми высокими значениями количества регистраций на количество установок, а также конверсией зарегистрировавшихся пользователей в покупателей в течение месяца. Рекламные кампании медиабайера №1 показывают самый низкий процент конверсии пользователей, а медиабайера №2 - самый низкий процент активации (примерно 50% пользователей регистрируются в приложении после его установки) "
   ]
  },
  {
   "cell_type": "markdown",
   "id": "cbb87c36-6d21-4cdb-a562-6b8581e91f91",
   "metadata": {},
   "source": [
    "### Общий вывод\n",
    "\n",
    "В рамках данного исследования с помощью основных маркетинговых метрик были изучены данные по 87 рекламным кампаниям, ориентированных на разные регионы и запущенных 5 различными медиабайерами.\n",
    "\n",
    "**Основные выводы:**\n",
    "- Прибыльнее всего оказались кампании, ориентированные на Северную Америку и Западную Европу\n",
    "- Кампании, настроенные на Австралию-Океанию или Африку, не только характеризовались малой выручкой, но и полным отсутствием прибыли с покупок пользователей\n",
    "- Лучше всех из медиабайеров по окупаемости, а также показателям конверсии пользователей в покупатели и проценту \"активации\" приложения, показал себя медиабайер №3. Клики по его рекламным кампаниям характеризуются самой высокой стоимостью, но и самой большой доходностью.\n",
    "- Затраты на рекламу у остальных медиабайеров, в среднем, не окупаются даже за месяц действия.\n",
    "- Одними из самых \"дешевых\" кампаний оказались №21, 24, 45, 56. Они характеризуются самой маленькой стоимостью установки приложения, самой маленькой стоимостью регистрации, самой маленькой стоимостью 1000 показов, самой маленькой стоимостью клика и, к тому же, имеют достаточно высокий показатель кликабельности.\n",
    "- Кампания №81 оказалась самой дорогой по стоимости установки и стоимости регистрации"
   ]
  }
 ],
 "metadata": {
  "kernelspec": {
   "display_name": "Python 3 (ipykernel)",
   "language": "python",
   "name": "python3"
  },
  "language_info": {
   "codemirror_mode": {
    "name": "ipython",
    "version": 3
   },
   "file_extension": ".py",
   "mimetype": "text/x-python",
   "name": "python",
   "nbconvert_exporter": "python",
   "pygments_lexer": "ipython3",
   "version": "3.9.7"
  }
 },
 "nbformat": 4,
 "nbformat_minor": 5
}
