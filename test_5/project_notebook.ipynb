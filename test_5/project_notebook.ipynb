{
 "cells": [
  {
   "cell_type": "markdown",
   "id": "99334670-0f02-4525-bf82-2a80148637dc",
   "metadata": {},
   "source": [
    "# Тестовое задание на позицию Data Analyst\n",
    "## Часть 3. Исследовательский анализ данных\n",
    "Данные представлены в формате CSV и содержат информацию о кредитной истории клиентов.\n",
    "\n",
    "**Цель:** провести исследовательский анализ данных и изучить влияние представленных параметров на целевые переменные."
   ]
  },
  {
   "cell_type": "markdown",
   "id": "bcc43c81-38dc-4271-a21c-cafacc8544ec",
   "metadata": {},
   "source": [
    "### Описание данных\n",
    "**Переменные, характеризующие кредитную историю клиента:**\n",
    "- `cred_sum_cc_all` - сумма кредитов по кредитным картам\n",
    "- `mfo_inqs_count_month` - количество запросов на кредиты в другие в МФО\n",
    "- `all_closed_creds_sum_all` - сумма закрытых кредитов\n",
    "- `bank_inqs_count_quarter` - количество запросов на кредиты в банки\n",
    "- `cred_max_overdue_max_ly` - максимальная просрочка за год\n",
    "- `all_active_creds_sum_all` - денежная сумма всех активных кредитов\n",
    "- `mfo_last_days_all` - Количество дней с последнего займа в МФО\n",
    "- `cred_sum_cc_ly` - Сумма лимитов кредитных карт, оформленных за последний год\n",
    "- `cred_sum_debt_all_all` - Сумма задолженности по всем кредитам\n",
    "- `all_closed_creds_sum_ly` - Сумма закрытых кредитов за последний год\n",
    "- `mfo_cred_mean_sum_3lm` - Средняя сумма МФО кредитов, выданных за последние 3 месяца\n",
    "- `delay_more_sum_all` - Количество просрочек более чем на 90 дней по всем кредитам\n",
    "- `all_creds_count_all` - Общее количество кредитов\n",
    "- `cred_day_overdue_all_sum_all` - Суммарное количество дней просрочки текущих активных кредитов\n",
    "- `cred_max_overdue_max_3lm` - Максимальная сумма просроченной задолженности, по кредитам взятым за последние 3 месяца\n",
    "- `mfo_closed_count_ly` - Количество закрытых МФО кредитов, взятых за последний год\n",
    "- `cred_sum_overdue_cc_all` - Сумма просрочек по кредитным картам\n",
    "- `count_overdue_all_3lm` - Количество кредитов на просрочке, взятых за последние 3 месяца\n",
    "- `all_creds_count_lm` - Количество кредитов, взятых за последний месяц\n",
    "- `region` - регион подачи заявки \n",
    "\n",
    "**Переменные характеризующие клиента**\n",
    "- `work_code` - Профессия. 5 - рабочие профессии (слесарь, токарь). 3 - офисный работник (бухгалтер, программист). 1 - госслужащий (полицейский, медсестра)\n",
    "- `month_income` - доход\n",
    "\n",
    "**Целевые переменные:**\n",
    "- `bad` - 1 - кредит просрочен, 0 - кредит возвращен, nan - отказ.\n",
    "- `approved` - 1 - одобрено, 0 - отказано."
   ]
  },
  {
   "cell_type": "code",
   "execution_count": 1,
   "id": "e60b7a62-8f6c-467e-8ac4-341056a3d4e7",
   "metadata": {},
   "outputs": [],
   "source": [
    "# необходимые библиотеки\n",
    "import pandas as pd\n",
    "import matplotlib.pyplot as plt"
   ]
  },
  {
   "cell_type": "code",
   "execution_count": 2,
   "id": "46fcc8ed-dd4b-4d52-a720-672018029407",
   "metadata": {},
   "outputs": [
    {
     "data": {
      "text/html": [
       "<div>\n",
       "<style scoped>\n",
       "    .dataframe tbody tr th:only-of-type {\n",
       "        vertical-align: middle;\n",
       "    }\n",
       "\n",
       "    .dataframe tbody tr th {\n",
       "        vertical-align: top;\n",
       "    }\n",
       "\n",
       "    .dataframe thead th {\n",
       "        text-align: right;\n",
       "    }\n",
       "</style>\n",
       "<table border=\"1\" class=\"dataframe\">\n",
       "  <thead>\n",
       "    <tr style=\"text-align: right;\">\n",
       "      <th></th>\n",
       "      <th>order_id</th>\n",
       "      <th>cred_sum_cc_all</th>\n",
       "      <th>mfo_inqs_count_month</th>\n",
       "      <th>all_closed_creds_sum_all</th>\n",
       "      <th>bank_inqs_count_quarter</th>\n",
       "      <th>cred_max_overdue_max_ly</th>\n",
       "      <th>all_active_creds_sum_all</th>\n",
       "      <th>mfo_last_days_all</th>\n",
       "      <th>cred_sum_cc_ly</th>\n",
       "      <th>cred_sum_debt_all_all</th>\n",
       "      <th>...</th>\n",
       "      <th>cred_max_overdue_max_3lm</th>\n",
       "      <th>mfo_closed_count_ly</th>\n",
       "      <th>cred_sum_overdue_cc_all</th>\n",
       "      <th>count_overdue_all_3lm</th>\n",
       "      <th>all_creds_count_lm</th>\n",
       "      <th>work_code</th>\n",
       "      <th>month_income</th>\n",
       "      <th>region</th>\n",
       "      <th>bad</th>\n",
       "      <th>approved</th>\n",
       "    </tr>\n",
       "  </thead>\n",
       "  <tbody>\n",
       "    <tr>\n",
       "      <th>14098</th>\n",
       "      <td>6119899</td>\n",
       "      <td>0.0</td>\n",
       "      <td>2</td>\n",
       "      <td>0</td>\n",
       "      <td>0</td>\n",
       "      <td>0.0</td>\n",
       "      <td>5000</td>\n",
       "      <td>14</td>\n",
       "      <td>0.0</td>\n",
       "      <td>5000.0</td>\n",
       "      <td>...</td>\n",
       "      <td>0.0</td>\n",
       "      <td>0</td>\n",
       "      <td>0.0</td>\n",
       "      <td>0</td>\n",
       "      <td>1</td>\n",
       "      <td>3</td>\n",
       "      <td>20000</td>\n",
       "      <td>45</td>\n",
       "      <td>NaN</td>\n",
       "      <td>0</td>\n",
       "    </tr>\n",
       "    <tr>\n",
       "      <th>17816</th>\n",
       "      <td>6468097</td>\n",
       "      <td>83000.1</td>\n",
       "      <td>2</td>\n",
       "      <td>2412673</td>\n",
       "      <td>3</td>\n",
       "      <td>14000.0</td>\n",
       "      <td>717104</td>\n",
       "      <td>72</td>\n",
       "      <td>0.0</td>\n",
       "      <td>0.0</td>\n",
       "      <td>...</td>\n",
       "      <td>8000.0</td>\n",
       "      <td>11</td>\n",
       "      <td>0.0</td>\n",
       "      <td>2</td>\n",
       "      <td>0</td>\n",
       "      <td>4</td>\n",
       "      <td>35000</td>\n",
       "      <td>73</td>\n",
       "      <td>NaN</td>\n",
       "      <td>0</td>\n",
       "    </tr>\n",
       "    <tr>\n",
       "      <th>22017</th>\n",
       "      <td>6647559</td>\n",
       "      <td>0.0</td>\n",
       "      <td>0</td>\n",
       "      <td>0</td>\n",
       "      <td>0</td>\n",
       "      <td>3960.0</td>\n",
       "      <td>3960</td>\n",
       "      <td>223</td>\n",
       "      <td>0.0</td>\n",
       "      <td>0.0</td>\n",
       "      <td>...</td>\n",
       "      <td>0.0</td>\n",
       "      <td>0</td>\n",
       "      <td>0.0</td>\n",
       "      <td>0</td>\n",
       "      <td>0</td>\n",
       "      <td>3</td>\n",
       "      <td>50000</td>\n",
       "      <td>74</td>\n",
       "      <td>NaN</td>\n",
       "      <td>0</td>\n",
       "    </tr>\n",
       "    <tr>\n",
       "      <th>2916</th>\n",
       "      <td>5613068</td>\n",
       "      <td>0.0</td>\n",
       "      <td>0</td>\n",
       "      <td>0</td>\n",
       "      <td>1</td>\n",
       "      <td>0.0</td>\n",
       "      <td>3000</td>\n",
       "      <td>461</td>\n",
       "      <td>0.0</td>\n",
       "      <td>0.0</td>\n",
       "      <td>...</td>\n",
       "      <td>0.0</td>\n",
       "      <td>0</td>\n",
       "      <td>0.0</td>\n",
       "      <td>0</td>\n",
       "      <td>0</td>\n",
       "      <td>5</td>\n",
       "      <td>50000</td>\n",
       "      <td>60</td>\n",
       "      <td>NaN</td>\n",
       "      <td>0</td>\n",
       "    </tr>\n",
       "    <tr>\n",
       "      <th>3732</th>\n",
       "      <td>5649765</td>\n",
       "      <td>0.0</td>\n",
       "      <td>1</td>\n",
       "      <td>0</td>\n",
       "      <td>0</td>\n",
       "      <td>0.0</td>\n",
       "      <td>1483</td>\n",
       "      <td>27</td>\n",
       "      <td>0.0</td>\n",
       "      <td>1483.0</td>\n",
       "      <td>...</td>\n",
       "      <td>0.0</td>\n",
       "      <td>0</td>\n",
       "      <td>0.0</td>\n",
       "      <td>0</td>\n",
       "      <td>1</td>\n",
       "      <td>2</td>\n",
       "      <td>50000</td>\n",
       "      <td>20</td>\n",
       "      <td>NaN</td>\n",
       "      <td>0</td>\n",
       "    </tr>\n",
       "  </tbody>\n",
       "</table>\n",
       "<p>5 rows × 25 columns</p>\n",
       "</div>"
      ],
      "text/plain": [
       "       order_id  cred_sum_cc_all  mfo_inqs_count_month  \\\n",
       "14098   6119899              0.0                     2   \n",
       "17816   6468097          83000.1                     2   \n",
       "22017   6647559              0.0                     0   \n",
       "2916    5613068              0.0                     0   \n",
       "3732    5649765              0.0                     1   \n",
       "\n",
       "       all_closed_creds_sum_all  bank_inqs_count_quarter  \\\n",
       "14098                         0                        0   \n",
       "17816                   2412673                        3   \n",
       "22017                         0                        0   \n",
       "2916                          0                        1   \n",
       "3732                          0                        0   \n",
       "\n",
       "       cred_max_overdue_max_ly  all_active_creds_sum_all  mfo_last_days_all  \\\n",
       "14098                      0.0                      5000                 14   \n",
       "17816                  14000.0                    717104                 72   \n",
       "22017                   3960.0                      3960                223   \n",
       "2916                       0.0                      3000                461   \n",
       "3732                       0.0                      1483                 27   \n",
       "\n",
       "       cred_sum_cc_ly  cred_sum_debt_all_all  ...  cred_max_overdue_max_3lm  \\\n",
       "14098             0.0                 5000.0  ...                       0.0   \n",
       "17816             0.0                    0.0  ...                    8000.0   \n",
       "22017             0.0                    0.0  ...                       0.0   \n",
       "2916              0.0                    0.0  ...                       0.0   \n",
       "3732              0.0                 1483.0  ...                       0.0   \n",
       "\n",
       "       mfo_closed_count_ly  cred_sum_overdue_cc_all  count_overdue_all_3lm  \\\n",
       "14098                    0                      0.0                      0   \n",
       "17816                   11                      0.0                      2   \n",
       "22017                    0                      0.0                      0   \n",
       "2916                     0                      0.0                      0   \n",
       "3732                     0                      0.0                      0   \n",
       "\n",
       "       all_creds_count_lm  work_code  month_income  region  bad  approved  \n",
       "14098                   1          3         20000      45  NaN         0  \n",
       "17816                   0          4         35000      73  NaN         0  \n",
       "22017                   0          3         50000      74  NaN         0  \n",
       "2916                    0          5         50000      60  NaN         0  \n",
       "3732                    1          2         50000      20  NaN         0  \n",
       "\n",
       "[5 rows x 25 columns]"
      ]
     },
     "execution_count": 2,
     "metadata": {},
     "output_type": "execute_result"
    }
   ],
   "source": [
    "# данные\n",
    "data = pd.read_csv(\"D:\\\\Документы\\\\Тестовое DEVIM\\\\data.csv\")\n",
    "data.sample(5)"
   ]
  },
  {
   "cell_type": "markdown",
   "id": "eaae2560-92cb-44ed-ae97-ad8645118b5a",
   "metadata": {},
   "source": [
    "### Общее представление"
   ]
  },
  {
   "cell_type": "code",
   "execution_count": 3,
   "id": "e9627521-3242-4326-b314-88349b00fe42",
   "metadata": {},
   "outputs": [
    {
     "name": "stdout",
     "output_type": "stream",
     "text": [
      "<class 'pandas.core.frame.DataFrame'>\n",
      "RangeIndex: 23116 entries, 0 to 23115\n",
      "Data columns (total 25 columns):\n",
      " #   Column                        Non-Null Count  Dtype  \n",
      "---  ------                        --------------  -----  \n",
      " 0   order_id                      23116 non-null  int64  \n",
      " 1   cred_sum_cc_all               23116 non-null  float64\n",
      " 2   mfo_inqs_count_month          23116 non-null  int64  \n",
      " 3   all_closed_creds_sum_all      23116 non-null  int64  \n",
      " 4   bank_inqs_count_quarter       23116 non-null  int64  \n",
      " 5   cred_max_overdue_max_ly       23116 non-null  float64\n",
      " 6   all_active_creds_sum_all      23116 non-null  int64  \n",
      " 7   mfo_last_days_all             23116 non-null  int64  \n",
      " 8   cred_sum_cc_ly                23116 non-null  float64\n",
      " 9   cred_sum_debt_all_all         23116 non-null  float64\n",
      " 10  all_closed_creds_sum_ly       23116 non-null  int64  \n",
      " 11  mfo_cred_mean_sum_3lm         23116 non-null  float64\n",
      " 12  delay_more_sum_all            23116 non-null  int64  \n",
      " 13  all_creds_count_all           23116 non-null  int64  \n",
      " 14  cred_day_overdue_all_sum_all  23116 non-null  int64  \n",
      " 15  cred_max_overdue_max_3lm      23116 non-null  float64\n",
      " 16  mfo_closed_count_ly           23116 non-null  int64  \n",
      " 17  cred_sum_overdue_cc_all       23116 non-null  float64\n",
      " 18  count_overdue_all_3lm         23116 non-null  int64  \n",
      " 19  all_creds_count_lm            23116 non-null  int64  \n",
      " 20  work_code                     23116 non-null  int64  \n",
      " 21  month_income                  23116 non-null  int64  \n",
      " 22  region                        23116 non-null  int64  \n",
      " 23  bad                           7269 non-null   float64\n",
      " 24  approved                      23116 non-null  int64  \n",
      "dtypes: float64(8), int64(17)\n",
      "memory usage: 4.4 MB\n"
     ]
    }
   ],
   "source": [
    "data.info()"
   ]
  },
  {
   "cell_type": "markdown",
   "id": "ea7712de-0800-44ba-8508-b95798e99d94",
   "metadata": {},
   "source": [
    "Неполное количество значений только в столбце *bad*, однако это объясняется особенностями его заполнения. Типы данных соответствуют ожидаемым."
   ]
  },
  {
   "cell_type": "markdown",
   "id": "af9fed88-4454-423b-ba72-4e9a5defda9f",
   "metadata": {},
   "source": [
    "### Анализ данных\n",
    "В данных имеется 2 целевые переменные, отвечающие за одобрение и просрочку кредита, пара переменных, описывающих клиента (его профессию и доход), а также множество других, характеризующих его кредитную историю. Разделим исследование на несколько частей, в которых рассмотрим влияние тех или иных параметров на целевые переменные.\n",
    "\n",
    "1. [Общие сведения](#general)\n",
    "2. [Региональность заявок](#region)\n",
    "3. [Профессиональная деятельность клиентов](#work_code)\n",
    "4. [Доходы клиентов](#income)\n",
    "5. [Кредитная история](#history)"
   ]
  },
  {
   "cell_type": "markdown",
   "id": "3687082b-4a5d-42b0-897f-3ed431722703",
   "metadata": {},
   "source": [
    "<a id=\"general\"></a>\n",
    "#### 1. Общие сведения"
   ]
  },
  {
   "cell_type": "markdown",
   "id": "fda0a294-caae-4e70-9f85-6b3a0d29d923",
   "metadata": {},
   "source": [
    "В столбце *approved* содержится информация, был ли одобрен кредит по той или иной заявке. В столбце *bad* - просрочен ли он."
   ]
  },
  {
   "cell_type": "code",
   "execution_count": 30,
   "id": "6e67c453-e19b-43f2-bb62-2786b907740b",
   "metadata": {},
   "outputs": [],
   "source": [
    "# одобренные заявки - в отдельный датафрейм\n",
    "approved_data = data.loc[~data['bad'].isnull()]"
   ]
  },
  {
   "cell_type": "code",
   "execution_count": 31,
   "id": "b9c8b0ef-aa60-4edc-987b-3ef3231b6877",
   "metadata": {},
   "outputs": [
    {
     "name": "stdout",
     "output_type": "stream",
     "text": [
      "Всего: 7269\n",
      "Доля: 0.31\n"
     ]
    }
   ],
   "source": [
    "print('Всего:', approved_data.shape[0])\n",
    "print('Доля:', round(approved_data.shape[0] / data.shape[0], 2))"
   ]
  },
  {
   "cell_type": "markdown",
   "id": "d96fc5d8-9fb2-4337-b298-0169d5b3ee34",
   "metadata": {},
   "source": [
    "Всего 31% поданных заявок на кредит были одобрены. Из них просрочено:"
   ]
  },
  {
   "cell_type": "code",
   "execution_count": 32,
   "id": "16599c05-998e-4f75-8c6d-5a3801c87930",
   "metadata": {},
   "outputs": [
    {
     "name": "stdout",
     "output_type": "stream",
     "text": [
      "Всего: 1963\n",
      "Доля: 0.27\n"
     ]
    }
   ],
   "source": [
    "print('Всего:', data.query('bad == 1').shape[0])\n",
    "print('Доля:', round(data.query('bad == 1').shape[0] / approved_data.shape[0], 2))"
   ]
  },
  {
   "cell_type": "markdown",
   "id": "86af8b44-54c0-4508-b00c-89bae3aca01c",
   "metadata": {},
   "source": [
    "Также около 30%."
   ]
  },
  {
   "cell_type": "code",
   "execution_count": 57,
   "id": "f0fe7f14-9ecf-4b88-aae4-b1398a0cf9db",
   "metadata": {},
   "outputs": [
    {
     "data": {
      "text/plain": [
       "0.23"
      ]
     },
     "execution_count": 57,
     "metadata": {},
     "output_type": "execute_result"
    }
   ],
   "source": [
    "round(data.query('bad == 0').shape[0] / data.shape[0], 2)"
   ]
  },
  {
   "cell_type": "code",
   "execution_count": 88,
   "id": "bc55e29e-1b18-46e3-ae4a-0cb3a1882481",
   "metadata": {},
   "outputs": [
    {
     "data": {
      "image/png": "[encoded data removed]",
      "text/plain": [
       "<Figure size 432x288 with 1 Axes>"
      ]
     },
     "metadata": {
      "needs_background": "light"
     },
     "output_type": "display_data"
    }
   ],
   "source": [
    "plt.bar(x=['total', 'approved', 'overdue'], height=[data.shape[0], approved_data.shape[0], data.query('bad==1').shape[0]])\n",
    "plt.show()\n",
    "plt.savefig('general.png')"
   ]
  },
  {
   "cell_type": "markdown",
   "id": "69f4f74c-297b-42ae-bea0-990fd974780d",
   "metadata": {},
   "source": [
    "Таким образом, всего 23% клиентов получили кредит и смогли вернуть его вовремя."
   ]
  },
  {
   "cell_type": "markdown",
   "id": "57b7ea48-8459-4282-b095-017aada963f8",
   "metadata": {},
   "source": [
    "<a id=\"region\"></a>\n",
    "#### 2. Региональность заявок"
   ]
  },
  {
   "cell_type": "markdown",
   "id": "bb16301f-57b5-44e4-b779-e8e988aa28eb",
   "metadata": {},
   "source": [
    "**ТОП-10 регионов, лидирующих по количеству поданных заявок:**"
   ]
  },
  {
   "cell_type": "code",
   "execution_count": 83,
   "id": "5aad0f8a-b60f-421a-90c8-4805adb51eef",
   "metadata": {},
   "outputs": [
    {
     "data": {
      "image/png": "[encoded data removed]",
      "text/plain": [
       "<Figure size 576x360 with 1 Axes>"
      ]
     },
     "metadata": {
      "needs_background": "light"
     },
     "output_type": "display_data"
    }
   ],
   "source": [
    "region_data = data.pivot_table(index='region', values='approved', aggfunc=['count', 'sum', 'mean'])\n",
    "\n",
    "region_data.columns = ['total', 'approved', 'rate']\n",
    "region_data = region_data.sort_values(by='total', ascending=True)\n",
    "region_data.tail(10).plot(kind='barh', y=['total', 'approved'], stacked=True, title='Распределение заявок по регионам', figsize=(8, 5))\n",
    "\n",
    "plt.xticks(rotation=0)\n",
    "plt.savefig('top10_region_total.png')"
   ]
  },
  {
   "cell_type": "code",
   "execution_count": 20,
   "id": "2b2451ab-513d-4534-84fd-c977afc627c2",
   "metadata": {},
   "outputs": [
    {
     "data": {
      "text/html": [
       "<style type=\"text/css\">\n",
       "#T_a025d_row0_col0, #T_a025d_row0_col1, #T_a025d_row0_col2 {\n",
       "  background-color: #00441b;\n",
       "  color: #f1f1f1;\n",
       "}\n",
       "#T_a025d_row1_col0 {\n",
       "  background-color: #005221;\n",
       "  color: #f1f1f1;\n",
       "}\n",
       "#T_a025d_row1_col1 {\n",
       "  background-color: #006d2c;\n",
       "  color: #f1f1f1;\n",
       "}\n",
       "#T_a025d_row1_col2 {\n",
       "  background-color: #1a843f;\n",
       "  color: #f1f1f1;\n",
       "}\n",
       "#T_a025d_row2_col0 {\n",
       "  background-color: #5ab769;\n",
       "  color: #f1f1f1;\n",
       "}\n",
       "#T_a025d_row2_col1 {\n",
       "  background-color: #7dc87e;\n",
       "  color: #000000;\n",
       "}\n",
       "#T_a025d_row2_col2 {\n",
       "  background-color: #87cd86;\n",
       "  color: #000000;\n",
       "}\n",
       "#T_a025d_row3_col0 {\n",
       "  background-color: #90d18d;\n",
       "  color: #000000;\n",
       "}\n",
       "#T_a025d_row3_col1 {\n",
       "  background-color: #b8e3b2;\n",
       "  color: #000000;\n",
       "}\n",
       "#T_a025d_row3_col2 {\n",
       "  background-color: #d9f0d3;\n",
       "  color: #000000;\n",
       "}\n",
       "#T_a025d_row4_col0 {\n",
       "  background-color: #98d594;\n",
       "  color: #000000;\n",
       "}\n",
       "#T_a025d_row4_col1 {\n",
       "  background-color: #b5e1ae;\n",
       "  color: #000000;\n",
       "}\n",
       "#T_a025d_row4_col2 {\n",
       "  background-color: #c1e6ba;\n",
       "  color: #000000;\n",
       "}\n",
       "#T_a025d_row5_col0 {\n",
       "  background-color: #daf0d4;\n",
       "  color: #000000;\n",
       "}\n",
       "#T_a025d_row5_col1 {\n",
       "  background-color: #e2f4dd;\n",
       "  color: #000000;\n",
       "}\n",
       "#T_a025d_row5_col2 {\n",
       "  background-color: #def2d9;\n",
       "  color: #000000;\n",
       "}\n",
       "#T_a025d_row6_col0 {\n",
       "  background-color: #e5f5e1;\n",
       "  color: #000000;\n",
       "}\n",
       "#T_a025d_row6_col1 {\n",
       "  background-color: #e7f6e2;\n",
       "  color: #000000;\n",
       "}\n",
       "#T_a025d_row6_col2 {\n",
       "  background-color: #d8f0d2;\n",
       "  color: #000000;\n",
       "}\n",
       "#T_a025d_row7_col0 {\n",
       "  background-color: #f1faee;\n",
       "  color: #000000;\n",
       "}\n",
       "#T_a025d_row7_col1 {\n",
       "  background-color: #e8f6e3;\n",
       "  color: #000000;\n",
       "}\n",
       "#T_a025d_row7_col2 {\n",
       "  background-color: #a7dba0;\n",
       "  color: #000000;\n",
       "}\n",
       "#T_a025d_row8_col0 {\n",
       "  background-color: #f4fbf2;\n",
       "  color: #000000;\n",
       "}\n",
       "#T_a025d_row8_col1 {\n",
       "  background-color: #f4fbf1;\n",
       "  color: #000000;\n",
       "}\n",
       "#T_a025d_row8_col2 {\n",
       "  background-color: #eef8ea;\n",
       "  color: #000000;\n",
       "}\n",
       "#T_a025d_row9_col0, #T_a025d_row9_col1, #T_a025d_row9_col2 {\n",
       "  background-color: #f7fcf5;\n",
       "  color: #000000;\n",
       "}\n",
       "</style>\n",
       "<table id=\"T_a025d\">\n",
       "  <thead>\n",
       "    <tr>\n",
       "      <th class=\"blank level0\" >&nbsp;</th>\n",
       "      <th id=\"T_a025d_level0_col0\" class=\"col_heading level0 col0\" >total</th>\n",
       "      <th id=\"T_a025d_level0_col1\" class=\"col_heading level0 col1\" >approved</th>\n",
       "      <th id=\"T_a025d_level0_col2\" class=\"col_heading level0 col2\" >rate</th>\n",
       "    </tr>\n",
       "    <tr>\n",
       "      <th class=\"index_name level0\" >region</th>\n",
       "      <th class=\"blank col0\" >&nbsp;</th>\n",
       "      <th class=\"blank col1\" >&nbsp;</th>\n",
       "      <th class=\"blank col2\" >&nbsp;</th>\n",
       "    </tr>\n",
       "  </thead>\n",
       "  <tbody>\n",
       "    <tr>\n",
       "      <th id=\"T_a025d_level0_row0\" class=\"row_heading level0 row0\" >45</th>\n",
       "      <td id=\"T_a025d_row0_col0\" class=\"data row0 col0\" >1115.00</td>\n",
       "      <td id=\"T_a025d_row0_col1\" class=\"data row0 col1\" >433.00</td>\n",
       "      <td id=\"T_a025d_row0_col2\" class=\"data row0 col2\" >0.39</td>\n",
       "    </tr>\n",
       "    <tr>\n",
       "      <th id=\"T_a025d_level0_row1\" class=\"row_heading level0 row1\" >46</th>\n",
       "      <td id=\"T_a025d_row1_col0\" class=\"data row1 col0\" >1091.00</td>\n",
       "      <td id=\"T_a025d_row1_col1\" class=\"data row1 col1\" >399.00</td>\n",
       "      <td id=\"T_a025d_row1_col2\" class=\"data row1 col2\" >0.37</td>\n",
       "    </tr>\n",
       "    <tr>\n",
       "      <th id=\"T_a025d_level0_row2\" class=\"row_heading level0 row2\" >3</th>\n",
       "      <td id=\"T_a025d_row2_col0\" class=\"data row2 col0\" >883.00</td>\n",
       "      <td id=\"T_a025d_row2_col1\" class=\"data row2 col1\" >293.00</td>\n",
       "      <td id=\"T_a025d_row2_col2\" class=\"data row2 col2\" >0.33</td>\n",
       "    </tr>\n",
       "    <tr>\n",
       "      <th id=\"T_a025d_level0_row3\" class=\"row_heading level0 row3\" >65</th>\n",
       "      <td id=\"T_a025d_row3_col0\" class=\"data row3 col0\" >808.00</td>\n",
       "      <td id=\"T_a025d_row3_col1\" class=\"data row3 col1\" >246.00</td>\n",
       "      <td id=\"T_a025d_row3_col2\" class=\"data row3 col2\" >0.30</td>\n",
       "    </tr>\n",
       "    <tr>\n",
       "      <th id=\"T_a025d_level0_row4\" class=\"row_heading level0 row4\" >80</th>\n",
       "      <td id=\"T_a025d_row4_col0\" class=\"data row4 col0\" >796.00</td>\n",
       "      <td id=\"T_a025d_row4_col1\" class=\"data row4 col1\" >250.00</td>\n",
       "      <td id=\"T_a025d_row4_col2\" class=\"data row4 col2\" >0.31</td>\n",
       "    </tr>\n",
       "    <tr>\n",
       "      <th id=\"T_a025d_level0_row5\" class=\"row_heading level0 row5\" >60</th>\n",
       "      <td id=\"T_a025d_row5_col0\" class=\"data row5 col0\" >675.00</td>\n",
       "      <td id=\"T_a025d_row5_col1\" class=\"data row5 col1\" >204.00</td>\n",
       "      <td id=\"T_a025d_row5_col2\" class=\"data row5 col2\" >0.30</td>\n",
       "    </tr>\n",
       "    <tr>\n",
       "      <th id=\"T_a025d_level0_row6\" class=\"row_heading level0 row6\" >75</th>\n",
       "      <td id=\"T_a025d_row6_col0\" class=\"data row6 col0\" >649.00</td>\n",
       "      <td id=\"T_a025d_row6_col1\" class=\"data row6 col1\" >198.00</td>\n",
       "      <td id=\"T_a025d_row6_col2\" class=\"data row6 col2\" >0.31</td>\n",
       "    </tr>\n",
       "    <tr>\n",
       "      <th id=\"T_a025d_level0_row7\" class=\"row_heading level0 row7\" >92</th>\n",
       "      <td id=\"T_a025d_row7_col0\" class=\"data row7 col0\" >607.00</td>\n",
       "      <td id=\"T_a025d_row7_col1\" class=\"data row7 col1\" >196.00</td>\n",
       "      <td id=\"T_a025d_row7_col2\" class=\"data row7 col2\" >0.32</td>\n",
       "    </tr>\n",
       "    <tr>\n",
       "      <th id=\"T_a025d_level0_row8\" class=\"row_heading level0 row8\" >57</th>\n",
       "      <td id=\"T_a025d_row8_col0\" class=\"data row8 col0\" >594.00</td>\n",
       "      <td id=\"T_a025d_row8_col1\" class=\"data row8 col1\" >174.00</td>\n",
       "      <td id=\"T_a025d_row8_col2\" class=\"data row8 col2\" >0.29</td>\n",
       "    </tr>\n",
       "    <tr>\n",
       "      <th id=\"T_a025d_level0_row9\" class=\"row_heading level0 row9\" >32</th>\n",
       "      <td id=\"T_a025d_row9_col0\" class=\"data row9 col0\" >583.00</td>\n",
       "      <td id=\"T_a025d_row9_col1\" class=\"data row9 col1\" >167.00</td>\n",
       "      <td id=\"T_a025d_row9_col2\" class=\"data row9 col2\" >0.29</td>\n",
       "    </tr>\n",
       "  </tbody>\n",
       "</table>\n"
      ],
      "text/plain": [
       "<pandas.io.formats.style.Styler at 0x2476e7392b0>"
      ]
     },
     "execution_count": 20,
     "metadata": {},
     "output_type": "execute_result"
    }
   ],
   "source": [
    "region_data.sort_values(by='total', ascending=False).head(10).style.format('{:.2f}').background_gradient(cmap='Greens')"
   ]
  },
  {
   "cell_type": "markdown",
   "id": "3529337f-f81b-429e-9a54-9fdb24d36d8d",
   "metadata": {},
   "source": [
    "По количеству поданных заявок лидируют Москва (45) и Московская область (46), на третьем и четвертом местах Краснодарский край (3) и Свердловская область (65) соответственно. Они же лидируют по доле одобренных заявок среди выделенных ТОП-10, однако, не по общей совокупности регионов. \n",
    "\n",
    "**ТОП-5 регионов с самой высокой долей одобренных заявок:**"
   ]
  },
  {
   "cell_type": "code",
   "execution_count": 21,
   "id": "9184f61c-5f8d-430d-9fca-7fc8fd499416",
   "metadata": {},
   "outputs": [
    {
     "data": {
      "text/html": [
       "<style type=\"text/css\">\n",
       "#T_4e9b8_row0_col0, #T_4e9b8_row0_col1, #T_4e9b8_row4_col2 {\n",
       "  background-color: #f7fcf5;\n",
       "  color: #000000;\n",
       "}\n",
       "#T_4e9b8_row0_col2, #T_4e9b8_row4_col0, #T_4e9b8_row4_col1 {\n",
       "  background-color: #00441b;\n",
       "  color: #f1f1f1;\n",
       "}\n",
       "#T_4e9b8_row1_col0, #T_4e9b8_row1_col1 {\n",
       "  background-color: #f4fbf2;\n",
       "  color: #000000;\n",
       "}\n",
       "#T_4e9b8_row1_col2 {\n",
       "  background-color: #7ac77b;\n",
       "  color: #000000;\n",
       "}\n",
       "#T_4e9b8_row2_col0 {\n",
       "  background-color: #ddf2d8;\n",
       "  color: #000000;\n",
       "}\n",
       "#T_4e9b8_row2_col1 {\n",
       "  background-color: #dcf2d7;\n",
       "  color: #000000;\n",
       "}\n",
       "#T_4e9b8_row2_col2 {\n",
       "  background-color: #e8f6e3;\n",
       "  color: #000000;\n",
       "}\n",
       "#T_4e9b8_row3_col0 {\n",
       "  background-color: #79c67a;\n",
       "  color: #000000;\n",
       "}\n",
       "#T_4e9b8_row3_col1 {\n",
       "  background-color: #73c476;\n",
       "  color: #000000;\n",
       "}\n",
       "#T_4e9b8_row3_col2 {\n",
       "  background-color: #ebf7e7;\n",
       "  color: #000000;\n",
       "}\n",
       "</style>\n",
       "<table id=\"T_4e9b8\">\n",
       "  <thead>\n",
       "    <tr>\n",
       "      <th class=\"blank level0\" >&nbsp;</th>\n",
       "      <th id=\"T_4e9b8_level0_col0\" class=\"col_heading level0 col0\" >total</th>\n",
       "      <th id=\"T_4e9b8_level0_col1\" class=\"col_heading level0 col1\" >approved</th>\n",
       "      <th id=\"T_4e9b8_level0_col2\" class=\"col_heading level0 col2\" >rate</th>\n",
       "    </tr>\n",
       "    <tr>\n",
       "      <th class=\"index_name level0\" >region</th>\n",
       "      <th class=\"blank col0\" >&nbsp;</th>\n",
       "      <th class=\"blank col1\" >&nbsp;</th>\n",
       "      <th class=\"blank col2\" >&nbsp;</th>\n",
       "    </tr>\n",
       "  </thead>\n",
       "  <tbody>\n",
       "    <tr>\n",
       "      <th id=\"T_4e9b8_level0_row0\" class=\"row_heading level0 row0\" >55</th>\n",
       "      <td id=\"T_4e9b8_row0_col0\" class=\"data row0 col0\" >9.00</td>\n",
       "      <td id=\"T_4e9b8_row0_col1\" class=\"data row0 col1\" >5.00</td>\n",
       "      <td id=\"T_4e9b8_row0_col2\" class=\"data row0 col2\" >0.56</td>\n",
       "    </tr>\n",
       "    <tr>\n",
       "      <th id=\"T_4e9b8_level0_row1\" class=\"row_heading level0 row1\" >44</th>\n",
       "      <td id=\"T_4e9b8_row1_col0\" class=\"data row1 col0\" >32.00</td>\n",
       "      <td id=\"T_4e9b8_row1_col1\" class=\"data row1 col1\" >15.00</td>\n",
       "      <td id=\"T_4e9b8_row1_col2\" class=\"data row1 col2\" >0.47</td>\n",
       "    </tr>\n",
       "    <tr>\n",
       "      <th id=\"T_4e9b8_level0_row2\" class=\"row_heading level0 row2\" >66</th>\n",
       "      <td id=\"T_4e9b8_row2_col0\" class=\"data row2 col0\" >182.00</td>\n",
       "      <td id=\"T_4e9b8_row2_col1\" class=\"data row2 col1\" >74.00</td>\n",
       "      <td id=\"T_4e9b8_row2_col2\" class=\"data row2 col2\" >0.41</td>\n",
       "    </tr>\n",
       "    <tr>\n",
       "      <th id=\"T_4e9b8_level0_row3\" class=\"row_heading level0 row3\" >40</th>\n",
       "      <td id=\"T_4e9b8_row3_col0\" class=\"data row3 col0\" >547.00</td>\n",
       "      <td id=\"T_4e9b8_row3_col1\" class=\"data row3 col1\" >220.00</td>\n",
       "      <td id=\"T_4e9b8_row3_col2\" class=\"data row3 col2\" >0.40</td>\n",
       "    </tr>\n",
       "    <tr>\n",
       "      <th id=\"T_4e9b8_level0_row4\" class=\"row_heading level0 row4\" >45</th>\n",
       "      <td id=\"T_4e9b8_row4_col0\" class=\"data row4 col0\" >1115.00</td>\n",
       "      <td id=\"T_4e9b8_row4_col1\" class=\"data row4 col1\" >433.00</td>\n",
       "      <td id=\"T_4e9b8_row4_col2\" class=\"data row4 col2\" >0.39</td>\n",
       "    </tr>\n",
       "  </tbody>\n",
       "</table>\n"
      ],
      "text/plain": [
       "<pandas.io.formats.style.Styler at 0x2476df92e20>"
      ]
     },
     "execution_count": 21,
     "metadata": {},
     "output_type": "execute_result"
    }
   ],
   "source": [
    "region_data.sort_values(by='rate', ascending=False).head().style.format('{:.2f}').background_gradient(cmap='Greens')"
   ]
  },
  {
   "cell_type": "markdown",
   "id": "ebb525f7-0a9f-4d36-9d9d-ebec03d3b33d",
   "metadata": {},
   "source": [
    "В данном топе на первом месте находится Байконур (55) с минимальным числом зарегистрированных заявок, на втором  третьем - Магаданская (44) и Смоленская (66) области соответственно. На четвертом - Санкт-Петербург (40). Москва (45) также вошла в топ, однако, заняла последнее пятое место.\n",
    "\n",
    "**ТОП-5 регионов с самым высоким показателем просрочки кредита:**"
   ]
  },
  {
   "cell_type": "markdown",
   "id": "97d85292-7370-4d87-beaa-4621ae0bc2b1",
   "metadata": {},
   "source": [
    "И в этом топе, и в следующем не будем рассматривать регионы с менее чем 20 одобренными заявками, поскольку таких данных недостаточно, чтобы делать реалистичные выводы."
   ]
  },
  {
   "cell_type": "code",
   "execution_count": 64,
   "id": "db23fa84-82da-4875-9186-f22fe12920fd",
   "metadata": {},
   "outputs": [
    {
     "data": {
      "text/html": [
       "<style type=\"text/css\">\n",
       "#T_7e1a6_row0_col0 {\n",
       "  background-color: #d1edcb;\n",
       "  color: #000000;\n",
       "}\n",
       "#T_7e1a6_row0_col1 {\n",
       "  background-color: #b1e0ab;\n",
       "  color: #000000;\n",
       "}\n",
       "#T_7e1a6_row0_col2, #T_7e1a6_row1_col0, #T_7e1a6_row1_col1 {\n",
       "  background-color: #00441b;\n",
       "  color: #f1f1f1;\n",
       "}\n",
       "#T_7e1a6_row1_col2 {\n",
       "  background-color: #daf0d4;\n",
       "  color: #000000;\n",
       "}\n",
       "#T_7e1a6_row2_col0 {\n",
       "  background-color: #a2d99c;\n",
       "  color: #000000;\n",
       "}\n",
       "#T_7e1a6_row2_col1 {\n",
       "  background-color: #a7dba0;\n",
       "  color: #000000;\n",
       "}\n",
       "#T_7e1a6_row2_col2 {\n",
       "  background-color: #f1faee;\n",
       "  color: #000000;\n",
       "}\n",
       "#T_7e1a6_row3_col0 {\n",
       "  background-color: #d3eecd;\n",
       "  color: #000000;\n",
       "}\n",
       "#T_7e1a6_row3_col1 {\n",
       "  background-color: #d6efd0;\n",
       "  color: #000000;\n",
       "}\n",
       "#T_7e1a6_row3_col2, #T_7e1a6_row4_col0, #T_7e1a6_row4_col1, #T_7e1a6_row4_col2 {\n",
       "  background-color: #f7fcf5;\n",
       "  color: #000000;\n",
       "}\n",
       "</style>\n",
       "<table id=\"T_7e1a6\">\n",
       "  <thead>\n",
       "    <tr>\n",
       "      <th class=\"blank level0\" >&nbsp;</th>\n",
       "      <th id=\"T_7e1a6_level0_col0\" class=\"col_heading level0 col0\" >approved</th>\n",
       "      <th id=\"T_7e1a6_level0_col1\" class=\"col_heading level0 col1\" >overdue</th>\n",
       "      <th id=\"T_7e1a6_level0_col2\" class=\"col_heading level0 col2\" >rate</th>\n",
       "    </tr>\n",
       "    <tr>\n",
       "      <th class=\"index_name level0\" >region</th>\n",
       "      <th class=\"blank col0\" >&nbsp;</th>\n",
       "      <th class=\"blank col1\" >&nbsp;</th>\n",
       "      <th class=\"blank col2\" >&nbsp;</th>\n",
       "    </tr>\n",
       "  </thead>\n",
       "  <tbody>\n",
       "    <tr>\n",
       "      <th id=\"T_7e1a6_level0_row0\" class=\"row_heading level0 row0\" >12</th>\n",
       "      <td id=\"T_7e1a6_row0_col0\" class=\"data row0 col0\" >57.00</td>\n",
       "      <td id=\"T_7e1a6_row0_col1\" class=\"data row0 col1\" >27.00</td>\n",
       "      <td id=\"T_7e1a6_row0_col2\" class=\"data row0 col2\" >0.47</td>\n",
       "    </tr>\n",
       "    <tr>\n",
       "      <th id=\"T_7e1a6_level0_row1\" class=\"row_heading level0 row1\" >32</th>\n",
       "      <td id=\"T_7e1a6_row1_col0\" class=\"data row1 col0\" >167.00</td>\n",
       "      <td id=\"T_7e1a6_row1_col1\" class=\"data row1 col1\" >63.00</td>\n",
       "      <td id=\"T_7e1a6_row1_col2\" class=\"data row1 col2\" >0.38</td>\n",
       "    </tr>\n",
       "    <tr>\n",
       "      <th id=\"T_7e1a6_level0_row2\" class=\"row_heading level0 row2\" >8</th>\n",
       "      <td id=\"T_7e1a6_row2_col0\" class=\"data row2 col0\" >80.00</td>\n",
       "      <td id=\"T_7e1a6_row2_col1\" class=\"data row2 col1\" >29.00</td>\n",
       "      <td id=\"T_7e1a6_row2_col2\" class=\"data row2 col2\" >0.36</td>\n",
       "    </tr>\n",
       "    <tr>\n",
       "      <th id=\"T_7e1a6_level0_row3\" class=\"row_heading level0 row3\" >42</th>\n",
       "      <td id=\"T_7e1a6_row3_col0\" class=\"data row3 col0\" >56.00</td>\n",
       "      <td id=\"T_7e1a6_row3_col1\" class=\"data row3 col1\" >20.00</td>\n",
       "      <td id=\"T_7e1a6_row3_col2\" class=\"data row3 col2\" >0.36</td>\n",
       "    </tr>\n",
       "    <tr>\n",
       "      <th id=\"T_7e1a6_level0_row4\" class=\"row_heading level0 row4\" >90</th>\n",
       "      <td id=\"T_7e1a6_row4_col0\" class=\"data row4 col0\" >28.00</td>\n",
       "      <td id=\"T_7e1a6_row4_col1\" class=\"data row4 col1\" >10.00</td>\n",
       "      <td id=\"T_7e1a6_row4_col2\" class=\"data row4 col2\" >0.36</td>\n",
       "    </tr>\n",
       "  </tbody>\n",
       "</table>\n"
      ],
      "text/plain": [
       "<pandas.io.formats.style.Styler at 0x2476ed71040>"
      ]
     },
     "execution_count": 64,
     "metadata": {},
     "output_type": "execute_result"
    }
   ],
   "source": [
    "region_approved_data = approved_data.pivot_table(index='region', values='bad', aggfunc=['count', 'sum', 'mean'])\n",
    "region_approved_data.columns = ['approved', 'overdue', 'rate']\n",
    "region_approved_data.query('approved > 20').sort_values(by='rate', ascending=False).head(5).style.format('{:.2f}').background_gradient(cmap='Greens')"
   ]
  },
  {
   "cell_type": "markdown",
   "id": "7f6c16e2-8ad5-4aff-b69c-c79ae737685d",
   "metadata": {},
   "source": [
    "На первом месте по доле просроченных кредитов - Астраханская область (12). Почти половина одобренных кредитов не возвращена вовремя. На втором и третьем - Кемеровская область (32) и Хабаровский край (8), характеризующиеся самым большим количеством одобренных заявок в топе. Четвертое и пятое места занимают Липецкая область (42) и Северная Осетия (90) соответственно."
   ]
  },
  {
   "cell_type": "markdown",
   "id": "0c38898e-17ae-4adf-883e-9d462c62b5cc",
   "metadata": {},
   "source": [
    "**ТОП-5 регионов с самым низким показателем просрочки кредита:**"
   ]
  },
  {
   "cell_type": "code",
   "execution_count": 65,
   "id": "9c4d2a02-8eb8-4316-b895-05fd82406be4",
   "metadata": {},
   "outputs": [
    {
     "data": {
      "text/html": [
       "<style type=\"text/css\">\n",
       "#T_66122_row0_col0, #T_66122_row3_col1, #T_66122_row4_col2 {\n",
       "  background-color: #00441b;\n",
       "  color: #f1f1f1;\n",
       "}\n",
       "#T_66122_row0_col1, #T_66122_row2_col1 {\n",
       "  background-color: #73c476;\n",
       "  color: #000000;\n",
       "}\n",
       "#T_66122_row0_col2, #T_66122_row4_col0, #T_66122_row4_col1 {\n",
       "  background-color: #f7fcf5;\n",
       "  color: #000000;\n",
       "}\n",
       "#T_66122_row1_col0 {\n",
       "  background-color: #81ca81;\n",
       "  color: #000000;\n",
       "}\n",
       "#T_66122_row1_col1 {\n",
       "  background-color: #c7e9c0;\n",
       "  color: #000000;\n",
       "}\n",
       "#T_66122_row1_col2 {\n",
       "  background-color: #9bd696;\n",
       "  color: #000000;\n",
       "}\n",
       "#T_66122_row2_col0 {\n",
       "  background-color: #56b567;\n",
       "  color: #f1f1f1;\n",
       "}\n",
       "#T_66122_row2_col2 {\n",
       "  background-color: #45ad5f;\n",
       "  color: #f1f1f1;\n",
       "}\n",
       "#T_66122_row3_col0 {\n",
       "  background-color: #005020;\n",
       "  color: #f1f1f1;\n",
       "}\n",
       "#T_66122_row3_col2 {\n",
       "  background-color: #339c52;\n",
       "  color: #f1f1f1;\n",
       "}\n",
       "</style>\n",
       "<table id=\"T_66122\">\n",
       "  <thead>\n",
       "    <tr>\n",
       "      <th class=\"blank level0\" >&nbsp;</th>\n",
       "      <th id=\"T_66122_level0_col0\" class=\"col_heading level0 col0\" >approved</th>\n",
       "      <th id=\"T_66122_level0_col1\" class=\"col_heading level0 col1\" >overdue</th>\n",
       "      <th id=\"T_66122_level0_col2\" class=\"col_heading level0 col2\" >rate</th>\n",
       "    </tr>\n",
       "    <tr>\n",
       "      <th class=\"index_name level0\" >region</th>\n",
       "      <th class=\"blank col0\" >&nbsp;</th>\n",
       "      <th class=\"blank col1\" >&nbsp;</th>\n",
       "      <th class=\"blank col2\" >&nbsp;</th>\n",
       "    </tr>\n",
       "  </thead>\n",
       "  <tbody>\n",
       "    <tr>\n",
       "      <th id=\"T_66122_level0_row0\" class=\"row_heading level0 row0\" >78</th>\n",
       "      <td id=\"T_66122_row0_col0\" class=\"data row0 col0\" >55.00</td>\n",
       "      <td id=\"T_66122_row0_col1\" class=\"data row0 col1\" >7.00</td>\n",
       "      <td id=\"T_66122_row0_col2\" class=\"data row0 col2\" >0.13</td>\n",
       "    </tr>\n",
       "    <tr>\n",
       "      <th id=\"T_66122_level0_row1\" class=\"row_heading level0 row1\" >39</th>\n",
       "      <td id=\"T_66122_row1_col0\" class=\"data row1 col0\" >40.00</td>\n",
       "      <td id=\"T_66122_row1_col1\" class=\"data row1 col1\" >6.00</td>\n",
       "      <td id=\"T_66122_row1_col2\" class=\"data row1 col2\" >0.15</td>\n",
       "    </tr>\n",
       "    <tr>\n",
       "      <th id=\"T_66122_level0_row2\" class=\"row_heading level0 row2\" >54</th>\n",
       "      <td id=\"T_66122_row2_col0\" class=\"data row2 col0\" >43.00</td>\n",
       "      <td id=\"T_66122_row2_col1\" class=\"data row2 col1\" >7.00</td>\n",
       "      <td id=\"T_66122_row2_col2\" class=\"data row2 col2\" >0.16</td>\n",
       "    </tr>\n",
       "    <tr>\n",
       "      <th id=\"T_66122_level0_row3\" class=\"row_heading level0 row3\" >47</th>\n",
       "      <td id=\"T_66122_row3_col0\" class=\"data row3 col0\" >54.00</td>\n",
       "      <td id=\"T_66122_row3_col1\" class=\"data row3 col1\" >9.00</td>\n",
       "      <td id=\"T_66122_row3_col2\" class=\"data row3 col2\" >0.17</td>\n",
       "    </tr>\n",
       "    <tr>\n",
       "      <th id=\"T_66122_level0_row4\" class=\"row_heading level0 row4\" >83</th>\n",
       "      <td id=\"T_66122_row4_col0\" class=\"data row4 col0\" >27.00</td>\n",
       "      <td id=\"T_66122_row4_col1\" class=\"data row4 col1\" >5.00</td>\n",
       "      <td id=\"T_66122_row4_col2\" class=\"data row4 col2\" >0.19</td>\n",
       "    </tr>\n",
       "  </tbody>\n",
       "</table>\n"
      ],
      "text/plain": [
       "<pandas.io.formats.style.Styler at 0x2476ed71070>"
      ]
     },
     "execution_count": 65,
     "metadata": {},
     "output_type": "execute_result"
    }
   ],
   "source": [
    "region_approved_data.query('approved > 20').sort_values(by='rate', ascending=True).head().style.format('{:.2f}').background_gradient(cmap='Greens')"
   ]
  },
  {
   "cell_type": "markdown",
   "id": "b54d9419-59f1-4194-ab2c-1237fbbfb462",
   "metadata": {},
   "source": [
    "В данный топ попали регионы с примерно равным количеством одобренных заявок. В тройку лидеров по своевременному возврату кредитов попали Ярославская (78), Калининградская (39) и Орловская (54) области. На четвертов и пятом местах - Мурманская область (47) и Кабардино-Балкарская республика (83). Больше 80% кредитов, взятых в этих республиках, не просрочены."
   ]
  },
  {
   "cell_type": "markdown",
   "id": "bdd0404c-383d-4a01-bfae-dfa7e71c9883",
   "metadata": {},
   "source": [
    "<a id=\"work_code\"></a>\n",
    "#### 3. Профессиональная деятельность клиентов"
   ]
  },
  {
   "cell_type": "markdown",
   "id": "26b7363f-ae45-4a01-8f4a-f3cc8a6ec311",
   "metadata": {},
   "source": [
    "Посмотрим на количество принятых заявок в зависимости от специальности клиентов.\n",
    "\n",
    "**Известные коды профессий:**\n",
    "\n",
    "- 1 - госслужащий (полицейский, медсестра)\n",
    "- 3 - офисный работник (бухгалтер, программист)\n",
    "- 5 - рабочие профессии (слесарь, токарь) \n",
    "\n",
    "К сожалению, профессии №2 и 4 не расшифрованы."
   ]
  },
  {
   "cell_type": "code",
   "execution_count": 93,
   "id": "bf8c7043-4ba7-4760-ad96-7fd2c20cfb96",
   "metadata": {},
   "outputs": [
    {
     "data": {
      "image/png": "[encoded data removed]",
      "text/plain": [
       "<Figure size 504x504 with 1 Axes>"
      ]
     },
     "metadata": {},
     "output_type": "display_data"
    }
   ],
   "source": [
    "work_data = data.pivot_table(index='work_code', values=['approved'], aggfunc='count')\n",
    "work_data.plot(kind='pie', subplots=True, autopct='%.1f', title='Распределение заявок по профессиям клиентов', figsize=(7, 7))\n",
    "\n",
    "plt.xticks(rotation=0)\n",
    "plt.savefig('work_pie.png')"
   ]
  },
  {
   "cell_type": "code",
   "execution_count": 68,
   "id": "b270d7b9-1a2a-4b86-b752-329b36a1c683",
   "metadata": {},
   "outputs": [
    {
     "data": {
      "text/html": [
       "<style type=\"text/css\">\n",
       "#T_8345d_row0_col0, #T_8345d_row0_col1 {\n",
       "  background-color: yellowgreen;\n",
       "}\n",
       "#T_8345d_row2_col0, #T_8345d_row4_col1 {\n",
       "  background-color: coral;\n",
       "}\n",
       "</style>\n",
       "<table id=\"T_8345d\">\n",
       "  <thead>\n",
       "    <tr>\n",
       "      <th class=\"blank level0\" >&nbsp;</th>\n",
       "      <th id=\"T_8345d_level0_col0\" class=\"col_heading level0 col0\" >approved</th>\n",
       "      <th id=\"T_8345d_level0_col1\" class=\"col_heading level0 col1\" >bad</th>\n",
       "    </tr>\n",
       "    <tr>\n",
       "      <th class=\"index_name level0\" >work_code</th>\n",
       "      <th class=\"blank col0\" >&nbsp;</th>\n",
       "      <th class=\"blank col1\" >&nbsp;</th>\n",
       "    </tr>\n",
       "  </thead>\n",
       "  <tbody>\n",
       "    <tr>\n",
       "      <th id=\"T_8345d_level0_row0\" class=\"row_heading level0 row0\" >1</th>\n",
       "      <td id=\"T_8345d_row0_col0\" class=\"data row0 col0\" >0.42</td>\n",
       "      <td id=\"T_8345d_row0_col1\" class=\"data row0 col1\" >0.20</td>\n",
       "    </tr>\n",
       "    <tr>\n",
       "      <th id=\"T_8345d_level0_row1\" class=\"row_heading level0 row1\" >2</th>\n",
       "      <td id=\"T_8345d_row1_col0\" class=\"data row1 col0\" >0.39</td>\n",
       "      <td id=\"T_8345d_row1_col1\" class=\"data row1 col1\" >0.26</td>\n",
       "    </tr>\n",
       "    <tr>\n",
       "      <th id=\"T_8345d_level0_row2\" class=\"row_heading level0 row2\" >3</th>\n",
       "      <td id=\"T_8345d_row2_col0\" class=\"data row2 col0\" >0.23</td>\n",
       "      <td id=\"T_8345d_row2_col1\" class=\"data row2 col1\" >0.25</td>\n",
       "    </tr>\n",
       "    <tr>\n",
       "      <th id=\"T_8345d_level0_row3\" class=\"row_heading level0 row3\" >4</th>\n",
       "      <td id=\"T_8345d_row3_col0\" class=\"data row3 col0\" >0.34</td>\n",
       "      <td id=\"T_8345d_row3_col1\" class=\"data row3 col1\" >0.25</td>\n",
       "    </tr>\n",
       "    <tr>\n",
       "      <th id=\"T_8345d_level0_row4\" class=\"row_heading level0 row4\" >5</th>\n",
       "      <td id=\"T_8345d_row4_col0\" class=\"data row4 col0\" >0.28</td>\n",
       "      <td id=\"T_8345d_row4_col1\" class=\"data row4 col1\" >0.32</td>\n",
       "    </tr>\n",
       "  </tbody>\n",
       "</table>\n"
      ],
      "text/plain": [
       "<pandas.io.formats.style.Styler at 0x2476e826a00>"
      ]
     },
     "execution_count": 68,
     "metadata": {},
     "output_type": "execute_result"
    }
   ],
   "source": [
    "# доля одобренных заявок и кредитов, которые просрочили\n",
    "(\n",
    "    data\n",
    "    .pivot_table(index='work_code', values=['approved', 'bad'])\n",
    "    .style.format('{:.2f}')\n",
    "    .highlight_max(subset=['approved'], color='yellowgreen')\n",
    "    .highlight_min(subset=['approved'], color='coral')\n",
    "    .highlight_max(subset=['bad'], color='coral')\n",
    "    .highlight_min(subset=['bad'], color='yellowgreen')\n",
    ")"
   ]
  },
  {
   "cell_type": "markdown",
   "id": "dfee5379-d216-4e02-a534-a92e27699cdd",
   "metadata": {},
   "source": [
    "Наибольшее количество заявок было подано представителями рабочих профессий (код 5). При этом, одобрено из них всего около 28%. Больший процент отказов характерен лишь для офисных сотрудников (код 3) - 23%. Меньше же всего заявок получено от госслужащих (код 1). Но несмотря на это, кредиты выдавались им более охотно: около половины поданных заявок было одобрено. Вероятно, это связано с тем, что госслужащие чаще остальных возвращают долги вовремя, поэтому и доверяют им гораздо больше, чем представителям рабочих профессий, процент просроченных кредитов у которых максимален."
   ]
  },
  {
   "cell_type": "markdown",
   "id": "e3197c7a-2c0d-4549-b43a-71880001809c",
   "metadata": {},
   "source": [
    "<a id=\"income\"></a>\n",
    "#### 4. Доходы клиентов\n",
    "Что касается **распределения по доходам:**"
   ]
  },
  {
   "cell_type": "code",
   "execution_count": 94,
   "id": "da68772a-0b71-4474-ac88-3532b1f6f80f",
   "metadata": {},
   "outputs": [
    {
     "data": {
      "image/png": "[encoded data removed]",
      "text/plain": [
       "<Figure size 432x288 with 1 Axes>"
      ]
     },
     "metadata": {
      "needs_background": "light"
     },
     "output_type": "display_data"
    }
   ],
   "source": [
    "# гистограмма распределения дохода в датасете\n",
    "data['month_income'].hist(bins=20)\n",
    "plt.savefig('income_hist.png')"
   ]
  },
  {
   "cell_type": "code",
   "execution_count": 11,
   "id": "40d75c79-d703-40f0-b3cb-e27417e4c686",
   "metadata": {},
   "outputs": [],
   "source": [
    "# объединяет клиентов в группы по категориям дохода\n",
    "def income_category(income):\n",
    "    if income <= 25000:\n",
    "        return '0-25т.'\n",
    "    if income > 50000:\n",
    "        return '51-65т.'\n",
    "    return '26-50т.'"
   ]
  },
  {
   "cell_type": "code",
   "execution_count": 12,
   "id": "b2795865-fd99-42cc-9bb4-4252f58ba0ba",
   "metadata": {},
   "outputs": [],
   "source": [
    "# новый столбец\n",
    "data['income_category'] = data['month_income'].apply(income_category)"
   ]
  },
  {
   "cell_type": "code",
   "execution_count": 95,
   "id": "348cfd34-ade5-4258-b7f6-37de35f97ab2",
   "metadata": {},
   "outputs": [
    {
     "data": {
      "image/png": "[encoded data removed]",
      "text/plain": [
       "<Figure size 432x288 with 1 Axes>"
      ]
     },
     "metadata": {
      "needs_background": "light"
     },
     "output_type": "display_data"
    }
   ],
   "source": [
    "income_data = data.pivot_table(index='income_category', values='approved', aggfunc=['count', 'sum'])\n",
    "income_data.columns = ['total', 'approved']\n",
    "income_data.plot(kind='bar', stacked=True, title='Распределение заявок по размеру дохода')\n",
    "\n",
    "plt.xticks(rotation=0)\n",
    "plt.savefig('income_total.png')"
   ]
  },
  {
   "cell_type": "code",
   "execution_count": 69,
   "id": "77eba70d-ef97-4c20-b8b6-4db8fc011bf9",
   "metadata": {},
   "outputs": [
    {
     "data": {
      "text/html": [
       "<style type=\"text/css\">\n",
       "#T_a3210_row0_col0, #T_a3210_row0_col1 {\n",
       "  background-color: yellowgreen;\n",
       "}\n",
       "#T_a3210_row1_col1, #T_a3210_row2_col0 {\n",
       "  background-color: coral;\n",
       "}\n",
       "</style>\n",
       "<table id=\"T_a3210\">\n",
       "  <thead>\n",
       "    <tr>\n",
       "      <th class=\"blank level0\" >&nbsp;</th>\n",
       "      <th id=\"T_a3210_level0_col0\" class=\"col_heading level0 col0\" >approved</th>\n",
       "      <th id=\"T_a3210_level0_col1\" class=\"col_heading level0 col1\" >bad</th>\n",
       "    </tr>\n",
       "    <tr>\n",
       "      <th class=\"index_name level0\" >income_category</th>\n",
       "      <th class=\"blank col0\" >&nbsp;</th>\n",
       "      <th class=\"blank col1\" >&nbsp;</th>\n",
       "    </tr>\n",
       "  </thead>\n",
       "  <tbody>\n",
       "    <tr>\n",
       "      <th id=\"T_a3210_level0_row0\" class=\"row_heading level0 row0\" >51-65т.</th>\n",
       "      <td id=\"T_a3210_row0_col0\" class=\"data row0 col0\" >0.51</td>\n",
       "      <td id=\"T_a3210_row0_col1\" class=\"data row0 col1\" >0.22</td>\n",
       "    </tr>\n",
       "    <tr>\n",
       "      <th id=\"T_a3210_level0_row1\" class=\"row_heading level0 row1\" >26-50т.</th>\n",
       "      <td id=\"T_a3210_row1_col0\" class=\"data row1 col0\" >0.32</td>\n",
       "      <td id=\"T_a3210_row1_col1\" class=\"data row1 col1\" >0.28</td>\n",
       "    </tr>\n",
       "    <tr>\n",
       "      <th id=\"T_a3210_level0_row2\" class=\"row_heading level0 row2\" >0-25т.</th>\n",
       "      <td id=\"T_a3210_row2_col0\" class=\"data row2 col0\" >0.18</td>\n",
       "      <td id=\"T_a3210_row2_col1\" class=\"data row2 col1\" >0.28</td>\n",
       "    </tr>\n",
       "  </tbody>\n",
       "</table>\n"
      ],
      "text/plain": [
       "<pandas.io.formats.style.Styler at 0x2476ea88c40>"
      ]
     },
     "execution_count": 69,
     "metadata": {},
     "output_type": "execute_result"
    }
   ],
   "source": [
    "(\n",
    "    data\n",
    "    .pivot_table(index='income_category', values=['approved', 'bad'])\n",
    "    .sort_values(by='approved', ascending=False)\n",
    "    .style.format('{:.2f}')\n",
    "    .highlight_max(subset=['approved'], color='yellowgreen')\n",
    "    .highlight_min(subset=['approved'], color='coral')\n",
    "    .highlight_max(subset=['bad'], color='coral')\n",
    "    .highlight_min(subset=['bad'], color='yellowgreen')\n",
    ")"
   ]
  },
  {
   "cell_type": "markdown",
   "id": "3a32b398-f253-459f-aaa9-d607be0600d6",
   "metadata": {},
   "source": [
    "После разбиения клиентов на группы по уровню дохода зависимость стала более наглядной. Распределение стремится к нормальному. Наибольшее количество заявок зарегистрировано от людей со средним уровнем дохода (от 25 до 50 тыс.). Более низкие или высокие значения дохода встречаются реже. Тем не менее, зависимость вероятности, что кредит одобрят, прямо зависит от уровня зарплаты. **Чем выше уровень дохода, тем больше шанс получить положительный ответ.** Так, заявки клиентов с доходом выше среднего были одобрены в 51% случаев, а вот клиентов с доходом ниже - всего лишь в 18%.\n",
    "\n",
    "Люди с высоким доходом также имеют и меньшее количество просроченных кредитов - всего около четверти от всех выданных. Для остальных же категорий доля просроченных кредитов почти одинакова - 28%."
   ]
  },
  {
   "cell_type": "markdown",
   "id": "4187f55b-2c74-4efd-80f1-d59b9d2011a4",
   "metadata": {},
   "source": [
    "<a id=\"history\"></a>\n",
    "#### 5. Кредитная история"
   ]
  },
  {
   "cell_type": "markdown",
   "id": "23e1016c-e876-42a6-b606-2f0c5594fd94",
   "metadata": {},
   "source": [
    "Кроме представленных, в данных также содержится множество переменных, характеризующих кредитную историю клиента, которую однозначно учитывают при принятии решения по заявке. Исследовать влияние каждого параметра по отдельности достаточно долго. Однако поскольку все параметры числовые, можно сравнить их средние значения для одобренных и неодобренных заявок:"
   ]
  },
  {
   "cell_type": "code",
   "execution_count": 96,
   "id": "3d5cf8c0-a15e-4e36-b7e5-e2600a3df589",
   "metadata": {},
   "outputs": [
    {
     "data": {
      "text/html": [
       "<style type=\"text/css\">\n",
       "#T_ef9d8_row0_col0, #T_ef9d8_row1_col0, #T_ef9d8_row2_col0, #T_ef9d8_row3_col0, #T_ef9d8_row4_col0, #T_ef9d8_row5_col0, #T_ef9d8_row6_col1, #T_ef9d8_row7_col1, #T_ef9d8_row8_col0, #T_ef9d8_row9_col1, #T_ef9d8_row10_col0, #T_ef9d8_row11_col0, #T_ef9d8_row12_col0, #T_ef9d8_row13_col1, #T_ef9d8_row14_col1, #T_ef9d8_row15_col0, #T_ef9d8_row16_col0, #T_ef9d8_row17_col0, #T_ef9d8_row18_col1 {\n",
       "  background-color: #f7fcf5;\n",
       "  color: #000000;\n",
       "}\n",
       "#T_ef9d8_row0_col1, #T_ef9d8_row1_col1, #T_ef9d8_row2_col1, #T_ef9d8_row3_col1, #T_ef9d8_row4_col1, #T_ef9d8_row5_col1, #T_ef9d8_row6_col0, #T_ef9d8_row7_col0, #T_ef9d8_row8_col1, #T_ef9d8_row9_col0, #T_ef9d8_row10_col1, #T_ef9d8_row11_col1, #T_ef9d8_row12_col1, #T_ef9d8_row13_col0, #T_ef9d8_row14_col0, #T_ef9d8_row15_col1, #T_ef9d8_row16_col1, #T_ef9d8_row17_col1, #T_ef9d8_row18_col0 {\n",
       "  background-color: #00441b;\n",
       "  color: #f1f1f1;\n",
       "}\n",
       "</style>\n",
       "<table id=\"T_ef9d8\">\n",
       "  <thead>\n",
       "    <tr>\n",
       "      <th class=\"index_name level0\" >approved</th>\n",
       "      <th id=\"T_ef9d8_level0_col0\" class=\"col_heading level0 col0\" >0</th>\n",
       "      <th id=\"T_ef9d8_level0_col1\" class=\"col_heading level0 col1\" >1</th>\n",
       "    </tr>\n",
       "  </thead>\n",
       "  <tbody>\n",
       "    <tr>\n",
       "      <th id=\"T_ef9d8_level0_row0\" class=\"row_heading level0 row0\" >all_active_creds_sum_all</th>\n",
       "      <td id=\"T_ef9d8_row0_col0\" class=\"data row0 col0\" >82,021.47</td>\n",
       "      <td id=\"T_ef9d8_row0_col1\" class=\"data row0 col1\" >229,576.36</td>\n",
       "    </tr>\n",
       "    <tr>\n",
       "      <th id=\"T_ef9d8_level0_row1\" class=\"row_heading level0 row1\" >all_closed_creds_sum_all</th>\n",
       "      <td id=\"T_ef9d8_row1_col0\" class=\"data row1 col0\" >116,558.61</td>\n",
       "      <td id=\"T_ef9d8_row1_col1\" class=\"data row1 col1\" >271,742.53</td>\n",
       "    </tr>\n",
       "    <tr>\n",
       "      <th id=\"T_ef9d8_level0_row2\" class=\"row_heading level0 row2\" >all_closed_creds_sum_ly</th>\n",
       "      <td id=\"T_ef9d8_row2_col0\" class=\"data row2 col0\" >10,767.84</td>\n",
       "      <td id=\"T_ef9d8_row2_col1\" class=\"data row2 col1\" >72,148.61</td>\n",
       "    </tr>\n",
       "    <tr>\n",
       "      <th id=\"T_ef9d8_level0_row3\" class=\"row_heading level0 row3\" >all_creds_count_all</th>\n",
       "      <td id=\"T_ef9d8_row3_col0\" class=\"data row3 col0\" >7.89</td>\n",
       "      <td id=\"T_ef9d8_row3_col1\" class=\"data row3 col1\" >19.07</td>\n",
       "    </tr>\n",
       "    <tr>\n",
       "      <th id=\"T_ef9d8_level0_row4\" class=\"row_heading level0 row4\" >all_creds_count_lm</th>\n",
       "      <td id=\"T_ef9d8_row4_col0\" class=\"data row4 col0\" >0.45</td>\n",
       "      <td id=\"T_ef9d8_row4_col1\" class=\"data row4 col1\" >2.45</td>\n",
       "    </tr>\n",
       "    <tr>\n",
       "      <th id=\"T_ef9d8_level0_row5\" class=\"row_heading level0 row5\" >bank_inqs_count_quarter</th>\n",
       "      <td id=\"T_ef9d8_row5_col0\" class=\"data row5 col0\" >2.45</td>\n",
       "      <td id=\"T_ef9d8_row5_col1\" class=\"data row5 col1\" >6.62</td>\n",
       "    </tr>\n",
       "    <tr>\n",
       "      <th id=\"T_ef9d8_level0_row6\" class=\"row_heading level0 row6\" >count_overdue_all_3lm</th>\n",
       "      <td id=\"T_ef9d8_row6_col0\" class=\"data row6 col0\" >0.13</td>\n",
       "      <td id=\"T_ef9d8_row6_col1\" class=\"data row6 col1\" >0.08</td>\n",
       "    </tr>\n",
       "    <tr>\n",
       "      <th id=\"T_ef9d8_level0_row7\" class=\"row_heading level0 row7\" >cred_day_overdue_all_sum_all</th>\n",
       "      <td id=\"T_ef9d8_row7_col0\" class=\"data row7 col0\" >369.26</td>\n",
       "      <td id=\"T_ef9d8_row7_col1\" class=\"data row7 col1\" >18.97</td>\n",
       "    </tr>\n",
       "    <tr>\n",
       "      <th id=\"T_ef9d8_level0_row8\" class=\"row_heading level0 row8\" >cred_max_overdue_max_3lm</th>\n",
       "      <td id=\"T_ef9d8_row8_col0\" class=\"data row8 col0\" >929.97</td>\n",
       "      <td id=\"T_ef9d8_row8_col1\" class=\"data row8 col1\" >1,493.37</td>\n",
       "    </tr>\n",
       "    <tr>\n",
       "      <th id=\"T_ef9d8_level0_row9\" class=\"row_heading level0 row9\" >cred_max_overdue_max_ly</th>\n",
       "      <td id=\"T_ef9d8_row9_col0\" class=\"data row9 col0\" >4,470.34</td>\n",
       "      <td id=\"T_ef9d8_row9_col1\" class=\"data row9 col1\" >3,200.18</td>\n",
       "    </tr>\n",
       "    <tr>\n",
       "      <th id=\"T_ef9d8_level0_row10\" class=\"row_heading level0 row10\" >cred_sum_cc_all</th>\n",
       "      <td id=\"T_ef9d8_row10_col0\" class=\"data row10 col0\" >31,091.19</td>\n",
       "      <td id=\"T_ef9d8_row10_col1\" class=\"data row10 col1\" >72,930.70</td>\n",
       "    </tr>\n",
       "    <tr>\n",
       "      <th id=\"T_ef9d8_level0_row11\" class=\"row_heading level0 row11\" >cred_sum_cc_ly</th>\n",
       "      <td id=\"T_ef9d8_row11_col0\" class=\"data row11 col0\" >4,229.55</td>\n",
       "      <td id=\"T_ef9d8_row11_col1\" class=\"data row11 col1\" >24,717.39</td>\n",
       "    </tr>\n",
       "    <tr>\n",
       "      <th id=\"T_ef9d8_level0_row12\" class=\"row_heading level0 row12\" >cred_sum_debt_all_all</th>\n",
       "      <td id=\"T_ef9d8_row12_col0\" class=\"data row12 col0\" >37,336.46</td>\n",
       "      <td id=\"T_ef9d8_row12_col1\" class=\"data row12 col1\" >186,197.17</td>\n",
       "    </tr>\n",
       "    <tr>\n",
       "      <th id=\"T_ef9d8_level0_row13\" class=\"row_heading level0 row13\" >cred_sum_overdue_cc_all</th>\n",
       "      <td id=\"T_ef9d8_row13_col0\" class=\"data row13 col0\" >6,786.75</td>\n",
       "      <td id=\"T_ef9d8_row13_col1\" class=\"data row13 col1\" >717.31</td>\n",
       "    </tr>\n",
       "    <tr>\n",
       "      <th id=\"T_ef9d8_level0_row14\" class=\"row_heading level0 row14\" >delay_more_sum_all</th>\n",
       "      <td id=\"T_ef9d8_row14_col0\" class=\"data row14 col0\" >6.45</td>\n",
       "      <td id=\"T_ef9d8_row14_col1\" class=\"data row14 col1\" >2.10</td>\n",
       "    </tr>\n",
       "    <tr>\n",
       "      <th id=\"T_ef9d8_level0_row15\" class=\"row_heading level0 row15\" >mfo_closed_count_ly</th>\n",
       "      <td id=\"T_ef9d8_row15_col0\" class=\"data row15 col0\" >1.46</td>\n",
       "      <td id=\"T_ef9d8_row15_col1\" class=\"data row15 col1\" >7.87</td>\n",
       "    </tr>\n",
       "    <tr>\n",
       "      <th id=\"T_ef9d8_level0_row16\" class=\"row_heading level0 row16\" >mfo_cred_mean_sum_3lm</th>\n",
       "      <td id=\"T_ef9d8_row16_col0\" class=\"data row16 col0\" >2,472.18</td>\n",
       "      <td id=\"T_ef9d8_row16_col1\" class=\"data row16 col1\" >8,057.62</td>\n",
       "    </tr>\n",
       "    <tr>\n",
       "      <th id=\"T_ef9d8_level0_row17\" class=\"row_heading level0 row17\" >mfo_inqs_count_month</th>\n",
       "      <td id=\"T_ef9d8_row17_col0\" class=\"data row17 col0\" >0.90</td>\n",
       "      <td id=\"T_ef9d8_row17_col1\" class=\"data row17 col1\" >2.13</td>\n",
       "    </tr>\n",
       "    <tr>\n",
       "      <th id=\"T_ef9d8_level0_row18\" class=\"row_heading level0 row18\" >mfo_last_days_all</th>\n",
       "      <td id=\"T_ef9d8_row18_col0\" class=\"data row18 col0\" >3,210.15</td>\n",
       "      <td id=\"T_ef9d8_row18_col1\" class=\"data row18 col1\" >1,320.68</td>\n",
       "    </tr>\n",
       "  </tbody>\n",
       "</table>\n"
      ],
      "text/plain": [
       "<pandas.io.formats.style.Styler at 0x2476ed3fe80>"
      ]
     },
     "execution_count": 96,
     "metadata": {},
     "output_type": "execute_result"
    }
   ],
   "source": [
    "hist_data = data.loc[:, 'cred_sum_cc_all':'all_creds_count_lm']\n",
    "(\n",
    "    data\n",
    "    .pivot_table(index=['approved'], values=hist_data.columns, aggfunc='mean')\n",
    "    .T\n",
    "    .style.format('{:,.2f}')\n",
    "    .background_gradient(cmap='Greens', axis=1)\n",
    ")"
   ]
  },
  {
   "cell_type": "markdown",
   "id": "3cfee651-4140-4d6c-a915-d3104dafef44",
   "metadata": {},
   "source": [
    "В большинстве случаев средние значения параметров значительно различаются для одобренных и неодобренных заявок. Клиенты, получившие положительный ответ, как правило, характеризуются **более наполненной и \"хорошей\" кредитной историей**. В частности, имеют бОльшее количество кредитов, на бОльшие суммы, однако, выигрывают и по количествам и суммам закрытых кредитов. При этом, у них меньше кредитов \"на просрочке\" и значительно меньше дней задержек платежей по активным займам.\n",
    "\n",
    "Аналогичным способом исследовать влияние всех этих факторов на просрочку кредита не получится, поскольку средние значения будут различаться незначительно, да и коэффициенты матрицы корреляции не помогут сделать однозначных выводов."
   ]
  },
  {
   "cell_type": "markdown",
   "id": "bcf8b9eb-b1e4-4b19-9da5-4062e3b6dc6b",
   "metadata": {},
   "source": [
    "### Вывод"
   ]
  },
  {
   "cell_type": "markdown",
   "id": "81c333d3-b271-4c94-880c-242dd25f174d",
   "metadata": {},
   "source": [
    "В рамках данного небольшого исследования был проведен анализ данных, содержащих информацию о клиентах и их кредитных заявках. Перед проведением анализа данные были проверены на наличие пропусков и некорректных значений. В исследовательской части было изучено влияние основных параметров на одобрение кредитной заявки и просрочку кредита, в частности, рассмотрено распределение заявок по регионам, влияение профессиональной деятельности и дохода клиента, а также его кредитной истории в общем.\n",
    "\n",
    "**Основные выводы:**\n",
    "- Только треть зарегистрированных заявок были одобрены, из них - чуть больше четверти кредитов просрочено.\n",
    "- Москва и Московская область лидируют по количеству зарегистрированных заявок.\n",
    "- Байконур, Магаданская и Смоленская область - по количеству одобренных заявок.\n",
    "- А вот просроченных кредитов больше всего в Астраханской области (около 50%), меньше - в Ярославской (всего 13%).\n",
    "- Больше всего заявок на кредит подают представители рабочих профессий, они же их и чаще всего не возвращают вовремя.\n",
    "- Госслужащим доверяют больше, т.к. всего пятая часть выданных им кредитов просрочена.\n",
    "- Большая часть заявок зарегистрирована от представителей среднего класса.\n",
    "- Чем больше уровень дохода, тем больше вероятность получить положительный ответ по заявке и того, что клиент вернет кредит.\n",
    "- Одобрение по заявке, как правило, получают люди с более наполненной и \"хорошей\" кредитной историей.\n",
    "\n",
    "Поскольку данные чистые и представлены в достаточном объеме, в дальнейшем возможно использовать их для решения задач кредитного скоринга с использованием машинного обучения. Это позволит спрогнозировать кредитоспособность приходящих клиентов и вероятность получения одобрения по заявке."
   ]
  }
 ],
 "metadata": {
  "kernelspec": {
   "display_name": "Python 3 (ipykernel)",
   "language": "python",
   "name": "python3"
  },
  "language_info": {
   "codemirror_mode": {
    "name": "ipython",
    "version": 3
   },
   "file_extension": ".py",
   "mimetype": "text/x-python",
   "name": "python",
   "nbconvert_exporter": "python",
   "pygments_lexer": "ipython3",
   "version": "3.9.7"
  }
 },
 "nbformat": 4,
 "nbformat_minor": 5
}
