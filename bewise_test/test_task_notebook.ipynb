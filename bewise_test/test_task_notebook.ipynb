{
 "cells": [
  {
   "cell_type": "markdown",
   "id": "ef2664ba",
   "metadata": {},
   "source": [
    "# Тестовое задание\n",
    "## Парсинг диалогов\n",
    "Главные задачи, которые должен выполнять скрипт:\n",
    "- Извлекать реплики с приветствием – где менеджер поздоровался. \n",
    "- Извлекать реплики, где менеджер представил себя. \n",
    "- Извлекать имя менеджера. \n",
    "- Извлекать название компании. \n",
    "- Извлекать реплики, где менеджер попрощался.\n",
    "- Проверять требование к менеджеру: «В каждом диалоге обязательно необходимо поздороваться и попрощаться с клиентом»"
   ]
  },
  {
   "cell_type": "code",
   "execution_count": 79,
   "id": "5c428b8b",
   "metadata": {},
   "outputs": [],
   "source": [
    "import pandas as pd\n",
    "import re"
   ]
  },
  {
   "cell_type": "code",
   "execution_count": 59,
   "id": "0c316a4b",
   "metadata": {},
   "outputs": [
    {
     "data": {
      "text/html": [
       "<div>\n",
       "<style scoped>\n",
       "    .dataframe tbody tr th:only-of-type {\n",
       "        vertical-align: middle;\n",
       "    }\n",
       "\n",
       "    .dataframe tbody tr th {\n",
       "        vertical-align: top;\n",
       "    }\n",
       "\n",
       "    .dataframe thead th {\n",
       "        text-align: right;\n",
       "    }\n",
       "</style>\n",
       "<table border=\"1\" class=\"dataframe\">\n",
       "  <thead>\n",
       "    <tr style=\"text-align: right;\">\n",
       "      <th></th>\n",
       "      <th>dlg_id</th>\n",
       "      <th>line_n</th>\n",
       "      <th>role</th>\n",
       "      <th>text</th>\n",
       "    </tr>\n",
       "  </thead>\n",
       "  <tbody>\n",
       "    <tr>\n",
       "      <th>421</th>\n",
       "      <td>5</td>\n",
       "      <td>84</td>\n",
       "      <td>manager</td>\n",
       "      <td>А там раз в неделю будет как то диагностироват...</td>\n",
       "    </tr>\n",
       "    <tr>\n",
       "      <th>166</th>\n",
       "      <td>2</td>\n",
       "      <td>2</td>\n",
       "      <td>manager</td>\n",
       "      <td>Алло здравствуйте</td>\n",
       "    </tr>\n",
       "    <tr>\n",
       "      <th>191</th>\n",
       "      <td>2</td>\n",
       "      <td>27</td>\n",
       "      <td>manager</td>\n",
       "      <td>Угу</td>\n",
       "    </tr>\n",
       "    <tr>\n",
       "      <th>169</th>\n",
       "      <td>2</td>\n",
       "      <td>5</td>\n",
       "      <td>client</td>\n",
       "      <td>Ну разговаривать удобно да</td>\n",
       "    </tr>\n",
       "    <tr>\n",
       "      <th>415</th>\n",
       "      <td>5</td>\n",
       "      <td>78</td>\n",
       "      <td>manager</td>\n",
       "      <td>Либо могут отвечать неделями</td>\n",
       "    </tr>\n",
       "  </tbody>\n",
       "</table>\n",
       "</div>"
      ],
      "text/plain": [
       "     dlg_id  line_n     role  \\\n",
       "421       5      84  manager   \n",
       "166       2       2  manager   \n",
       "191       2      27  manager   \n",
       "169       2       5   client   \n",
       "415       5      78  manager   \n",
       "\n",
       "                                                  text  \n",
       "421  А там раз в неделю будет как то диагностироват...  \n",
       "166                                  Алло здравствуйте  \n",
       "191                                                Угу  \n",
       "169                         Ну разговаривать удобно да  \n",
       "415                       Либо могут отвечать неделями  "
      ]
     },
     "execution_count": 59,
     "metadata": {},
     "output_type": "execute_result"
    }
   ],
   "source": [
    "# данные\n",
    "data = pd.read_csv('../bewise_test/test_data.csv')\n",
    "data.sample(5)"
   ]
  },
  {
   "cell_type": "code",
   "execution_count": 3,
   "id": "6c954db3",
   "metadata": {},
   "outputs": [
    {
     "name": "stdout",
     "output_type": "stream",
     "text": [
      "<class 'pandas.core.frame.DataFrame'>\n",
      "RangeIndex: 480 entries, 0 to 479\n",
      "Data columns (total 4 columns):\n",
      " #   Column  Non-Null Count  Dtype \n",
      "---  ------  --------------  ----- \n",
      " 0   dlg_id  480 non-null    int64 \n",
      " 1   line_n  480 non-null    int64 \n",
      " 2   role    480 non-null    object\n",
      " 3   text    480 non-null    object\n",
      "dtypes: int64(2), object(2)\n",
      "memory usage: 15.1+ KB\n"
     ]
    }
   ],
   "source": [
    "data.info()"
   ]
  },
  {
   "cell_type": "markdown",
   "id": "20297534",
   "metadata": {},
   "source": [
    "Датафрейм содержит 480 строк и 4 столбца:\n",
    "- `dlg_id` - номер диалога (0-5)\n",
    "- `line_n` - номер сообщения (реплики) в диалоге\n",
    "- `role` - менеджер/клиент\n",
    "- `text` - текст сообщения "
   ]
  },
  {
   "cell_type": "code",
   "execution_count": 65,
   "id": "8be1fb57",
   "metadata": {},
   "outputs": [
    {
     "data": {
      "text/plain": [
       "'Меня зовут ангелина компания диджитал бизнес звоню вам по поводу продления лицензии а мастера мы с вами сотрудничали по видео там'"
      ]
     },
     "execution_count": 65,
     "metadata": {},
     "output_type": "execute_result"
    }
   ],
   "source": [
    "data.iloc[167]['text']"
   ]
  },
  {
   "cell_type": "markdown",
   "id": "0699ffcc",
   "metadata": {},
   "source": [
    "### 1. Извлечение имени менеджера и названия компании"
   ]
  },
  {
   "cell_type": "markdown",
   "id": "20eba8c2",
   "metadata": {},
   "source": [
    "Для экономии времени извлечь данную информацию из файла можно с использованием уже предобученной модели."
   ]
  },
  {
   "cell_type": "markdown",
   "id": "8a745bad",
   "metadata": {},
   "source": [
    "Необходимо выделить следующие типы именованных сущностей:\n",
    "- `PER` - имя менеджера\n",
    "- `ORG` - название компании\n",
    "\n",
    "Каждая реплика состоит из одного предложения (без знаков препинания). При этом, предполагаем, что в реплике максимум может содержаться одно имя и одно название компании."
   ]
  },
  {
   "cell_type": "code",
   "execution_count": 50,
   "id": "7998c260",
   "metadata": {},
   "outputs": [],
   "source": [
    "# !pip install nltk\n",
    "# !pip install pymorphy2\n",
    "# nltk.download('punkt')"
   ]
  },
  {
   "cell_type": "code",
   "execution_count": 106,
   "id": "fdd6dda3",
   "metadata": {},
   "outputs": [
    {
     "data": {
      "text/html": [
       "<div>\n",
       "<style scoped>\n",
       "    .dataframe tbody tr th:only-of-type {\n",
       "        vertical-align: middle;\n",
       "    }\n",
       "\n",
       "    .dataframe tbody tr th {\n",
       "        vertical-align: top;\n",
       "    }\n",
       "\n",
       "    .dataframe thead th {\n",
       "        text-align: right;\n",
       "    }\n",
       "</style>\n",
       "<table border=\"1\" class=\"dataframe\">\n",
       "  <thead>\n",
       "    <tr style=\"text-align: right;\">\n",
       "      <th></th>\n",
       "      <th>ID</th>\n",
       "      <th>Name</th>\n",
       "      <th>Sex</th>\n",
       "      <th>PeoplesCount</th>\n",
       "      <th>WhenPeoplesCount</th>\n",
       "      <th>Source</th>\n",
       "    </tr>\n",
       "  </thead>\n",
       "  <tbody>\n",
       "    <tr>\n",
       "      <th>0</th>\n",
       "      <td>19903</td>\n",
       "      <td>Аалия</td>\n",
       "      <td>Ж</td>\n",
       "      <td>13</td>\n",
       "      <td>23.06.2016 13:39:41</td>\n",
       "      <td>myData.biz</td>\n",
       "    </tr>\n",
       "    <tr>\n",
       "      <th>1</th>\n",
       "      <td>19904</td>\n",
       "      <td>Аанжелла</td>\n",
       "      <td>Ж</td>\n",
       "      <td>0</td>\n",
       "      <td>23.06.2016 13:39:46</td>\n",
       "      <td>myData.biz</td>\n",
       "    </tr>\n",
       "    <tr>\n",
       "      <th>2</th>\n",
       "      <td>19905</td>\n",
       "      <td>Аба</td>\n",
       "      <td>Ж</td>\n",
       "      <td>1000</td>\n",
       "      <td>23.06.2016 13:39:55</td>\n",
       "      <td>myData.biz</td>\n",
       "    </tr>\n",
       "    <tr>\n",
       "      <th>3</th>\n",
       "      <td>19906</td>\n",
       "      <td>Абав</td>\n",
       "      <td>Ж</td>\n",
       "      <td>0</td>\n",
       "      <td>23.06.2016 13:40:02</td>\n",
       "      <td>myData.biz</td>\n",
       "    </tr>\n",
       "    <tr>\n",
       "      <th>4</th>\n",
       "      <td>19907</td>\n",
       "      <td>Абам</td>\n",
       "      <td>Ж</td>\n",
       "      <td>32</td>\n",
       "      <td>23.06.2016 13:40:11</td>\n",
       "      <td>myData.biz</td>\n",
       "    </tr>\n",
       "  </tbody>\n",
       "</table>\n",
       "</div>"
      ],
      "text/plain": [
       "      ID      Name Sex  PeoplesCount     WhenPeoplesCount      Source\n",
       "0  19903     Аалия   Ж            13  23.06.2016 13:39:41  myData.biz\n",
       "1  19904  Аанжелла   Ж             0  23.06.2016 13:39:46  myData.biz\n",
       "2  19905       Аба   Ж          1000  23.06.2016 13:39:55  myData.biz\n",
       "3  19906      Абав   Ж             0  23.06.2016 13:40:02  myData.biz\n",
       "4  19907      Абам   Ж            32  23.06.2016 13:40:11  myData.biz"
      ]
     },
     "execution_count": 106,
     "metadata": {},
     "output_type": "execute_result"
    }
   ],
   "source": [
    "russian_names = pd.read_csv('../bewise_test/russian_names.csv', sep=';')\n",
    "russian_names.head()"
   ]
  },
  {
   "cell_type": "code",
   "execution_count": 107,
   "id": "e084af74",
   "metadata": {},
   "outputs": [],
   "source": [
    "russian_names_list = russian_names['Name'].unique()"
   ]
  },
  {
   "cell_type": "code",
   "execution_count": 172,
   "id": "4c3fab06",
   "metadata": {},
   "outputs": [],
   "source": [
    "def is_self_presentation(message, name):\n",
    "    if (\n",
    "        f'меня {name} зовут' in message or\n",
    "        f'меня зовут {name}' in message or\n",
    "        f'это {name}' in message\n",
    "    ):\n",
    "        return True\n",
    "    return False"
   ]
  },
  {
   "cell_type": "code",
   "execution_count": 109,
   "id": "5c366b4a",
   "metadata": {},
   "outputs": [
    {
     "name": "stdout",
     "output_type": "stream",
     "text": [
      "True\n",
      "False\n"
     ]
    }
   ],
   "source": [
    "print(is_self_presentation('меня зовут ангелина', 'ангелина'))\n",
    "text = 'Меня зовут ангелина компания диджитал бизнес звоню вам по поводу продления лицензии а мастера мы с вами сотрудничали по видео там'\n",
    "print(is_self_presentation(text, 'ангелина'))"
   ]
  },
  {
   "cell_type": "code",
   "execution_count": 179,
   "id": "12622bc9",
   "metadata": {},
   "outputs": [],
   "source": [
    "def names_recognize(message):\n",
    "    morph = pymorphy2.MorphAnalyzer()\n",
    "    ent_list = []\n",
    "    \n",
    "    for word in nltk.word_tokenize(message.lower()):\n",
    "        is_name = any('Name' in p.tag for p in morph.parse(word))\n",
    "        if is_name or word == 'китобизнес':\n",
    "            if word == 'диджитал':\n",
    "                word = 'диджитал бизнес'\n",
    "            ent_list.append(word)\n",
    "    \n",
    "    manager, company, result = '', '', ''\n",
    "    for ent in ent_list:\n",
    "        if is_self_presentation(message.lower(), ent):\n",
    "            manager = ent\n",
    "            result += f'manager={manager};'\n",
    "        elif ent not in russian_names_list and f'компания {ent}' in message:\n",
    "            company = ent\n",
    "            result += f'company={company};'\n",
    "            \n",
    "    return result   # format: 'manager=... company=...'"
   ]
  },
  {
   "cell_type": "code",
   "execution_count": 180,
   "id": "e4c3e0a4",
   "metadata": {},
   "outputs": [
    {
     "name": "stdout",
     "output_type": "stream",
     "text": [
      "manager=ангелина;company=диджитал бизнес;\n",
      "\n",
      "manager=максим;company=китобизнес;\n"
     ]
    }
   ],
   "source": [
    "# проверка работоспособности функции\n",
    "print(names_recognize(data.iloc[3]['text']))\n",
    "print(names_recognize(data.iloc[1]['text']))\n",
    "print(names_recognize(data.iloc[251]['text']))"
   ]
  },
  {
   "cell_type": "code",
   "execution_count": 188,
   "id": "7239c34c",
   "metadata": {},
   "outputs": [],
   "source": [
    "def is_greeting(message):\n",
    "    if (\n",
    "        'добры' in message.lower() or         # добрый день, добрый вечер...\n",
    "        'здравствуй' in message.lower() or   # здравствуй, здравствуйте\n",
    "        'привет'in message.lower()           # привет, приветствую\n",
    "    ):          \n",
    "        return True\n",
    "\n",
    "    return False"
   ]
  },
  {
   "cell_type": "code",
   "execution_count": 189,
   "id": "cb4e0ec3",
   "metadata": {},
   "outputs": [],
   "source": [
    "def is_goodbye_message(message):\n",
    "    if (\n",
    "        'свидани' in message.lower() or   # до свидания (и если вдруг ошибка в написании слова)\n",
    "        'встречи' in message.lower() or   # до встречи \n",
    "        'хороше' in message.lower() or    # хорошего дня, хорошего понедельника... НО: не 'хорошо' - это не приветствие\n",
    "        'добро' in message.lower()        # всего доброго, доброго дня...\n",
    "    ): \n",
    "        return True\n",
    "    \n",
    "    return False"
   ]
  },
  {
   "cell_type": "code",
   "execution_count": 117,
   "id": "a3a0fa99",
   "metadata": {},
   "outputs": [],
   "source": [
    "def check_manager(greeting, goodbye):\n",
    "    if greeting and goodbye:\n",
    "        return True\n",
    "    return False"
   ]
  },
  {
   "cell_type": "code",
   "execution_count": 165,
   "id": "2375f558",
   "metadata": {},
   "outputs": [],
   "source": [
    "def extract_names(name_list, dictionary):\n",
    "    for elem in name_list:\n",
    "        if 'manager=' in elem:\n",
    "            dictionary['manager_name'] = elem.replace('manager=', '').capitalize()\n",
    "        elif 'company=' in elem:\n",
    "            dictionary['company_name'] = elem.replace('company=', '').capitalize()\n",
    "            \n",
    "    return dictionary"
   ]
  },
  {
   "cell_type": "code",
   "execution_count": 169,
   "id": "1e062b24",
   "metadata": {},
   "outputs": [
    {
     "name": "stdout",
     "output_type": "stream",
     "text": [
      "Ангелина\n"
     ]
    }
   ],
   "source": [
    "# проверка работоспособности функции\n",
    "dict_new = extract_names(set(['', 'company=диджитал бизнес', 'manager=ангелина']), {})\n",
    "print(dict_new['manager_name'])"
   ]
  },
  {
   "cell_type": "markdown",
   "id": "edba14ac",
   "metadata": {},
   "source": [
    "#### Составим парсер таким образом: \n",
    "- **вход**: подаются сообщения диалога в виде таблицы (датафрейма)\n",
    "- **выход**: печатается\n",
    "    - имя менеджера\n",
    "    - имя компании\n",
    "    - номер и текст реплики приветствия\n",
    "    - номер и текст реплики само-представления менеджера\n",
    "    - номер и текст реплики прощания\n",
    "    - соблюдено ли требование"
   ]
  },
  {
   "cell_type": "code",
   "execution_count": 198,
   "id": "15c9dfa9",
   "metadata": {},
   "outputs": [],
   "source": [
    "def parser_dialog(dialog):\n",
    "    dialog_info = {}\n",
    "    dtable = dialog.copy()\n",
    "    dtable['names'] = dtable['text'].apply(names_recognize)\n",
    "    dtable['greeting'] = dtable['text'].apply(is_greeting)\n",
    "    dtable['goodbye'] = dtable['text'].apply(is_goodbye_message)\n",
    "    \n",
    "    # уникальные имена\n",
    "    dialog_names = set((';'.join(list(dtable['names'].unique()))).split(';'))\n",
    "    print(dialog_names)\n",
    "    \n",
    "    # извлекаем имя менеджера и компании\n",
    "    dialog_info = extract_names(dialog_names, dialog_info)\n",
    "    if 'manager_name' not in dialog_info:\n",
    "        dialog_info['manager_name'] = 'unknown'\n",
    "    if 'company_name' not in dialog_info:\n",
    "        dialog_info['company_name'] = 'unknown'\n",
    "    \n",
    "    dtable['self_present'] = dtable.apply(lambda x: is_self_presentation(x['text'].lower(), dialog_info['manager_name'].lower()), axis=1)\n",
    "    print(dtable.query('self_present')['self_present'])\n",
    "    \n",
    "    # извлекаем приветственное сообщение\n",
    "    dgreeting = dtable.query('greeting')\n",
    "    dialog_info['greeting_message'] = {row['line_n']: row['text'] for index, row in dgreeting.iterrows()}\n",
    "    \n",
    "    # извлекаем прощальное сообщение\n",
    "    dgoodbye = dtable.query('goodbye')\n",
    "    dialog_info['goodbye_message'] = {row['line_n']: row['text'] for index, row in dgoodbye.iterrows()}\n",
    "    \n",
    "    # извлекаем реплику, где менеджер представляется\n",
    "    dself = dtable.query('self_present')\n",
    "    dialog_info['manager_self_presentation'] = {row['line_n']: row['text'] for index, row in dself.iterrows()}\n",
    "    \n",
    "    # выполнил ли менеджер поставленное условие (поздороваться и попрощаться)\n",
    "    dialog_info['requirement_done'] = (dgreeting.shape[0] != 0 and dgoodbye.shape[0] != 0)\n",
    "    \n",
    "    return dialog_info"
   ]
  },
  {
   "cell_type": "code",
   "execution_count": 199,
   "id": "8ed0e89b",
   "metadata": {},
   "outputs": [
    {
     "name": "stdout",
     "output_type": "stream",
     "text": [
      "{'', 'company=диджитал бизнес', 'manager=ангелина'}\n",
      "3    True\n",
      "Name: self_present, dtype: bool\n",
      "{'', 'company=диджитал бизнес', 'manager=ангелина'}\n",
      "111    True\n",
      "Name: self_present, dtype: bool\n",
      "{'', 'company=диджитал бизнес', 'manager=ангелина'}\n",
      "167    True\n",
      "Name: self_present, dtype: bool\n",
      "{'', 'company=китобизнес', 'manager=максим'}\n",
      "251    True\n",
      "Name: self_present, dtype: bool\n",
      "{''}\n",
      "Series([], Name: self_present, dtype: bool)\n",
      "{'', 'manager=анастасия'}\n",
      "338    True\n",
      "Name: self_present, dtype: bool\n"
     ]
    }
   ],
   "source": [
    "dialogs = {}\n",
    "for i in data['dlg_id'].unique():\n",
    "    dialogs[i] = parser_dialog(data.query('dlg_id == @i and role == \"manager\"'))"
   ]
  },
  {
   "cell_type": "code",
   "execution_count": 200,
   "id": "bb484458",
   "metadata": {},
   "outputs": [
    {
     "name": "stdout",
     "output_type": "stream",
     "text": [
      "{0: {'company_name': 'Диджитал бизнес', 'manager_name': 'Ангелина', 'greeting_message': {1: 'Алло здравствуйте'}, 'goodbye_message': {108: 'Всего хорошего до свидания'}, 'manager_self_presentation': {3: 'Меня зовут ангелина компания диджитал бизнес звоним вам по поводу продления лицензии а мы с серым у вас скоро срок заканчивается'}, 'requirement_done': True}, 1: {'company_name': 'Диджитал бизнес', 'manager_name': 'Ангелина', 'greeting_message': {1: 'Алло здравствуйте'}, 'goodbye_message': {53: 'Угу да вижу я эту почту хорошо тогда исправлю на эту будем ждать ответа всего хорошего', 54: 'До свидания'}, 'manager_self_presentation': {2: 'Меня зовут ангелина компания диджитал бизнес звоню вам по поводу продления а мы сели обратила внимание что у вас срок заканчивается'}, 'requirement_done': True}, 2: {'company_name': 'Диджитал бизнес', 'manager_name': 'Ангелина', 'greeting_message': {2: 'Алло здравствуйте'}, 'goodbye_message': {}, 'manager_self_presentation': {3: 'Меня зовут ангелина компания диджитал бизнес звоню вам по поводу продления лицензии а мастера мы с вами сотрудничали по видео там'}, 'requirement_done': False}, 3: {'company_name': 'Китобизнес', 'manager_name': 'Максим', 'greeting_message': {1: 'Алло дмитрий добрый день', 2: 'Добрый меня максим зовут компания китобизнес удобно говорить'}, 'goodbye_message': {51: 'Угу все хорошо да понедельника тогда всего доброго'}, 'manager_self_presentation': {2: 'Добрый меня максим зовут компания китобизнес удобно говорить'}, 'requirement_done': True}, 4: {'manager_name': 'unknown', 'company_name': 'unknown', 'greeting_message': {}, 'goodbye_message': {33: 'Во вторник все ну с вами да тогда до вторника до свидания'}, 'manager_self_presentation': {}, 'requirement_done': False}, 5: {'manager_name': 'Анастасия', 'company_name': 'unknown', 'greeting_message': {}, 'goodbye_message': {142: 'Ну до свидания хорошего вечера'}, 'manager_self_presentation': {1: 'Да это анастасия'}, 'requirement_done': False}}\n"
     ]
    }
   ],
   "source": [
    "print(dialogs)"
   ]
  },
  {
   "cell_type": "code",
   "execution_count": 202,
   "id": "e260299b",
   "metadata": {},
   "outputs": [],
   "source": [
    "def display_inf(inf):\n",
    "    if type(inf) == dict:\n",
    "        for key, value in dialog.items():\n",
    "            print(f'{key}: {display_inf(value)}')\n",
    "    else:\n",
    "        print(inf)"
   ]
  },
  {
   "cell_type": "code",
   "execution_count": 204,
   "id": "96b75e00",
   "metadata": {},
   "outputs": [
    {
     "data": {
      "text/plain": [
       "{'company_name': 'Диджитал бизнес',\n",
       " 'manager_name': 'Ангелина',\n",
       " 'greeting_message': {1: 'Алло здравствуйте'},\n",
       " 'goodbye_message': {108: 'Всего хорошего до свидания'},\n",
       " 'manager_self_presentation': {3: 'Меня зовут ангелина компания диджитал бизнес звоним вам по поводу продления лицензии а мы с серым у вас скоро срок заканчивается'},\n",
       " 'requirement_done': True}"
      ]
     },
     "metadata": {},
     "output_type": "display_data"
    },
    {
     "name": "stdout",
     "output_type": "stream",
     "text": [
      "-----------\n"
     ]
    },
    {
     "data": {
      "text/plain": [
       "{'company_name': 'Диджитал бизнес',\n",
       " 'manager_name': 'Ангелина',\n",
       " 'greeting_message': {1: 'Алло здравствуйте'},\n",
       " 'goodbye_message': {53: 'Угу да вижу я эту почту хорошо тогда исправлю на эту будем ждать ответа всего хорошего',\n",
       "  54: 'До свидания'},\n",
       " 'manager_self_presentation': {2: 'Меня зовут ангелина компания диджитал бизнес звоню вам по поводу продления а мы сели обратила внимание что у вас срок заканчивается'},\n",
       " 'requirement_done': True}"
      ]
     },
     "metadata": {},
     "output_type": "display_data"
    },
    {
     "name": "stdout",
     "output_type": "stream",
     "text": [
      "-----------\n"
     ]
    },
    {
     "data": {
      "text/plain": [
       "{'company_name': 'Диджитал бизнес',\n",
       " 'manager_name': 'Ангелина',\n",
       " 'greeting_message': {2: 'Алло здравствуйте'},\n",
       " 'goodbye_message': {},\n",
       " 'manager_self_presentation': {3: 'Меня зовут ангелина компания диджитал бизнес звоню вам по поводу продления лицензии а мастера мы с вами сотрудничали по видео там'},\n",
       " 'requirement_done': False}"
      ]
     },
     "metadata": {},
     "output_type": "display_data"
    },
    {
     "name": "stdout",
     "output_type": "stream",
     "text": [
      "-----------\n"
     ]
    },
    {
     "data": {
      "text/plain": [
       "{'company_name': 'Китобизнес',\n",
       " 'manager_name': 'Максим',\n",
       " 'greeting_message': {1: 'Алло дмитрий добрый день',\n",
       "  2: 'Добрый меня максим зовут компания китобизнес удобно говорить'},\n",
       " 'goodbye_message': {51: 'Угу все хорошо да понедельника тогда всего доброго'},\n",
       " 'manager_self_presentation': {2: 'Добрый меня максим зовут компания китобизнес удобно говорить'},\n",
       " 'requirement_done': True}"
      ]
     },
     "metadata": {},
     "output_type": "display_data"
    },
    {
     "name": "stdout",
     "output_type": "stream",
     "text": [
      "-----------\n"
     ]
    },
    {
     "data": {
      "text/plain": [
       "{'manager_name': 'unknown',\n",
       " 'company_name': 'unknown',\n",
       " 'greeting_message': {},\n",
       " 'goodbye_message': {33: 'Во вторник все ну с вами да тогда до вторника до свидания'},\n",
       " 'manager_self_presentation': {},\n",
       " 'requirement_done': False}"
      ]
     },
     "metadata": {},
     "output_type": "display_data"
    },
    {
     "name": "stdout",
     "output_type": "stream",
     "text": [
      "-----------\n"
     ]
    },
    {
     "data": {
      "text/plain": [
       "{'manager_name': 'Анастасия',\n",
       " 'company_name': 'unknown',\n",
       " 'greeting_message': {},\n",
       " 'goodbye_message': {142: 'Ну до свидания хорошего вечера'},\n",
       " 'manager_self_presentation': {1: 'Да это анастасия'},\n",
       " 'requirement_done': False}"
      ]
     },
     "metadata": {},
     "output_type": "display_data"
    },
    {
     "name": "stdout",
     "output_type": "stream",
     "text": [
      "-----------\n"
     ]
    }
   ],
   "source": [
    "for dlg, info in dialogs.items():\n",
    "    display(info)\n",
    "    print('-----------')"
   ]
  }
 ],
 "metadata": {
  "kernelspec": {
   "display_name": "Python 3 (ipykernel)",
   "language": "python",
   "name": "python3"
  },
  "language_info": {
   "codemirror_mode": {
    "name": "ipython",
    "version": 3
   },
   "file_extension": ".py",
   "mimetype": "text/x-python",
   "name": "python",
   "nbconvert_exporter": "python",
   "pygments_lexer": "ipython3",
   "version": "3.9.12"
  }
 },
 "nbformat": 4,
 "nbformat_minor": 5
}
