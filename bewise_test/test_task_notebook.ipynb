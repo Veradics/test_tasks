{
 "cells": [
  {
   "cell_type": "markdown",
   "id": "ef2664ba",
   "metadata": {},
   "source": [
    "# Тестовое задание\n",
    "## Парсинг диалогов\n",
    "Главные задачи, которые должен выполнять скрипт:\n",
    "- Извлекать реплики с приветствием – где менеджер поздоровался. \n",
    "- Извлекать реплики, где менеджер представил себя. \n",
    "- Извлекать имя менеджера. \n",
    "- Извлекать название компании. \n",
    "- Извлекать реплики, где менеджер попрощался.\n",
    "- Проверять требование к менеджеру: «В каждом диалоге обязательно необходимо поздороваться и попрощаться с клиентом»"
   ]
  },
  {
   "cell_type": "code",
   "execution_count": 1,
   "id": "5c428b8b",
   "metadata": {},
   "outputs": [],
   "source": [
    "import pandas as pd"
   ]
  },
  {
   "cell_type": "code",
   "execution_count": 2,
   "id": "0c316a4b",
   "metadata": {},
   "outputs": [
    {
     "data": {
      "text/html": [
       "<div>\n",
       "<style scoped>\n",
       "    .dataframe tbody tr th:only-of-type {\n",
       "        vertical-align: middle;\n",
       "    }\n",
       "\n",
       "    .dataframe tbody tr th {\n",
       "        vertical-align: top;\n",
       "    }\n",
       "\n",
       "    .dataframe thead th {\n",
       "        text-align: right;\n",
       "    }\n",
       "</style>\n",
       "<table border=\"1\" class=\"dataframe\">\n",
       "  <thead>\n",
       "    <tr style=\"text-align: right;\">\n",
       "      <th></th>\n",
       "      <th>dlg_id</th>\n",
       "      <th>line_n</th>\n",
       "      <th>role</th>\n",
       "      <th>text</th>\n",
       "    </tr>\n",
       "  </thead>\n",
       "  <tbody>\n",
       "    <tr>\n",
       "      <th>459</th>\n",
       "      <td>5</td>\n",
       "      <td>122</td>\n",
       "      <td>client</td>\n",
       "      <td>Да да</td>\n",
       "    </tr>\n",
       "    <tr>\n",
       "      <th>237</th>\n",
       "      <td>2</td>\n",
       "      <td>73</td>\n",
       "      <td>manager</td>\n",
       "      <td>Угу</td>\n",
       "    </tr>\n",
       "    <tr>\n",
       "      <th>417</th>\n",
       "      <td>5</td>\n",
       "      <td>80</td>\n",
       "      <td>client</td>\n",
       "      <td>А если мы к вам будем вот смотрите мы сейчас н...</td>\n",
       "    </tr>\n",
       "    <tr>\n",
       "      <th>78</th>\n",
       "      <td>0</td>\n",
       "      <td>78</td>\n",
       "      <td>client</td>\n",
       "      <td>Такой простой шаг который в принципе можете де...</td>\n",
       "    </tr>\n",
       "    <tr>\n",
       "      <th>202</th>\n",
       "      <td>2</td>\n",
       "      <td>38</td>\n",
       "      <td>client</td>\n",
       "      <td>Как вот так сейчас сейчас я вам еще точно скаж...</td>\n",
       "    </tr>\n",
       "  </tbody>\n",
       "</table>\n",
       "</div>"
      ],
      "text/plain": [
       "     dlg_id  line_n     role  \\\n",
       "459       5     122   client   \n",
       "237       2      73  manager   \n",
       "417       5      80   client   \n",
       "78        0      78   client   \n",
       "202       2      38   client   \n",
       "\n",
       "                                                  text  \n",
       "459                                              Да да  \n",
       "237                                                Угу  \n",
       "417  А если мы к вам будем вот смотрите мы сейчас н...  \n",
       "78   Такой простой шаг который в принципе можете де...  \n",
       "202  Как вот так сейчас сейчас я вам еще точно скаж...  "
      ]
     },
     "execution_count": 2,
     "metadata": {},
     "output_type": "execute_result"
    }
   ],
   "source": [
    "# данные\n",
    "data = pd.read_csv('test_data.csv')\n",
    "data.sample(5)"
   ]
  },
  {
   "cell_type": "code",
   "execution_count": 3,
   "id": "6c954db3",
   "metadata": {},
   "outputs": [
    {
     "name": "stdout",
     "output_type": "stream",
     "text": [
      "<class 'pandas.core.frame.DataFrame'>\n",
      "RangeIndex: 480 entries, 0 to 479\n",
      "Data columns (total 4 columns):\n",
      " #   Column  Non-Null Count  Dtype \n",
      "---  ------  --------------  ----- \n",
      " 0   dlg_id  480 non-null    int64 \n",
      " 1   line_n  480 non-null    int64 \n",
      " 2   role    480 non-null    object\n",
      " 3   text    480 non-null    object\n",
      "dtypes: int64(2), object(2)\n",
      "memory usage: 15.1+ KB\n"
     ]
    }
   ],
   "source": [
    "data.info()"
   ]
  },
  {
   "cell_type": "markdown",
   "id": "20297534",
   "metadata": {},
   "source": [
    "Датафрейм содержит 480 строк и 4 столбца:\n",
    "- `dlg_id` - номер диалога (0-5)\n",
    "- `line_n` - номер сообщения (реплики) в диалоге\n",
    "- `role` - менеджер/клиент\n",
    "- `text` - текст сообщения "
   ]
  },
  {
   "cell_type": "markdown",
   "id": "5690fcaa",
   "metadata": {},
   "source": [
    "Каждая реплика состоит из одного предложения (без знаков препинания)."
   ]
  },
  {
   "cell_type": "code",
   "execution_count": 4,
   "id": "8be1fb57",
   "metadata": {},
   "outputs": [
    {
     "data": {
      "text/plain": [
       "'Меня зовут ангелина компания диджитал бизнес звоню вам по поводу продления лицензии а мастера мы с вами сотрудничали по видео там'"
      ]
     },
     "execution_count": 4,
     "metadata": {},
     "output_type": "execute_result"
    }
   ],
   "source": [
    "# пример сообщения\n",
    "data.iloc[167]['text']"
   ]
  },
  {
   "cell_type": "markdown",
   "id": "0699ffcc",
   "metadata": {},
   "source": [
    "### 1. Подготовка к решению задачи"
   ]
  },
  {
   "cell_type": "markdown",
   "id": "8a745bad",
   "metadata": {},
   "source": [
    "Необходимо выделить следующие типы именованных сущностей:\n",
    "- `PER` - имя менеджера\n",
    "- `ORG` - название компании"
   ]
  },
  {
   "cell_type": "markdown",
   "id": "74c411ab",
   "metadata": {},
   "source": [
    "Поскольку данных недостаточно для обучения собственной модели, были предприняты попытки использования уже предобученных моделей, имеющих поддержку русского языка (из библиотек *Stanza*, *PullEnti*, *Natasha*, *Spacy*). К сожалению, ни одна из выбранных моделей не показала удовлетворительного результата (ниже пример кода для Spacy). Возможно, это связано с тем, что модели обучались на письменных текстах (новости, медиа), где имена собственные начинаются с прописных букв."
   ]
  },
  {
   "cell_type": "code",
   "execution_count": 5,
   "id": "36a7d2fb",
   "metadata": {},
   "outputs": [
    {
     "name": "stdout",
     "output_type": "stream",
     "text": [
      "()\n"
     ]
    }
   ],
   "source": [
    "# !pip install spacy\n",
    "# !python -m spacy download ru_core_news_md\n",
    "import spacy\n",
    "\n",
    "nlp = spacy.load(\"ru_core_news_md\")\n",
    "doc = nlp(data.iloc[167]['text'])    \n",
    "print(doc.ents)"
   ]
  },
  {
   "cell_type": "markdown",
   "id": "da9a279c",
   "metadata": {},
   "source": [
    "### 2. Вспомогательные функции"
   ]
  },
  {
   "cell_type": "markdown",
   "id": "28e4e85e",
   "metadata": {},
   "source": [
    "Решение на основе nltk и pymorphy2."
   ]
  },
  {
   "cell_type": "code",
   "execution_count": 6,
   "id": "7998c260",
   "metadata": {},
   "outputs": [],
   "source": [
    "# !pip install nltk\n",
    "# !pip install pymorphy2\n",
    "# nltk.download('punkt')"
   ]
  },
  {
   "cell_type": "code",
   "execution_count": 7,
   "id": "2bc6cc51",
   "metadata": {},
   "outputs": [],
   "source": [
    "import nltk\n",
    "import pymorphy2\n",
    "morph = pymorphy2.MorphAnalyzer()"
   ]
  },
  {
   "cell_type": "markdown",
   "id": "19485d12",
   "metadata": {},
   "source": [
    "Функция **is_self_presentation** находит в сообщении паттерн представления менеджера"
   ]
  },
  {
   "cell_type": "code",
   "execution_count": 8,
   "id": "4c3fab06",
   "metadata": {},
   "outputs": [],
   "source": [
    "def is_self_presentation(message, name):    \n",
    "    if (\n",
    "        f'меня {name.lower()} зовут' in message.lower() or\n",
    "        f'меня зовут {name.lower()}' in message.lower() or\n",
    "        f'это {name.lower()}' in message.lower()\n",
    "    ):\n",
    "        return True\n",
    "    return False"
   ]
  },
  {
   "cell_type": "code",
   "execution_count": 9,
   "id": "5c366b4a",
   "metadata": {},
   "outputs": [
    {
     "name": "stdout",
     "output_type": "stream",
     "text": [
      "True\n",
      "True\n"
     ]
    }
   ],
   "source": [
    "# проверка работоспособности функции\n",
    "print(is_self_presentation('меня зовут ангелина', 'ангелина'))\n",
    "text = data.iloc[167]['text']\n",
    "print(is_self_presentation(text.lower(), 'ангелина'))"
   ]
  },
  {
   "cell_type": "markdown",
   "id": "ce746bd3",
   "metadata": {},
   "source": [
    "Функция **names_recognize** находит имя человека в сообщении и возвращает его, если это имя - имя менеджера. Названия компаний игнорирует."
   ]
  },
  {
   "cell_type": "code",
   "execution_count": 10,
   "id": "12622bc9",
   "metadata": {},
   "outputs": [],
   "source": [
    "def name_recognize(message):\n",
    "    global morph\n",
    "    prob_thresh = 0.2  # порог для определения слова-имени\n",
    "    name_list = []     # на случай, если в сообщении не одно имя\n",
    "    \n",
    "    for word in nltk.word_tokenize(message.lower()):\n",
    "        is_name = any(('Name' in p.tag and p.score >= prob_thresh) for p in morph.parse(word))\n",
    "        if is_name:\n",
    "            name_list.append(word)\n",
    "            \n",
    "    for name in name_list:\n",
    "        if is_self_presentation(message.lower(), name):\n",
    "            return name"
   ]
  },
  {
   "cell_type": "code",
   "execution_count": 11,
   "id": "e4c3e0a4",
   "metadata": {},
   "outputs": [
    {
     "name": "stdout",
     "output_type": "stream",
     "text": [
      "ангелина\n",
      "None\n",
      "максим\n"
     ]
    }
   ],
   "source": [
    "# проверка работоспособности функции\n",
    "print(name_recognize(data.iloc[3]['text']))\n",
    "print(name_recognize(data.iloc[1]['text']))\n",
    "print(name_recognize(data.iloc[251]['text']))"
   ]
  },
  {
   "cell_type": "markdown",
   "id": "8d810b35",
   "metadata": {},
   "source": [
    "Функция **company_recognize** находит название компании в сообщении. В том числе учитываютс случаи, когда название компании состоит из двух и более слов."
   ]
  },
  {
   "cell_type": "code",
   "execution_count": 12,
   "id": "2f2cd3c1",
   "metadata": {},
   "outputs": [],
   "source": [
    "def company_recognize(message):\n",
    "    global morph\n",
    "    if 'компания' not in message.lower():\n",
    "        return\n",
    "    result = ''\n",
    "    for word in nltk.word_tokenize(message.lower()):\n",
    "        # является ли слово началом названия компании\n",
    "        is_company = any(f'компания {word}' in message.lower() and 'NOUN' in p.tag for p in morph.parse(word))\n",
    "        # является ли слово частью названия компании\n",
    "        is_part_name = any(\n",
    "            ((len(result) > 0) and f'{result}{word}' in message.lower()) and \n",
    "            'NOUN' in p.tag for p in morph.parse(word)\n",
    "        )\n",
    "        \n",
    "        if is_company or is_part_name:\n",
    "            result += word + ' '\n",
    "            \n",
    "    return result.strip()"
   ]
  },
  {
   "cell_type": "code",
   "execution_count": 13,
   "id": "15d2a9ed",
   "metadata": {},
   "outputs": [
    {
     "name": "stdout",
     "output_type": "stream",
     "text": [
      "диджитал бизнес\n",
      "None\n",
      "китобизнес\n"
     ]
    }
   ],
   "source": [
    "# проверка работоспособности функции\n",
    "print(company_recognize(data.iloc[3]['text']))\n",
    "print(company_recognize(data.iloc[1]['text']))\n",
    "print(company_recognize(data.iloc[251]['text']))"
   ]
  },
  {
   "cell_type": "markdown",
   "id": "7b567bd6",
   "metadata": {},
   "source": [
    "Функции **is_greeting** и **is_goodbye_message** определяют, является ли сообщение приветствием и прощанием соответственно."
   ]
  },
  {
   "cell_type": "code",
   "execution_count": 14,
   "id": "7239c34c",
   "metadata": {},
   "outputs": [],
   "source": [
    "def is_greeting(message):\n",
    "    if (\n",
    "        'добры' in message.lower() or         # добрый день, добрый вечер...\n",
    "        'здравствуй' in message.lower() or    # здравствуй, здравствуйте\n",
    "        'привет'in message.lower()            # привет, приветствую\n",
    "    ):          \n",
    "        return True\n",
    "\n",
    "    return False"
   ]
  },
  {
   "cell_type": "code",
   "execution_count": 15,
   "id": "cb4e0ec3",
   "metadata": {},
   "outputs": [],
   "source": [
    "def is_goodbye_message(message):\n",
    "    if (\n",
    "        'свидани' in message.lower() or   # до свидания (и если вдруг ошибка в написании слова)\n",
    "        'встречи' in message.lower() or   # до встречи \n",
    "        'хороше' in message.lower() or    # хорошего дня, хорошего понедельника... НО: не 'хорошо' - это не приветствие\n",
    "        'добро' in message.lower()        # всего доброго, доброго дня...\n",
    "    ): \n",
    "        return True\n",
    "    \n",
    "    return False"
   ]
  },
  {
   "cell_type": "markdown",
   "id": "793fe27c",
   "metadata": {},
   "source": [
    "Функция **check_manager** определяет, выполнил ли менеджер требование (поздороваться в начале диалога и попрощаться в конце)"
   ]
  },
  {
   "cell_type": "code",
   "execution_count": 16,
   "id": "a3a0fa99",
   "metadata": {},
   "outputs": [],
   "source": [
    "def check_manager(greeting, goodbye):\n",
    "    if greeting and goodbye:\n",
    "        return True\n",
    "    return False"
   ]
  },
  {
   "cell_type": "markdown",
   "id": "4c853d89",
   "metadata": {},
   "source": [
    "### 3. Парсинг текста"
   ]
  },
  {
   "cell_type": "markdown",
   "id": "edba14ac",
   "metadata": {},
   "source": [
    "#### Составим парсер таким образом: \n",
    "- **вход**: подаются сообщения диалога в виде таблицы (датафрейма)\n",
    "- **выход**: выдается словарь *dialog_info*, в котором содержится необходимая информация"
   ]
  },
  {
   "cell_type": "markdown",
   "id": "1f521494",
   "metadata": {},
   "source": [
    "Структура *dialog_info*:\n",
    "\n",
    "{\n",
    "\n",
    "    manager_name: *Name*           # имя менеджера\n",
    "    company_name: *Company*        # название компании\n",
    "    greeting_message: {\n",
    "        1: '...'                   # номер и текст реплики приветствия\n",
    "    }\n",
    "    goodbye_message: {\n",
    "        2: '...'                   # номер и текст реплики прощания\n",
    "    }\n",
    "    manager_self_presentation: {\n",
    "        3: '...'                   # номер и текст реплики само-представления менеджера\n",
    "    }\n",
    "    requirement_done: True/False   # соблюдено ли требование\n",
    "\n",
    "}"
   ]
  },
  {
   "cell_type": "code",
   "execution_count": 17,
   "id": "15c9dfa9",
   "metadata": {},
   "outputs": [],
   "source": [
    "def parser_dialog(dialog):\n",
    "    dialog_info = {}         # для записи итоговых значений\n",
    "    dtable = dialog.copy()   # копия датасета\n",
    "    \n",
    "    dtable['name'] = dtable['text'].apply(name_recognize)        # имя менеджера, если оно появилось в сообщении\n",
    "    dtable['company'] = dtable['text'].apply(company_recognize)  # название компании, если оно появилось\n",
    "    dtable['greeting'] = dtable['text'].apply(is_greeting)       # является ли текст приветствием (true/false)\n",
    "    dtable['goodbye'] = dtable['text'].apply(is_goodbye_message) # является ли текст прощанием (true/false)\n",
    "    \n",
    "    \n",
    "    # извлекаем имя менеджера и компании\n",
    "    dialog_info['manager_name'] = (''.join(list(dtable['name'].fillna('').unique()))).capitalize()\n",
    "    dialog_info['company_name'] = (''.join(list(dtable['company'].fillna('').unique()))).capitalize()\n",
    "    \n",
    "    # если имена в диалоге не представлены\n",
    "    if dialog_info['manager_name'] == '':\n",
    "        dialog_info['manager_name'] = 'unknown'\n",
    "    if dialog_info['company_name'] == '':\n",
    "        dialog_info['company_name'] = 'unknown'\n",
    "    \n",
    "    \n",
    "    # является ли реплика само-представлением менеджера\n",
    "    dtable['self_present'] = dtable.apply(lambda x: is_self_presentation(x['text'], dialog_info['manager_name']), axis=1)\n",
    "    \n",
    "                                          \n",
    "    # извлекаем приветственное сообщение\n",
    "    dgreeting = dtable.query('greeting')\n",
    "    dialog_info['greeting_message'] = {row['line_n']: row['text'] for index, row in dgreeting.iterrows()}\n",
    "    \n",
    "    # извлекаем прощальное сообщение\n",
    "    dgoodbye = dtable.query('goodbye')\n",
    "    dialog_info['goodbye_message'] = {row['line_n']: row['text'] for index, row in dgoodbye.iterrows()}\n",
    "    \n",
    "    # извлекаем реплику, где менеджер представляется\n",
    "    dself = dtable.query('self_present')\n",
    "    dialog_info['manager_self_presentation'] = {row['line_n']: row['text'] for index, row in dself.iterrows()}\n",
    "                                          \n",
    "    \n",
    "    # выполнил ли менеджер поставленное условие (поздороваться и попрощаться)\n",
    "    dialog_info['requirement_done'] = (dgreeting.shape[0] != 0 and dgoodbye.shape[0] != 0)\n",
    "    \n",
    "    return dialog_info"
   ]
  },
  {
   "cell_type": "code",
   "execution_count": 18,
   "id": "e260299b",
   "metadata": {},
   "outputs": [],
   "source": [
    "# отображение информации о диалоге\n",
    "def display_info(dialog_info, n):\n",
    "    print(f'Диалог №{n}')\n",
    "    print()\n",
    "    for key, value in dialog_info.items():\n",
    "        if type(value) != dict:\n",
    "            print(key + ':', value)\n",
    "        else:\n",
    "            print(key + ':')\n",
    "            for key1, value1 in value.items():\n",
    "                print('\\t' + str(key1) + ':', value1)\n",
    "            print()"
   ]
  },
  {
   "cell_type": "markdown",
   "id": "5bf4334d",
   "metadata": {},
   "source": [
    "И наконец, парсинг диалогов из представленного файла:"
   ]
  },
  {
   "cell_type": "code",
   "execution_count": 19,
   "id": "8ed0e89b",
   "metadata": {},
   "outputs": [],
   "source": [
    "dialogs = {}\n",
    "for i in data['dlg_id'].unique():\n",
    "    dialogs[i] = parser_dialog(data.query('dlg_id == @i and role == \"manager\"'))"
   ]
  },
  {
   "cell_type": "code",
   "execution_count": 20,
   "id": "96b75e00",
   "metadata": {},
   "outputs": [
    {
     "name": "stdout",
     "output_type": "stream",
     "text": [
      "Диалог №0\n",
      "\n",
      "manager_name: Ангелина\n",
      "company_name: Диджитал бизнес\n",
      "greeting_message:\n",
      "\t1: Алло здравствуйте\n",
      "\n",
      "goodbye_message:\n",
      "\t108: Всего хорошего до свидания\n",
      "\n",
      "manager_self_presentation:\n",
      "\t3: Меня зовут ангелина компания диджитал бизнес звоним вам по поводу продления лицензии а мы с серым у вас скоро срок заканчивается\n",
      "\n",
      "requirement_done: True\n",
      "----------- \n",
      "\n",
      "\n",
      "Диалог №1\n",
      "\n",
      "manager_name: Ангелина\n",
      "company_name: Диджитал бизнес\n",
      "greeting_message:\n",
      "\t1: Алло здравствуйте\n",
      "\n",
      "goodbye_message:\n",
      "\t53: Угу да вижу я эту почту хорошо тогда исправлю на эту будем ждать ответа всего хорошего\n",
      "\t54: До свидания\n",
      "\n",
      "manager_self_presentation:\n",
      "\t2: Меня зовут ангелина компания диджитал бизнес звоню вам по поводу продления а мы сели обратила внимание что у вас срок заканчивается\n",
      "\n",
      "requirement_done: True\n",
      "----------- \n",
      "\n",
      "\n",
      "Диалог №2\n",
      "\n",
      "manager_name: Ангелина\n",
      "company_name: Диджитал бизнес\n",
      "greeting_message:\n",
      "\t2: Алло здравствуйте\n",
      "\n",
      "goodbye_message:\n",
      "\n",
      "manager_self_presentation:\n",
      "\t3: Меня зовут ангелина компания диджитал бизнес звоню вам по поводу продления лицензии а мастера мы с вами сотрудничали по видео там\n",
      "\n",
      "requirement_done: False\n",
      "----------- \n",
      "\n",
      "\n",
      "Диалог №3\n",
      "\n",
      "manager_name: Максим\n",
      "company_name: Китобизнес\n",
      "greeting_message:\n",
      "\t1: Алло дмитрий добрый день\n",
      "\t2: Добрый меня максим зовут компания китобизнес удобно говорить\n",
      "\n",
      "goodbye_message:\n",
      "\t51: Угу все хорошо да понедельника тогда всего доброго\n",
      "\n",
      "manager_self_presentation:\n",
      "\t2: Добрый меня максим зовут компания китобизнес удобно говорить\n",
      "\n",
      "requirement_done: True\n",
      "----------- \n",
      "\n",
      "\n",
      "Диалог №4\n",
      "\n",
      "manager_name: unknown\n",
      "company_name: unknown\n",
      "greeting_message:\n",
      "\n",
      "goodbye_message:\n",
      "\t33: Во вторник все ну с вами да тогда до вторника до свидания\n",
      "\n",
      "manager_self_presentation:\n",
      "\n",
      "requirement_done: False\n",
      "----------- \n",
      "\n",
      "\n",
      "Диалог №5\n",
      "\n",
      "manager_name: Анастасия\n",
      "company_name: unknown\n",
      "greeting_message:\n",
      "\n",
      "goodbye_message:\n",
      "\t142: Ну до свидания хорошего вечера\n",
      "\n",
      "manager_self_presentation:\n",
      "\t1: Да это анастасия\n",
      "\n",
      "requirement_done: False\n",
      "----------- \n",
      "\n",
      "\n"
     ]
    }
   ],
   "source": [
    "for dlg, info in dialogs.items():\n",
    "    display_info(info, dlg)\n",
    "    print('-----------', '\\n\\n')"
   ]
  }
 ],
 "metadata": {
  "kernelspec": {
   "display_name": "Python 3 (ipykernel)",
   "language": "python",
   "name": "python3"
  },
  "language_info": {
   "codemirror_mode": {
    "name": "ipython",
    "version": 3
   },
   "file_extension": ".py",
   "mimetype": "text/x-python",
   "name": "python",
   "nbconvert_exporter": "python",
   "pygments_lexer": "ipython3",
   "version": "3.9.12"
  }
 },
 "nbformat": 4,
 "nbformat_minor": 5
}
