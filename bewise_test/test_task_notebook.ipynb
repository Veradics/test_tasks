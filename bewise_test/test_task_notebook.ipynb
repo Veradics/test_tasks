{
 "cells": [
  {
   "cell_type": "markdown",
   "id": "ef2664ba",
   "metadata": {},
   "source": [
    "# Тестовое задание\n",
    "## Парсинг диалогов\n",
    "Главные задачи, которые должен выполнять скрипт:\n",
    "- Извлекать реплики с приветствием – где менеджер поздоровался. \n",
    "- Извлекать реплики, где менеджер представил себя. \n",
    "- Извлекать имя менеджера. \n",
    "- Извлекать название компании. \n",
    "- Извлекать реплики, где менеджер попрощался.\n",
    "- Проверять требование к менеджеру: «В каждом диалоге обязательно необходимо поздороваться и попрощаться с клиентом»"
   ]
  },
  {
   "cell_type": "code",
   "execution_count": 25,
   "id": "5c428b8b",
   "metadata": {},
   "outputs": [],
   "source": [
    "import pandas as pd"
   ]
  },
  {
   "cell_type": "code",
   "execution_count": 27,
   "id": "0c316a4b",
   "metadata": {},
   "outputs": [
    {
     "data": {
      "text/html": [
       "<div>\n",
       "<style scoped>\n",
       "    .dataframe tbody tr th:only-of-type {\n",
       "        vertical-align: middle;\n",
       "    }\n",
       "\n",
       "    .dataframe tbody tr th {\n",
       "        vertical-align: top;\n",
       "    }\n",
       "\n",
       "    .dataframe thead th {\n",
       "        text-align: right;\n",
       "    }\n",
       "</style>\n",
       "<table border=\"1\" class=\"dataframe\">\n",
       "  <thead>\n",
       "    <tr style=\"text-align: right;\">\n",
       "      <th></th>\n",
       "      <th>dlg_id</th>\n",
       "      <th>line_n</th>\n",
       "      <th>role</th>\n",
       "      <th>text</th>\n",
       "    </tr>\n",
       "  </thead>\n",
       "  <tbody>\n",
       "    <tr>\n",
       "      <th>433</th>\n",
       "      <td>5</td>\n",
       "      <td>96</td>\n",
       "      <td>manager</td>\n",
       "      <td>Хэлп которая</td>\n",
       "    </tr>\n",
       "    <tr>\n",
       "      <th>308</th>\n",
       "      <td>4</td>\n",
       "      <td>6</td>\n",
       "      <td>manager</td>\n",
       "      <td>Я понял ну мы хотели бы просто предложить тако...</td>\n",
       "    </tr>\n",
       "    <tr>\n",
       "      <th>121</th>\n",
       "      <td>1</td>\n",
       "      <td>12</td>\n",
       "      <td>manager</td>\n",
       "      <td>Угу</td>\n",
       "    </tr>\n",
       "    <tr>\n",
       "      <th>59</th>\n",
       "      <td>0</td>\n",
       "      <td>59</td>\n",
       "      <td>client</td>\n",
       "      <td>По какой причине я должен принять решение в ва...</td>\n",
       "    </tr>\n",
       "    <tr>\n",
       "      <th>25</th>\n",
       "      <td>0</td>\n",
       "      <td>25</td>\n",
       "      <td>client</td>\n",
       "      <td>+ месяц 2 3 все что угодно</td>\n",
       "    </tr>\n",
       "  </tbody>\n",
       "</table>\n",
       "</div>"
      ],
      "text/plain": [
       "     dlg_id  line_n     role  \\\n",
       "433       5      96  manager   \n",
       "308       4       6  manager   \n",
       "121       1      12  manager   \n",
       "59        0      59   client   \n",
       "25        0      25   client   \n",
       "\n",
       "                                                  text  \n",
       "433                                       Хэлп которая  \n",
       "308  Я понял ну мы хотели бы просто предложить тако...  \n",
       "121                                                Угу  \n",
       "59   По какой причине я должен принять решение в ва...  \n",
       "25                          + месяц 2 3 все что угодно  "
      ]
     },
     "execution_count": 27,
     "metadata": {},
     "output_type": "execute_result"
    }
   ],
   "source": [
    "# данные\n",
    "data = pd.read_csv('test_data.csv')\n",
    "data.sample(5)"
   ]
  },
  {
   "cell_type": "code",
   "execution_count": 28,
   "id": "6c954db3",
   "metadata": {},
   "outputs": [
    {
     "name": "stdout",
     "output_type": "stream",
     "text": [
      "<class 'pandas.core.frame.DataFrame'>\n",
      "RangeIndex: 480 entries, 0 to 479\n",
      "Data columns (total 4 columns):\n",
      " #   Column  Non-Null Count  Dtype \n",
      "---  ------  --------------  ----- \n",
      " 0   dlg_id  480 non-null    int64 \n",
      " 1   line_n  480 non-null    int64 \n",
      " 2   role    480 non-null    object\n",
      " 3   text    480 non-null    object\n",
      "dtypes: int64(2), object(2)\n",
      "memory usage: 15.1+ KB\n"
     ]
    }
   ],
   "source": [
    "data.info()"
   ]
  },
  {
   "cell_type": "markdown",
   "id": "20297534",
   "metadata": {},
   "source": [
    "Датафрейм содержит 480 строк и 4 столбца:\n",
    "- `dlg_id` - номер диалога (0-5)\n",
    "- `line_n` - номер сообщения (реплики) в диалоге\n",
    "- `role` - менеджер/клиент\n",
    "- `text` - текст сообщения "
   ]
  },
  {
   "cell_type": "markdown",
   "id": "5690fcaa",
   "metadata": {},
   "source": [
    "Каждая реплика состоит из одного предложения (без знаков препинания)."
   ]
  },
  {
   "cell_type": "code",
   "execution_count": 29,
   "id": "8be1fb57",
   "metadata": {},
   "outputs": [
    {
     "data": {
      "text/plain": [
       "'Меня зовут ангелина компания диджитал бизнес звоню вам по поводу продления лицензии а мастера мы с вами сотрудничали по видео там'"
      ]
     },
     "execution_count": 29,
     "metadata": {},
     "output_type": "execute_result"
    }
   ],
   "source": [
    "# пример сообщения\n",
    "data.iloc[167]['text']"
   ]
  },
  {
   "cell_type": "markdown",
   "id": "0699ffcc",
   "metadata": {},
   "source": [
    "### 1. Подготовка к решению задачи"
   ]
  },
  {
   "cell_type": "markdown",
   "id": "8a745bad",
   "metadata": {},
   "source": [
    "Необходимо выделить следующие типы именованных сущностей:\n",
    "- `PER` - имя менеджера\n",
    "- `ORG` - название компании"
   ]
  },
  {
   "cell_type": "markdown",
   "id": "74c411ab",
   "metadata": {},
   "source": [
    "Поскольку данных недостаточно для обучения собственной модели, были предприняты попытки использования уже предобученных моделей, имеющих поддержку русского языка (из библиотек *Stanza*, *PullEnti*, *Natasha*, *Spacy*). К сожалению, ни одна из выбранных моделей не показала удовлетворительного результата (ниже пример кода для Spacy). Возможно, это связано с тем, что модели обучались на письменных текстах (новости, медиа), где имена собственные начинаются с прописных букв."
   ]
  },
  {
   "cell_type": "code",
   "execution_count": 30,
   "id": "36a7d2fb",
   "metadata": {},
   "outputs": [
    {
     "name": "stdout",
     "output_type": "stream",
     "text": [
      "()\n"
     ]
    }
   ],
   "source": [
    "# !pip install spacy\n",
    "# !python -m spacy download ru_core_news_md\n",
    "import spacy\n",
    "\n",
    "nlp = spacy.load(\"ru_core_news_md\")\n",
    "doc = nlp(data.iloc[167]['text'])    \n",
    "print(doc.ents)"
   ]
  },
  {
   "cell_type": "code",
   "execution_count": 31,
   "id": "fdd6dda3",
   "metadata": {},
   "outputs": [
    {
     "data": {
      "text/html": [
       "<div>\n",
       "<style scoped>\n",
       "    .dataframe tbody tr th:only-of-type {\n",
       "        vertical-align: middle;\n",
       "    }\n",
       "\n",
       "    .dataframe tbody tr th {\n",
       "        vertical-align: top;\n",
       "    }\n",
       "\n",
       "    .dataframe thead th {\n",
       "        text-align: right;\n",
       "    }\n",
       "</style>\n",
       "<table border=\"1\" class=\"dataframe\">\n",
       "  <thead>\n",
       "    <tr style=\"text-align: right;\">\n",
       "      <th></th>\n",
       "      <th>ID</th>\n",
       "      <th>Name</th>\n",
       "      <th>Sex</th>\n",
       "      <th>PeoplesCount</th>\n",
       "      <th>WhenPeoplesCount</th>\n",
       "      <th>Source</th>\n",
       "    </tr>\n",
       "  </thead>\n",
       "  <tbody>\n",
       "    <tr>\n",
       "      <th>0</th>\n",
       "      <td>19903</td>\n",
       "      <td>Аалия</td>\n",
       "      <td>Ж</td>\n",
       "      <td>13</td>\n",
       "      <td>23.06.2016 13:39:41</td>\n",
       "      <td>myData.biz</td>\n",
       "    </tr>\n",
       "    <tr>\n",
       "      <th>1</th>\n",
       "      <td>19904</td>\n",
       "      <td>Аанжелла</td>\n",
       "      <td>Ж</td>\n",
       "      <td>0</td>\n",
       "      <td>23.06.2016 13:39:46</td>\n",
       "      <td>myData.biz</td>\n",
       "    </tr>\n",
       "    <tr>\n",
       "      <th>2</th>\n",
       "      <td>19905</td>\n",
       "      <td>Аба</td>\n",
       "      <td>Ж</td>\n",
       "      <td>1000</td>\n",
       "      <td>23.06.2016 13:39:55</td>\n",
       "      <td>myData.biz</td>\n",
       "    </tr>\n",
       "    <tr>\n",
       "      <th>3</th>\n",
       "      <td>19906</td>\n",
       "      <td>Абав</td>\n",
       "      <td>Ж</td>\n",
       "      <td>0</td>\n",
       "      <td>23.06.2016 13:40:02</td>\n",
       "      <td>myData.biz</td>\n",
       "    </tr>\n",
       "    <tr>\n",
       "      <th>4</th>\n",
       "      <td>19907</td>\n",
       "      <td>Абам</td>\n",
       "      <td>Ж</td>\n",
       "      <td>32</td>\n",
       "      <td>23.06.2016 13:40:11</td>\n",
       "      <td>myData.biz</td>\n",
       "    </tr>\n",
       "  </tbody>\n",
       "</table>\n",
       "</div>"
      ],
      "text/plain": [
       "      ID      Name Sex  PeoplesCount     WhenPeoplesCount      Source\n",
       "0  19903     Аалия   Ж            13  23.06.2016 13:39:41  myData.biz\n",
       "1  19904  Аанжелла   Ж             0  23.06.2016 13:39:46  myData.biz\n",
       "2  19905       Аба   Ж          1000  23.06.2016 13:39:55  myData.biz\n",
       "3  19906      Абав   Ж             0  23.06.2016 13:40:02  myData.biz\n",
       "4  19907      Абам   Ж            32  23.06.2016 13:40:11  myData.biz"
      ]
     },
     "execution_count": 31,
     "metadata": {},
     "output_type": "execute_result"
    }
   ],
   "source": [
    "russian_names = pd.read_csv('../bewise_test/russian_names.csv', sep=';')\n",
    "russian_names.head()"
   ]
  },
  {
   "cell_type": "code",
   "execution_count": 33,
   "id": "e084af74",
   "metadata": {},
   "outputs": [],
   "source": [
    "# список русских имен\n",
    "russian_names_list = russian_names['Name'].unique()"
   ]
  },
  {
   "cell_type": "markdown",
   "id": "03caae80",
   "metadata": {},
   "source": [
    "### 2. Вспомогательные функции"
   ]
  },
  {
   "cell_type": "markdown",
   "id": "28e4e85e",
   "metadata": {},
   "source": [
    "Решение на основе nltk и pymorphy2. Для отнесения выбранного слова к имени дополнительно был загружен [список русских имен](https://mydata.biz/ru/catalog/databases/names_db) (см. выше)"
   ]
  },
  {
   "cell_type": "code",
   "execution_count": 154,
   "id": "7998c260",
   "metadata": {},
   "outputs": [],
   "source": [
    "# !pip install nltk\n",
    "# !pip install pymorphy2\n",
    "# nltk.download('punkt')"
   ]
  },
  {
   "cell_type": "code",
   "execution_count": 155,
   "id": "708571c2",
   "metadata": {},
   "outputs": [],
   "source": [
    "import nltk\n",
    "import pymorphy2\n",
    "morph = pymorphy2.MorphAnalyzer()"
   ]
  },
  {
   "cell_type": "markdown",
   "id": "f0e58747",
   "metadata": {},
   "source": [
    "Функция **is_self_presentation** находит в сообщении паттерн представления менеджера"
   ]
  },
  {
   "cell_type": "code",
   "execution_count": 156,
   "id": "4c3fab06",
   "metadata": {},
   "outputs": [],
   "source": [
    "def is_self_presentation(message, name):\n",
    "    if (\n",
    "        f'меня {name} зовут' in message or\n",
    "        f'меня зовут {name}' in message or\n",
    "        f'это {name}' in message\n",
    "    ):\n",
    "        return True\n",
    "    return False"
   ]
  },
  {
   "cell_type": "code",
   "execution_count": 41,
   "id": "5c366b4a",
   "metadata": {},
   "outputs": [
    {
     "name": "stdout",
     "output_type": "stream",
     "text": [
      "True\n",
      "True\n"
     ]
    }
   ],
   "source": [
    "# проверка работоспособности функции\n",
    "print(is_self_presentation('меня зовут ангелина', 'ангелина'))\n",
    "text = data.iloc[167]['text']\n",
    "print(is_self_presentation(text.lower(), 'ангелина'))"
   ]
  },
  {
   "cell_type": "markdown",
   "id": "ad1729be",
   "metadata": {},
   "source": [
    "Функция **names_recognize** находит имя человека в сообщении и возвращает его, если это имя - имя менеджера. Названия компаний игнорирует."
   ]
  },
  {
   "cell_type": "code",
   "execution_count": 157,
   "id": "12622bc9",
   "metadata": {},
   "outputs": [],
   "source": [
    "def names_recognize(message):\n",
    "    global morph\n",
    "    prob_thresh = 0.2  # порог для определения слова-имени\n",
    "    name_list = []     # на случай, если в сообщении не одно имя\n",
    "    \n",
    "    for word in nltk.word_tokenize(message.lower()):\n",
    "        is_name = any(('Name' in p.tag and p.score >= prob_thresh) for p in morph.parse(word))\n",
    "        if is_name:\n",
    "            name_list.append(word)\n",
    "            \n",
    "    for name in name_list:\n",
    "        if is_self_presentation(message.lower(), name):\n",
    "            return name"
   ]
  },
  {
   "cell_type": "code",
   "execution_count": 49,
   "id": "e4c3e0a4",
   "metadata": {},
   "outputs": [
    {
     "name": "stdout",
     "output_type": "stream",
     "text": [
      "ангелина\n",
      "None\n",
      "максим\n"
     ]
    }
   ],
   "source": [
    "# проверка работоспособности функции\n",
    "print(names_recognize(data.iloc[3]['text']))\n",
    "print(names_recognize(data.iloc[1]['text']))\n",
    "print(names_recognize(data.iloc[251]['text']))"
   ]
  },
  {
   "cell_type": "markdown",
   "id": "7900f0d1",
   "metadata": {},
   "source": [
    "Функция **company_recognize** находит название компании в сообщении. В том числе учитываютс случаи, когда название компании состоит из двух и более слов."
   ]
  },
  {
   "cell_type": "code",
   "execution_count": 158,
   "id": "541b1f13",
   "metadata": {},
   "outputs": [],
   "source": [
    "def company_recognize(message):\n",
    "    global morph\n",
    "    if 'компания' not in message.lower():\n",
    "        return\n",
    "    result = ''\n",
    "    for word in nltk.word_tokenize(message.lower()):\n",
    "        # является ли слово началом названия компании\n",
    "        is_company = any(f'компания {word}' in message.lower() and 'NOUN' in p.tag for p in morph.parse(word))\n",
    "        # является ли слово частью названия компании\n",
    "        is_part_name = any(\n",
    "            ((len(result) > 0) and f'{result}{word}' in message.lower()) and \n",
    "            'NOUN' in p.tag for p in morph.parse(word)\n",
    "        )\n",
    "        \n",
    "        if is_company or is_part_name:\n",
    "            result += word + ' '\n",
    "            \n",
    "    return result"
   ]
  },
  {
   "cell_type": "code",
   "execution_count": 153,
   "id": "687f310c",
   "metadata": {},
   "outputs": [
    {
     "name": "stdout",
     "output_type": "stream",
     "text": [
      "диджитал бизнес \n",
      "None\n",
      "китобизнес \n"
     ]
    }
   ],
   "source": [
    "# проверка работоспособности функции\n",
    "print(company_recognize(data.iloc[3]['text']))\n",
    "print(company_recognize(data.iloc[1]['text']))\n",
    "print(company_recognize(data.iloc[251]['text']))"
   ]
  },
  {
   "cell_type": "markdown",
   "id": "a8261176",
   "metadata": {},
   "source": [
    "Функции **is_greeting** и **is_goodbye_message** определяют, является ли сообщение приветствием и прощанием соответственно."
   ]
  },
  {
   "cell_type": "code",
   "execution_count": 159,
   "id": "7239c34c",
   "metadata": {},
   "outputs": [],
   "source": [
    "def is_greeting(message):\n",
    "    if (\n",
    "        'добры' in message.lower() or         # добрый день, добрый вечер...\n",
    "        'здравствуй' in message.lower() or    # здравствуй, здравствуйте\n",
    "        'привет'in message.lower()            # привет, приветствую\n",
    "    ):          \n",
    "        return True\n",
    "\n",
    "    return False"
   ]
  },
  {
   "cell_type": "code",
   "execution_count": 160,
   "id": "cb4e0ec3",
   "metadata": {},
   "outputs": [],
   "source": [
    "def is_goodbye_message(message):\n",
    "    if (\n",
    "        'свидани' in message.lower() or   # до свидания (и если вдруг ошибка в написании слова)\n",
    "        'встречи' in message.lower() or   # до встречи \n",
    "        'хороше' in message.lower() or    # хорошего дня, хорошего понедельника... НО: не 'хорошо' - это не приветствие\n",
    "        'добро' in message.lower()        # всего доброго, доброго дня...\n",
    "    ): \n",
    "        return True\n",
    "    \n",
    "    return False"
   ]
  },
  {
   "cell_type": "markdown",
   "id": "0df1f6c2",
   "metadata": {},
   "source": [
    "Функция **check_manager** определяет, выполнил ли менеджер требование (поздороваться в начале диалога и попрощаться в конце)"
   ]
  },
  {
   "cell_type": "code",
   "execution_count": 161,
   "id": "a3a0fa99",
   "metadata": {},
   "outputs": [],
   "source": [
    "def check_manager(greeting, goodbye):\n",
    "    if greeting and goodbye:\n",
    "        return True\n",
    "    return False"
   ]
  },
  {
   "cell_type": "markdown",
   "id": "f11d9cda",
   "metadata": {},
   "source": [
    "### 3. Парсинг текста"
   ]
  },
  {
   "cell_type": "markdown",
   "id": "edba14ac",
   "metadata": {},
   "source": [
    "#### Составим парсер таким образом: \n",
    "- **вход**: подаются сообщения диалога в виде таблицы (датафрейма)\n",
    "- **выход**: печатается\n",
    "    - имя менеджера\n",
    "    - имя компании\n",
    "    - номер и текст реплики приветствия\n",
    "    - номер и текст реплики само-представления менеджера\n",
    "    - номер и текст реплики прощания\n",
    "    - соблюдено ли требование"
   ]
  },
  {
   "cell_type": "code",
   "execution_count": 198,
   "id": "15c9dfa9",
   "metadata": {},
   "outputs": [],
   "source": [
    "def parser_dialog(dialog):\n",
    "    dialog_info = {}\n",
    "    dtable = dialog.copy()\n",
    "    dtable['names'] = dtable['text'].apply(names_recognize)\n",
    "    dtable['greeting'] = dtable['text'].apply(is_greeting)\n",
    "    dtable['goodbye'] = dtable['text'].apply(is_goodbye_message)\n",
    "    \n",
    "    # уникальные имена\n",
    "    dialog_names = set((';'.join(list(dtable['names'].unique()))).split(';'))\n",
    "    print(dialog_names)\n",
    "    \n",
    "    # извлекаем имя менеджера и компании\n",
    "    dialog_info = extract_names(dialog_names, dialog_info)\n",
    "    if 'manager_name' not in dialog_info:\n",
    "        dialog_info['manager_name'] = 'unknown'\n",
    "    if 'company_name' not in dialog_info:\n",
    "        dialog_info['company_name'] = 'unknown'\n",
    "    \n",
    "    dtable['self_present'] = dtable.apply(lambda x: is_self_presentation(x['text'].lower(), dialog_info['manager_name'].lower()), axis=1)\n",
    "    print(dtable.query('self_present')['self_present'])\n",
    "    \n",
    "    # извлекаем приветственное сообщение\n",
    "    dgreeting = dtable.query('greeting')\n",
    "    dialog_info['greeting_message'] = {row['line_n']: row['text'] for index, row in dgreeting.iterrows()}\n",
    "    \n",
    "    # извлекаем прощальное сообщение\n",
    "    dgoodbye = dtable.query('goodbye')\n",
    "    dialog_info['goodbye_message'] = {row['line_n']: row['text'] for index, row in dgoodbye.iterrows()}\n",
    "    \n",
    "    # извлекаем реплику, где менеджер представляется\n",
    "    dself = dtable.query('self_present')\n",
    "    dialog_info['manager_self_presentation'] = {row['line_n']: row['text'] for index, row in dself.iterrows()}\n",
    "    \n",
    "    # выполнил ли менеджер поставленное условие (поздороваться и попрощаться)\n",
    "    dialog_info['requirement_done'] = (dgreeting.shape[0] != 0 and dgoodbye.shape[0] != 0)\n",
    "    \n",
    "    return dialog_info"
   ]
  },
  {
   "cell_type": "code",
   "execution_count": 199,
   "id": "8ed0e89b",
   "metadata": {},
   "outputs": [
    {
     "name": "stdout",
     "output_type": "stream",
     "text": [
      "{'', 'company=диджитал бизнес', 'manager=ангелина'}\n",
      "3    True\n",
      "Name: self_present, dtype: bool\n",
      "{'', 'company=диджитал бизнес', 'manager=ангелина'}\n",
      "111    True\n",
      "Name: self_present, dtype: bool\n",
      "{'', 'company=диджитал бизнес', 'manager=ангелина'}\n",
      "167    True\n",
      "Name: self_present, dtype: bool\n",
      "{'', 'company=китобизнес', 'manager=максим'}\n",
      "251    True\n",
      "Name: self_present, dtype: bool\n",
      "{''}\n",
      "Series([], Name: self_present, dtype: bool)\n",
      "{'', 'manager=анастасия'}\n",
      "338    True\n",
      "Name: self_present, dtype: bool\n"
     ]
    }
   ],
   "source": [
    "dialogs = {}\n",
    "for i in data['dlg_id'].unique():\n",
    "    dialogs[i] = parser_dialog(data.query('dlg_id == @i and role == \"manager\"'))"
   ]
  },
  {
   "cell_type": "code",
   "execution_count": 200,
   "id": "bb484458",
   "metadata": {},
   "outputs": [
    {
     "name": "stdout",
     "output_type": "stream",
     "text": [
      "{0: {'company_name': 'Диджитал бизнес', 'manager_name': 'Ангелина', 'greeting_message': {1: 'Алло здравствуйте'}, 'goodbye_message': {108: 'Всего хорошего до свидания'}, 'manager_self_presentation': {3: 'Меня зовут ангелина компания диджитал бизнес звоним вам по поводу продления лицензии а мы с серым у вас скоро срок заканчивается'}, 'requirement_done': True}, 1: {'company_name': 'Диджитал бизнес', 'manager_name': 'Ангелина', 'greeting_message': {1: 'Алло здравствуйте'}, 'goodbye_message': {53: 'Угу да вижу я эту почту хорошо тогда исправлю на эту будем ждать ответа всего хорошего', 54: 'До свидания'}, 'manager_self_presentation': {2: 'Меня зовут ангелина компания диджитал бизнес звоню вам по поводу продления а мы сели обратила внимание что у вас срок заканчивается'}, 'requirement_done': True}, 2: {'company_name': 'Диджитал бизнес', 'manager_name': 'Ангелина', 'greeting_message': {2: 'Алло здравствуйте'}, 'goodbye_message': {}, 'manager_self_presentation': {3: 'Меня зовут ангелина компания диджитал бизнес звоню вам по поводу продления лицензии а мастера мы с вами сотрудничали по видео там'}, 'requirement_done': False}, 3: {'company_name': 'Китобизнес', 'manager_name': 'Максим', 'greeting_message': {1: 'Алло дмитрий добрый день', 2: 'Добрый меня максим зовут компания китобизнес удобно говорить'}, 'goodbye_message': {51: 'Угу все хорошо да понедельника тогда всего доброго'}, 'manager_self_presentation': {2: 'Добрый меня максим зовут компания китобизнес удобно говорить'}, 'requirement_done': True}, 4: {'manager_name': 'unknown', 'company_name': 'unknown', 'greeting_message': {}, 'goodbye_message': {33: 'Во вторник все ну с вами да тогда до вторника до свидания'}, 'manager_self_presentation': {}, 'requirement_done': False}, 5: {'manager_name': 'Анастасия', 'company_name': 'unknown', 'greeting_message': {}, 'goodbye_message': {142: 'Ну до свидания хорошего вечера'}, 'manager_self_presentation': {1: 'Да это анастасия'}, 'requirement_done': False}}\n"
     ]
    }
   ],
   "source": [
    "print(dialogs)"
   ]
  },
  {
   "cell_type": "code",
   "execution_count": 202,
   "id": "e260299b",
   "metadata": {},
   "outputs": [],
   "source": [
    "def display_inf(inf):\n",
    "    if type(inf) == dict:\n",
    "        for key, value in dialog.items():\n",
    "            print(f'{key}: {display_inf(value)}')\n",
    "    else:\n",
    "        print(inf)"
   ]
  },
  {
   "cell_type": "code",
   "execution_count": 204,
   "id": "96b75e00",
   "metadata": {},
   "outputs": [
    {
     "data": {
      "text/plain": [
       "{'company_name': 'Диджитал бизнес',\n",
       " 'manager_name': 'Ангелина',\n",
       " 'greeting_message': {1: 'Алло здравствуйте'},\n",
       " 'goodbye_message': {108: 'Всего хорошего до свидания'},\n",
       " 'manager_self_presentation': {3: 'Меня зовут ангелина компания диджитал бизнес звоним вам по поводу продления лицензии а мы с серым у вас скоро срок заканчивается'},\n",
       " 'requirement_done': True}"
      ]
     },
     "metadata": {},
     "output_type": "display_data"
    },
    {
     "name": "stdout",
     "output_type": "stream",
     "text": [
      "-----------\n"
     ]
    },
    {
     "data": {
      "text/plain": [
       "{'company_name': 'Диджитал бизнес',\n",
       " 'manager_name': 'Ангелина',\n",
       " 'greeting_message': {1: 'Алло здравствуйте'},\n",
       " 'goodbye_message': {53: 'Угу да вижу я эту почту хорошо тогда исправлю на эту будем ждать ответа всего хорошего',\n",
       "  54: 'До свидания'},\n",
       " 'manager_self_presentation': {2: 'Меня зовут ангелина компания диджитал бизнес звоню вам по поводу продления а мы сели обратила внимание что у вас срок заканчивается'},\n",
       " 'requirement_done': True}"
      ]
     },
     "metadata": {},
     "output_type": "display_data"
    },
    {
     "name": "stdout",
     "output_type": "stream",
     "text": [
      "-----------\n"
     ]
    },
    {
     "data": {
      "text/plain": [
       "{'company_name': 'Диджитал бизнес',\n",
       " 'manager_name': 'Ангелина',\n",
       " 'greeting_message': {2: 'Алло здравствуйте'},\n",
       " 'goodbye_message': {},\n",
       " 'manager_self_presentation': {3: 'Меня зовут ангелина компания диджитал бизнес звоню вам по поводу продления лицензии а мастера мы с вами сотрудничали по видео там'},\n",
       " 'requirement_done': False}"
      ]
     },
     "metadata": {},
     "output_type": "display_data"
    },
    {
     "name": "stdout",
     "output_type": "stream",
     "text": [
      "-----------\n"
     ]
    },
    {
     "data": {
      "text/plain": [
       "{'company_name': 'Китобизнес',\n",
       " 'manager_name': 'Максим',\n",
       " 'greeting_message': {1: 'Алло дмитрий добрый день',\n",
       "  2: 'Добрый меня максим зовут компания китобизнес удобно говорить'},\n",
       " 'goodbye_message': {51: 'Угу все хорошо да понедельника тогда всего доброго'},\n",
       " 'manager_self_presentation': {2: 'Добрый меня максим зовут компания китобизнес удобно говорить'},\n",
       " 'requirement_done': True}"
      ]
     },
     "metadata": {},
     "output_type": "display_data"
    },
    {
     "name": "stdout",
     "output_type": "stream",
     "text": [
      "-----------\n"
     ]
    },
    {
     "data": {
      "text/plain": [
       "{'manager_name': 'unknown',\n",
       " 'company_name': 'unknown',\n",
       " 'greeting_message': {},\n",
       " 'goodbye_message': {33: 'Во вторник все ну с вами да тогда до вторника до свидания'},\n",
       " 'manager_self_presentation': {},\n",
       " 'requirement_done': False}"
      ]
     },
     "metadata": {},
     "output_type": "display_data"
    },
    {
     "name": "stdout",
     "output_type": "stream",
     "text": [
      "-----------\n"
     ]
    },
    {
     "data": {
      "text/plain": [
       "{'manager_name': 'Анастасия',\n",
       " 'company_name': 'unknown',\n",
       " 'greeting_message': {},\n",
       " 'goodbye_message': {142: 'Ну до свидания хорошего вечера'},\n",
       " 'manager_self_presentation': {1: 'Да это анастасия'},\n",
       " 'requirement_done': False}"
      ]
     },
     "metadata": {},
     "output_type": "display_data"
    },
    {
     "name": "stdout",
     "output_type": "stream",
     "text": [
      "-----------\n"
     ]
    }
   ],
   "source": [
    "for dlg, info in dialogs.items():\n",
    "    display(info)\n",
    "    print('-----------')"
   ]
  },
  {
   "cell_type": "code",
   "execution_count": null,
   "id": "4c41adf8",
   "metadata": {},
   "outputs": [],
   "source": []
  }
 ],
 "metadata": {
  "kernelspec": {
   "display_name": "Python 3 (ipykernel)",
   "language": "python",
   "name": "python3"
  },
  "language_info": {
   "codemirror_mode": {
    "name": "ipython",
    "version": 3
   },
   "file_extension": ".py",
   "mimetype": "text/x-python",
   "name": "python",
   "nbconvert_exporter": "python",
   "pygments_lexer": "ipython3",
   "version": "3.9.12"
  }
 },
 "nbformat": 4,
 "nbformat_minor": 5
}
